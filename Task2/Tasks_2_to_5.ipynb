{
 "cells": [
  {
   "cell_type": "markdown",
   "id": "96d29b16",
   "metadata": {},
   "source": [
    "## Import the necessary libraries"
   ]
  },
  {
   "cell_type": "code",
   "execution_count": 1,
   "id": "5a9910e0",
   "metadata": {},
   "outputs": [
    {
     "data": {
      "application/javascript": [
       "\n",
       "            setTimeout(function() {\n",
       "                var nbb_cell_id = 1;\n",
       "                var nbb_unformatted_code = \"# this will help in making the Python code more structured automatically (good coding practice)\\n%load_ext nb_black\\n\\n# Libraries to help with reading and manipulating data\\nimport numpy as np\\nimport pandas as pd\\n\\n# Libraries to help with data visualization\\nimport matplotlib.pyplot as plt\\nimport seaborn as sns\\n\\nsns.set()\\n\\n# Removes the limit from the number of displayed columns and rows.\\n# This is so I can see the entire dataframe when I print it\\npd.set_option(\\\"display.max_columns\\\", None)\\n# pd.set_option('display.max_rows', None)\\npd.set_option(\\\"display.max_rows\\\", 200)\\n\\nimport warnings\\n\\nwarnings.filterwarnings(\\\"ignore\\\")\";\n",
       "                var nbb_formatted_code = \"# this will help in making the Python code more structured automatically (good coding practice)\\n%load_ext nb_black\\n\\n# Libraries to help with reading and manipulating data\\nimport numpy as np\\nimport pandas as pd\\n\\n# Libraries to help with data visualization\\nimport matplotlib.pyplot as plt\\nimport seaborn as sns\\n\\nsns.set()\\n\\n# Removes the limit from the number of displayed columns and rows.\\n# This is so I can see the entire dataframe when I print it\\npd.set_option(\\\"display.max_columns\\\", None)\\n# pd.set_option('display.max_rows', None)\\npd.set_option(\\\"display.max_rows\\\", 200)\\n\\nimport warnings\\n\\nwarnings.filterwarnings(\\\"ignore\\\")\";\n",
       "                var nbb_cells = Jupyter.notebook.get_cells();\n",
       "                for (var i = 0; i < nbb_cells.length; ++i) {\n",
       "                    if (nbb_cells[i].input_prompt_number == nbb_cell_id) {\n",
       "                        if (nbb_cells[i].get_text() == nbb_unformatted_code) {\n",
       "                             nbb_cells[i].set_text(nbb_formatted_code);\n",
       "                        }\n",
       "                        break;\n",
       "                    }\n",
       "                }\n",
       "            }, 500);\n",
       "            "
      ],
      "text/plain": [
       "<IPython.core.display.Javascript object>"
      ]
     },
     "metadata": {},
     "output_type": "display_data"
    }
   ],
   "source": [
    "# this will help in making the Python code more structured automatically (good coding practice)\n",
    "%load_ext nb_black\n",
    "\n",
    "# Libraries to help with reading and manipulating data\n",
    "import numpy as np\n",
    "import pandas as pd\n",
    "\n",
    "# Libraries to help with data visualization\n",
    "import matplotlib.pyplot as plt\n",
    "import seaborn as sns\n",
    "\n",
    "sns.set()\n",
    "\n",
    "# Removes the limit from the number of displayed columns and rows.\n",
    "# This is so I can see the entire dataframe when I print it\n",
    "pd.set_option(\"display.max_columns\", None)\n",
    "# pd.set_option('display.max_rows', None)\n",
    "pd.set_option(\"display.max_rows\", 200)\n",
    "\n",
    "import warnings\n",
    "\n",
    "warnings.filterwarnings(\"ignore\")"
   ]
  },
  {
   "cell_type": "markdown",
   "id": "3f207b91",
   "metadata": {},
   "source": [
    "## Load and Explore the Data"
   ]
  },
  {
   "cell_type": "code",
   "execution_count": 2,
   "id": "8903a1bc",
   "metadata": {},
   "outputs": [
    {
     "data": {
      "application/javascript": [
       "\n",
       "            setTimeout(function() {\n",
       "                var nbb_cell_id = 2;\n",
       "                var nbb_unformatted_code = \"rawdata = pd.read_csv(\\\"event_data.csv\\\")\";\n",
       "                var nbb_formatted_code = \"rawdata = pd.read_csv(\\\"event_data.csv\\\")\";\n",
       "                var nbb_cells = Jupyter.notebook.get_cells();\n",
       "                for (var i = 0; i < nbb_cells.length; ++i) {\n",
       "                    if (nbb_cells[i].input_prompt_number == nbb_cell_id) {\n",
       "                        if (nbb_cells[i].get_text() == nbb_unformatted_code) {\n",
       "                             nbb_cells[i].set_text(nbb_formatted_code);\n",
       "                        }\n",
       "                        break;\n",
       "                    }\n",
       "                }\n",
       "            }, 500);\n",
       "            "
      ],
      "text/plain": [
       "<IPython.core.display.Javascript object>"
      ]
     },
     "metadata": {},
     "output_type": "display_data"
    }
   ],
   "source": [
    "rawdata = pd.read_csv(\"event_data.csv\")"
   ]
  },
  {
   "cell_type": "code",
   "execution_count": 3,
   "id": "c3d126d4",
   "metadata": {
    "scrolled": true
   },
   "outputs": [
    {
     "data": {
      "text/html": [
       "<div>\n",
       "<style scoped>\n",
       "    .dataframe tbody tr th:only-of-type {\n",
       "        vertical-align: middle;\n",
       "    }\n",
       "\n",
       "    .dataframe tbody tr th {\n",
       "        vertical-align: top;\n",
       "    }\n",
       "\n",
       "    .dataframe thead th {\n",
       "        text-align: right;\n",
       "    }\n",
       "</style>\n",
       "<table border=\"1\" class=\"dataframe\">\n",
       "  <thead>\n",
       "    <tr style=\"text-align: right;\">\n",
       "      <th></th>\n",
       "      <th>user_id</th>\n",
       "      <th>event_date</th>\n",
       "      <th>event_type</th>\n",
       "      <th>purchase_amount</th>\n",
       "    </tr>\n",
       "  </thead>\n",
       "  <tbody>\n",
       "    <tr>\n",
       "      <th>0</th>\n",
       "      <td>c40e6a</td>\n",
       "      <td>2019-07-29 00:02:15</td>\n",
       "      <td>registration</td>\n",
       "      <td>NaN</td>\n",
       "    </tr>\n",
       "    <tr>\n",
       "      <th>1</th>\n",
       "      <td>a2b682</td>\n",
       "      <td>2019-07-29 00:04:46</td>\n",
       "      <td>registration</td>\n",
       "      <td>NaN</td>\n",
       "    </tr>\n",
       "    <tr>\n",
       "      <th>2</th>\n",
       "      <td>9ac888</td>\n",
       "      <td>2019-07-29 00:13:22</td>\n",
       "      <td>registration</td>\n",
       "      <td>NaN</td>\n",
       "    </tr>\n",
       "    <tr>\n",
       "      <th>3</th>\n",
       "      <td>93ff22</td>\n",
       "      <td>2019-07-29 00:16:47</td>\n",
       "      <td>registration</td>\n",
       "      <td>NaN</td>\n",
       "    </tr>\n",
       "    <tr>\n",
       "      <th>4</th>\n",
       "      <td>65ef85</td>\n",
       "      <td>2019-07-29 00:19:23</td>\n",
       "      <td>registration</td>\n",
       "      <td>NaN</td>\n",
       "    </tr>\n",
       "    <tr>\n",
       "      <th>...</th>\n",
       "      <td>...</td>\n",
       "      <td>...</td>\n",
       "      <td>...</td>\n",
       "      <td>...</td>\n",
       "    </tr>\n",
       "    <tr>\n",
       "      <th>79737</th>\n",
       "      <td>930c23</td>\n",
       "      <td>2019-09-01 23:57:41</td>\n",
       "      <td>simple_event</td>\n",
       "      <td>NaN</td>\n",
       "    </tr>\n",
       "    <tr>\n",
       "      <th>79738</th>\n",
       "      <td>a84999</td>\n",
       "      <td>2019-09-01 23:57:50</td>\n",
       "      <td>simple_event</td>\n",
       "      <td>NaN</td>\n",
       "    </tr>\n",
       "    <tr>\n",
       "      <th>79739</th>\n",
       "      <td>175e4d</td>\n",
       "      <td>2019-09-01 23:59:40</td>\n",
       "      <td>simple_event</td>\n",
       "      <td>NaN</td>\n",
       "    </tr>\n",
       "    <tr>\n",
       "      <th>79740</th>\n",
       "      <td>1c2210</td>\n",
       "      <td>2019-09-01 23:59:51</td>\n",
       "      <td>simple_event</td>\n",
       "      <td>NaN</td>\n",
       "    </tr>\n",
       "    <tr>\n",
       "      <th>79741</th>\n",
       "      <td>d799dc</td>\n",
       "      <td>2019-09-01 23:59:54</td>\n",
       "      <td>simple_event</td>\n",
       "      <td>NaN</td>\n",
       "    </tr>\n",
       "  </tbody>\n",
       "</table>\n",
       "<p>79742 rows × 4 columns</p>\n",
       "</div>"
      ],
      "text/plain": [
       "      user_id           event_date    event_type  purchase_amount\n",
       "0      c40e6a  2019-07-29 00:02:15  registration              NaN\n",
       "1      a2b682  2019-07-29 00:04:46  registration              NaN\n",
       "2      9ac888  2019-07-29 00:13:22  registration              NaN\n",
       "3      93ff22  2019-07-29 00:16:47  registration              NaN\n",
       "4      65ef85  2019-07-29 00:19:23  registration              NaN\n",
       "...       ...                  ...           ...              ...\n",
       "79737  930c23  2019-09-01 23:57:41  simple_event              NaN\n",
       "79738  a84999  2019-09-01 23:57:50  simple_event              NaN\n",
       "79739  175e4d  2019-09-01 23:59:40  simple_event              NaN\n",
       "79740  1c2210  2019-09-01 23:59:51  simple_event              NaN\n",
       "79741  d799dc  2019-09-01 23:59:54  simple_event              NaN\n",
       "\n",
       "[79742 rows x 4 columns]"
      ]
     },
     "execution_count": 3,
     "metadata": {},
     "output_type": "execute_result"
    },
    {
     "data": {
      "application/javascript": [
       "\n",
       "            setTimeout(function() {\n",
       "                var nbb_cell_id = 3;\n",
       "                var nbb_unformatted_code = \"rawdata\";\n",
       "                var nbb_formatted_code = \"rawdata\";\n",
       "                var nbb_cells = Jupyter.notebook.get_cells();\n",
       "                for (var i = 0; i < nbb_cells.length; ++i) {\n",
       "                    if (nbb_cells[i].input_prompt_number == nbb_cell_id) {\n",
       "                        if (nbb_cells[i].get_text() == nbb_unformatted_code) {\n",
       "                             nbb_cells[i].set_text(nbb_formatted_code);\n",
       "                        }\n",
       "                        break;\n",
       "                    }\n",
       "                }\n",
       "            }, 500);\n",
       "            "
      ],
      "text/plain": [
       "<IPython.core.display.Javascript object>"
      ]
     },
     "metadata": {},
     "output_type": "display_data"
    }
   ],
   "source": [
    "rawdata"
   ]
  },
  {
   "cell_type": "markdown",
   "id": "91f9a764",
   "metadata": {},
   "source": [
    "Observations:\n",
    "* 79742 observations with 28 attributes"
   ]
  },
  {
   "cell_type": "code",
   "execution_count": 4,
   "id": "0aa25614",
   "metadata": {
    "scrolled": false
   },
   "outputs": [
    {
     "name": "stdout",
     "output_type": "stream",
     "text": [
      "<class 'pandas.core.frame.DataFrame'>\n",
      "RangeIndex: 79742 entries, 0 to 79741\n",
      "Data columns (total 4 columns):\n",
      " #   Column           Non-Null Count  Dtype  \n",
      "---  ------           --------------  -----  \n",
      " 0   user_id          79742 non-null  object \n",
      " 1   event_date       79742 non-null  object \n",
      " 2   event_type       79742 non-null  object \n",
      " 3   purchase_amount  6207 non-null   float64\n",
      "dtypes: float64(1), object(3)\n",
      "memory usage: 2.4+ MB\n"
     ]
    },
    {
     "data": {
      "application/javascript": [
       "\n",
       "            setTimeout(function() {\n",
       "                var nbb_cell_id = 4;\n",
       "                var nbb_unformatted_code = \"rawdata.info()\";\n",
       "                var nbb_formatted_code = \"rawdata.info()\";\n",
       "                var nbb_cells = Jupyter.notebook.get_cells();\n",
       "                for (var i = 0; i < nbb_cells.length; ++i) {\n",
       "                    if (nbb_cells[i].input_prompt_number == nbb_cell_id) {\n",
       "                        if (nbb_cells[i].get_text() == nbb_unformatted_code) {\n",
       "                             nbb_cells[i].set_text(nbb_formatted_code);\n",
       "                        }\n",
       "                        break;\n",
       "                    }\n",
       "                }\n",
       "            }, 500);\n",
       "            "
      ],
      "text/plain": [
       "<IPython.core.display.Javascript object>"
      ]
     },
     "metadata": {},
     "output_type": "display_data"
    }
   ],
   "source": [
    "rawdata.info()"
   ]
  },
  {
   "cell_type": "code",
   "execution_count": 5,
   "id": "c6c0f054",
   "metadata": {},
   "outputs": [
    {
     "data": {
      "application/javascript": [
       "\n",
       "            setTimeout(function() {\n",
       "                var nbb_cell_id = 5;\n",
       "                var nbb_unformatted_code = \"df = rawdata.copy()\";\n",
       "                var nbb_formatted_code = \"df = rawdata.copy()\";\n",
       "                var nbb_cells = Jupyter.notebook.get_cells();\n",
       "                for (var i = 0; i < nbb_cells.length; ++i) {\n",
       "                    if (nbb_cells[i].input_prompt_number == nbb_cell_id) {\n",
       "                        if (nbb_cells[i].get_text() == nbb_unformatted_code) {\n",
       "                             nbb_cells[i].set_text(nbb_formatted_code);\n",
       "                        }\n",
       "                        break;\n",
       "                    }\n",
       "                }\n",
       "            }, 500);\n",
       "            "
      ],
      "text/plain": [
       "<IPython.core.display.Javascript object>"
      ]
     },
     "metadata": {},
     "output_type": "display_data"
    }
   ],
   "source": [
    "df = rawdata.copy()"
   ]
  },
  {
   "cell_type": "code",
   "execution_count": 6,
   "id": "c64dbc53",
   "metadata": {
    "scrolled": false
   },
   "outputs": [
    {
     "data": {
      "text/plain": [
       "simple_event    63539\n",
       "registration     9996\n",
       "purchase         6207\n",
       "Name: event_type, dtype: int64"
      ]
     },
     "execution_count": 6,
     "metadata": {},
     "output_type": "execute_result"
    },
    {
     "data": {
      "application/javascript": [
       "\n",
       "            setTimeout(function() {\n",
       "                var nbb_cell_id = 6;\n",
       "                var nbb_unformatted_code = \"df[\\\"event_type\\\"].value_counts()\";\n",
       "                var nbb_formatted_code = \"df[\\\"event_type\\\"].value_counts()\";\n",
       "                var nbb_cells = Jupyter.notebook.get_cells();\n",
       "                for (var i = 0; i < nbb_cells.length; ++i) {\n",
       "                    if (nbb_cells[i].input_prompt_number == nbb_cell_id) {\n",
       "                        if (nbb_cells[i].get_text() == nbb_unformatted_code) {\n",
       "                             nbb_cells[i].set_text(nbb_formatted_code);\n",
       "                        }\n",
       "                        break;\n",
       "                    }\n",
       "                }\n",
       "            }, 500);\n",
       "            "
      ],
      "text/plain": [
       "<IPython.core.display.Javascript object>"
      ]
     },
     "metadata": {},
     "output_type": "display_data"
    }
   ],
   "source": [
    "df[\"event_type\"].value_counts()"
   ]
  },
  {
   "cell_type": "code",
   "execution_count": 7,
   "id": "cdbdfa96",
   "metadata": {},
   "outputs": [
    {
     "data": {
      "text/html": [
       "<div>\n",
       "<style scoped>\n",
       "    .dataframe tbody tr th:only-of-type {\n",
       "        vertical-align: middle;\n",
       "    }\n",
       "\n",
       "    .dataframe tbody tr th {\n",
       "        vertical-align: top;\n",
       "    }\n",
       "\n",
       "    .dataframe thead th {\n",
       "        text-align: right;\n",
       "    }\n",
       "</style>\n",
       "<table border=\"1\" class=\"dataframe\">\n",
       "  <thead>\n",
       "    <tr style=\"text-align: right;\">\n",
       "      <th></th>\n",
       "      <th>user_id</th>\n",
       "      <th>event_date</th>\n",
       "      <th>event_type</th>\n",
       "      <th>purchase_amount</th>\n",
       "    </tr>\n",
       "  </thead>\n",
       "  <tbody>\n",
       "    <tr>\n",
       "      <th>0</th>\n",
       "      <td>c40e6a</td>\n",
       "      <td>2019-07-29 00:02:15</td>\n",
       "      <td>registration</td>\n",
       "      <td>NaN</td>\n",
       "    </tr>\n",
       "    <tr>\n",
       "      <th>1</th>\n",
       "      <td>a2b682</td>\n",
       "      <td>2019-07-29 00:04:46</td>\n",
       "      <td>registration</td>\n",
       "      <td>NaN</td>\n",
       "    </tr>\n",
       "    <tr>\n",
       "      <th>2</th>\n",
       "      <td>9ac888</td>\n",
       "      <td>2019-07-29 00:13:22</td>\n",
       "      <td>registration</td>\n",
       "      <td>NaN</td>\n",
       "    </tr>\n",
       "    <tr>\n",
       "      <th>3</th>\n",
       "      <td>93ff22</td>\n",
       "      <td>2019-07-29 00:16:47</td>\n",
       "      <td>registration</td>\n",
       "      <td>NaN</td>\n",
       "    </tr>\n",
       "    <tr>\n",
       "      <th>4</th>\n",
       "      <td>65ef85</td>\n",
       "      <td>2019-07-29 00:19:23</td>\n",
       "      <td>registration</td>\n",
       "      <td>NaN</td>\n",
       "    </tr>\n",
       "  </tbody>\n",
       "</table>\n",
       "</div>"
      ],
      "text/plain": [
       "  user_id           event_date    event_type  purchase_amount\n",
       "0  c40e6a  2019-07-29 00:02:15  registration              NaN\n",
       "1  a2b682  2019-07-29 00:04:46  registration              NaN\n",
       "2  9ac888  2019-07-29 00:13:22  registration              NaN\n",
       "3  93ff22  2019-07-29 00:16:47  registration              NaN\n",
       "4  65ef85  2019-07-29 00:19:23  registration              NaN"
      ]
     },
     "execution_count": 7,
     "metadata": {},
     "output_type": "execute_result"
    },
    {
     "data": {
      "application/javascript": [
       "\n",
       "            setTimeout(function() {\n",
       "                var nbb_cell_id = 7;\n",
       "                var nbb_unformatted_code = \"registrations = df[df[\\\"event_type\\\"] == \\\"registration\\\"].copy()\\nregistrations.head()\";\n",
       "                var nbb_formatted_code = \"registrations = df[df[\\\"event_type\\\"] == \\\"registration\\\"].copy()\\nregistrations.head()\";\n",
       "                var nbb_cells = Jupyter.notebook.get_cells();\n",
       "                for (var i = 0; i < nbb_cells.length; ++i) {\n",
       "                    if (nbb_cells[i].input_prompt_number == nbb_cell_id) {\n",
       "                        if (nbb_cells[i].get_text() == nbb_unformatted_code) {\n",
       "                             nbb_cells[i].set_text(nbb_formatted_code);\n",
       "                        }\n",
       "                        break;\n",
       "                    }\n",
       "                }\n",
       "            }, 500);\n",
       "            "
      ],
      "text/plain": [
       "<IPython.core.display.Javascript object>"
      ]
     },
     "metadata": {},
     "output_type": "display_data"
    }
   ],
   "source": [
    "registrations = df[df[\"event_type\"] == \"registration\"].copy()\n",
    "registrations.head()"
   ]
  },
  {
   "cell_type": "markdown",
   "id": "c3fc1bb8",
   "metadata": {},
   "source": [
    "## Task 2. Problem-solving\n",
    "**Time for task 2: 40min** "
   ]
  },
  {
   "cell_type": "markdown",
   "id": "9f9f1833",
   "metadata": {},
   "source": [
    "### 2. Highlight user cohorts based on the week of registration in the application. \n",
    "* The cohort identifier should be the week ordinal (for example, the week from July 29 to August 4\n",
    "should have identifier 31)."
   ]
  },
  {
   "cell_type": "code",
   "execution_count": 8,
   "id": "1465d3a1",
   "metadata": {},
   "outputs": [
    {
     "data": {
      "text/plain": [
       "31"
      ]
     },
     "execution_count": 8,
     "metadata": {},
     "output_type": "execute_result"
    },
    {
     "data": {
      "application/javascript": [
       "\n",
       "            setTimeout(function() {\n",
       "                var nbb_cell_id = 8;\n",
       "                var nbb_unformatted_code = \"# testing for week ordinal\\nimport datetime\\n\\ndatetime.date(2019, 7, 29).isocalendar()[1]\";\n",
       "                var nbb_formatted_code = \"# testing for week ordinal\\nimport datetime\\n\\ndatetime.date(2019, 7, 29).isocalendar()[1]\";\n",
       "                var nbb_cells = Jupyter.notebook.get_cells();\n",
       "                for (var i = 0; i < nbb_cells.length; ++i) {\n",
       "                    if (nbb_cells[i].input_prompt_number == nbb_cell_id) {\n",
       "                        if (nbb_cells[i].get_text() == nbb_unformatted_code) {\n",
       "                             nbb_cells[i].set_text(nbb_formatted_code);\n",
       "                        }\n",
       "                        break;\n",
       "                    }\n",
       "                }\n",
       "            }, 500);\n",
       "            "
      ],
      "text/plain": [
       "<IPython.core.display.Javascript object>"
      ]
     },
     "metadata": {},
     "output_type": "display_data"
    }
   ],
   "source": [
    "# testing for week ordinal\n",
    "import datetime\n",
    "\n",
    "datetime.date(2019, 7, 29).isocalendar()[1]"
   ]
  },
  {
   "cell_type": "code",
   "execution_count": 9,
   "id": "7650ad89",
   "metadata": {
    "scrolled": true
   },
   "outputs": [
    {
     "data": {
      "application/javascript": [
       "\n",
       "            setTimeout(function() {\n",
       "                var nbb_cell_id = 9;\n",
       "                var nbb_unformatted_code = \"registrations[\\\"Date\\\"] = pd.to_datetime(registrations[\\\"event_date\\\"])\";\n",
       "                var nbb_formatted_code = \"registrations[\\\"Date\\\"] = pd.to_datetime(registrations[\\\"event_date\\\"])\";\n",
       "                var nbb_cells = Jupyter.notebook.get_cells();\n",
       "                for (var i = 0; i < nbb_cells.length; ++i) {\n",
       "                    if (nbb_cells[i].input_prompt_number == nbb_cell_id) {\n",
       "                        if (nbb_cells[i].get_text() == nbb_unformatted_code) {\n",
       "                             nbb_cells[i].set_text(nbb_formatted_code);\n",
       "                        }\n",
       "                        break;\n",
       "                    }\n",
       "                }\n",
       "            }, 500);\n",
       "            "
      ],
      "text/plain": [
       "<IPython.core.display.Javascript object>"
      ]
     },
     "metadata": {},
     "output_type": "display_data"
    }
   ],
   "source": [
    "registrations[\"Date\"] = pd.to_datetime(registrations[\"event_date\"])"
   ]
  },
  {
   "cell_type": "code",
   "execution_count": 10,
   "id": "3ca68072",
   "metadata": {},
   "outputs": [
    {
     "data": {
      "text/plain": [
       "0"
      ]
     },
     "execution_count": 10,
     "metadata": {},
     "output_type": "execute_result"
    },
    {
     "data": {
      "application/javascript": [
       "\n",
       "            setTimeout(function() {\n",
       "                var nbb_cell_id = 10;\n",
       "                var nbb_unformatted_code = \"registrations[\\\"Date\\\"].isnull().sum()\";\n",
       "                var nbb_formatted_code = \"registrations[\\\"Date\\\"].isnull().sum()\";\n",
       "                var nbb_cells = Jupyter.notebook.get_cells();\n",
       "                for (var i = 0; i < nbb_cells.length; ++i) {\n",
       "                    if (nbb_cells[i].input_prompt_number == nbb_cell_id) {\n",
       "                        if (nbb_cells[i].get_text() == nbb_unformatted_code) {\n",
       "                             nbb_cells[i].set_text(nbb_formatted_code);\n",
       "                        }\n",
       "                        break;\n",
       "                    }\n",
       "                }\n",
       "            }, 500);\n",
       "            "
      ],
      "text/plain": [
       "<IPython.core.display.Javascript object>"
      ]
     },
     "metadata": {},
     "output_type": "display_data"
    }
   ],
   "source": [
    "registrations[\"Date\"].isnull().sum()"
   ]
  },
  {
   "cell_type": "code",
   "execution_count": 11,
   "id": "5789f407",
   "metadata": {
    "scrolled": true
   },
   "outputs": [
    {
     "data": {
      "text/html": [
       "<div>\n",
       "<style scoped>\n",
       "    .dataframe tbody tr th:only-of-type {\n",
       "        vertical-align: middle;\n",
       "    }\n",
       "\n",
       "    .dataframe tbody tr th {\n",
       "        vertical-align: top;\n",
       "    }\n",
       "\n",
       "    .dataframe thead th {\n",
       "        text-align: right;\n",
       "    }\n",
       "</style>\n",
       "<table border=\"1\" class=\"dataframe\">\n",
       "  <thead>\n",
       "    <tr style=\"text-align: right;\">\n",
       "      <th></th>\n",
       "      <th>user_id</th>\n",
       "      <th>event_date</th>\n",
       "      <th>event_type</th>\n",
       "      <th>purchase_amount</th>\n",
       "      <th>Date</th>\n",
       "      <th>Registration_Cohort</th>\n",
       "    </tr>\n",
       "  </thead>\n",
       "  <tbody>\n",
       "    <tr>\n",
       "      <th>4089</th>\n",
       "      <td>d487cd</td>\n",
       "      <td>2019-08-03 17:37:05</td>\n",
       "      <td>registration</td>\n",
       "      <td>NaN</td>\n",
       "      <td>2019-08-03 17:37:05</td>\n",
       "      <td>31</td>\n",
       "    </tr>\n",
       "    <tr>\n",
       "      <th>65706</th>\n",
       "      <td>03e7e5</td>\n",
       "      <td>2019-08-28 12:50:53</td>\n",
       "      <td>registration</td>\n",
       "      <td>NaN</td>\n",
       "      <td>2019-08-28 12:50:53</td>\n",
       "      <td>35</td>\n",
       "    </tr>\n",
       "    <tr>\n",
       "      <th>49842</th>\n",
       "      <td>b1fda0</td>\n",
       "      <td>2019-08-23 09:28:16</td>\n",
       "      <td>registration</td>\n",
       "      <td>NaN</td>\n",
       "      <td>2019-08-23 09:28:16</td>\n",
       "      <td>34</td>\n",
       "    </tr>\n",
       "    <tr>\n",
       "      <th>56669</th>\n",
       "      <td>4037ba</td>\n",
       "      <td>2019-08-25 15:22:21</td>\n",
       "      <td>registration</td>\n",
       "      <td>NaN</td>\n",
       "      <td>2019-08-25 15:22:21</td>\n",
       "      <td>34</td>\n",
       "    </tr>\n",
       "    <tr>\n",
       "      <th>9279</th>\n",
       "      <td>b22c16</td>\n",
       "      <td>2019-08-07 05:06:08</td>\n",
       "      <td>registration</td>\n",
       "      <td>NaN</td>\n",
       "      <td>2019-08-07 05:06:08</td>\n",
       "      <td>32</td>\n",
       "    </tr>\n",
       "  </tbody>\n",
       "</table>\n",
       "</div>"
      ],
      "text/plain": [
       "      user_id           event_date    event_type  purchase_amount  \\\n",
       "4089   d487cd  2019-08-03 17:37:05  registration              NaN   \n",
       "65706  03e7e5  2019-08-28 12:50:53  registration              NaN   \n",
       "49842  b1fda0  2019-08-23 09:28:16  registration              NaN   \n",
       "56669  4037ba  2019-08-25 15:22:21  registration              NaN   \n",
       "9279   b22c16  2019-08-07 05:06:08  registration              NaN   \n",
       "\n",
       "                     Date  Registration_Cohort  \n",
       "4089  2019-08-03 17:37:05                   31  \n",
       "65706 2019-08-28 12:50:53                   35  \n",
       "49842 2019-08-23 09:28:16                   34  \n",
       "56669 2019-08-25 15:22:21                   34  \n",
       "9279  2019-08-07 05:06:08                   32  "
      ]
     },
     "execution_count": 11,
     "metadata": {},
     "output_type": "execute_result"
    },
    {
     "data": {
      "application/javascript": [
       "\n",
       "            setTimeout(function() {\n",
       "                var nbb_cell_id = 11;\n",
       "                var nbb_unformatted_code = \"registrations[\\\"Registration_Cohort\\\"] = registrations[\\\"Date\\\"].dt.isocalendar().week\\nregistrations.sample(5, random_state=4)\";\n",
       "                var nbb_formatted_code = \"registrations[\\\"Registration_Cohort\\\"] = registrations[\\\"Date\\\"].dt.isocalendar().week\\nregistrations.sample(5, random_state=4)\";\n",
       "                var nbb_cells = Jupyter.notebook.get_cells();\n",
       "                for (var i = 0; i < nbb_cells.length; ++i) {\n",
       "                    if (nbb_cells[i].input_prompt_number == nbb_cell_id) {\n",
       "                        if (nbb_cells[i].get_text() == nbb_unformatted_code) {\n",
       "                             nbb_cells[i].set_text(nbb_formatted_code);\n",
       "                        }\n",
       "                        break;\n",
       "                    }\n",
       "                }\n",
       "            }, 500);\n",
       "            "
      ],
      "text/plain": [
       "<IPython.core.display.Javascript object>"
      ]
     },
     "metadata": {},
     "output_type": "display_data"
    }
   ],
   "source": [
    "registrations[\"Registration_Cohort\"] = registrations[\"Date\"].dt.isocalendar().week\n",
    "registrations.sample(5, random_state=4)"
   ]
  },
  {
   "cell_type": "markdown",
   "id": "d90c3af0",
   "metadata": {},
   "source": [
    "Obervations:\n",
    "* The column \"Registration_Cohort\" contains the Cohort of each unique user based on it's registration date"
   ]
  },
  {
   "cell_type": "code",
   "execution_count": 12,
   "id": "62b0e6f2",
   "metadata": {},
   "outputs": [
    {
     "data": {
      "application/javascript": [
       "\n",
       "            setTimeout(function() {\n",
       "                var nbb_cell_id = 12;\n",
       "                var nbb_unformatted_code = \"# registrations[\\\"Date\\\"].dt.date\";\n",
       "                var nbb_formatted_code = \"# registrations[\\\"Date\\\"].dt.date\";\n",
       "                var nbb_cells = Jupyter.notebook.get_cells();\n",
       "                for (var i = 0; i < nbb_cells.length; ++i) {\n",
       "                    if (nbb_cells[i].input_prompt_number == nbb_cell_id) {\n",
       "                        if (nbb_cells[i].get_text() == nbb_unformatted_code) {\n",
       "                             nbb_cells[i].set_text(nbb_formatted_code);\n",
       "                        }\n",
       "                        break;\n",
       "                    }\n",
       "                }\n",
       "            }, 500);\n",
       "            "
      ],
      "text/plain": [
       "<IPython.core.display.Javascript object>"
      ]
     },
     "metadata": {},
     "output_type": "display_data"
    }
   ],
   "source": [
    "# registrations[\"Date\"].dt.date"
   ]
  },
  {
   "cell_type": "markdown",
   "id": "98d2d922",
   "metadata": {},
   "source": [
    "### 3. How many unique users in the cohort with ID 33?\n",
    "\n",
    "There are 79742 user ids\n",
    "\n",
    "There are 9996 unique users\n",
    "\n",
    "There are 69746 duplicated entries of user id"
   ]
  },
  {
   "cell_type": "code",
   "execution_count": 13,
   "id": "2c33c4ce",
   "metadata": {},
   "outputs": [
    {
     "data": {
      "application/javascript": [
       "\n",
       "            setTimeout(function() {\n",
       "                var nbb_cell_id = 13;\n",
       "                var nbb_unformatted_code = \"df[\\\"Date\\\"] = pd.to_datetime(df[\\\"event_date\\\"])\\ndf[\\\"Event_Cohort\\\"] = df[\\\"Date\\\"].dt.isocalendar().week\";\n",
       "                var nbb_formatted_code = \"df[\\\"Date\\\"] = pd.to_datetime(df[\\\"event_date\\\"])\\ndf[\\\"Event_Cohort\\\"] = df[\\\"Date\\\"].dt.isocalendar().week\";\n",
       "                var nbb_cells = Jupyter.notebook.get_cells();\n",
       "                for (var i = 0; i < nbb_cells.length; ++i) {\n",
       "                    if (nbb_cells[i].input_prompt_number == nbb_cell_id) {\n",
       "                        if (nbb_cells[i].get_text() == nbb_unformatted_code) {\n",
       "                             nbb_cells[i].set_text(nbb_formatted_code);\n",
       "                        }\n",
       "                        break;\n",
       "                    }\n",
       "                }\n",
       "            }, 500);\n",
       "            "
      ],
      "text/plain": [
       "<IPython.core.display.Javascript object>"
      ]
     },
     "metadata": {},
     "output_type": "display_data"
    }
   ],
   "source": [
    "df[\"Date\"] = pd.to_datetime(df[\"event_date\"])\n",
    "df[\"Event_Cohort\"] = df[\"Date\"].dt.isocalendar().week"
   ]
  },
  {
   "cell_type": "code",
   "execution_count": 14,
   "id": "f95bf816",
   "metadata": {},
   "outputs": [
    {
     "name": "stdout",
     "output_type": "stream",
     "text": [
      "There are 9996 unique users\n"
     ]
    },
    {
     "data": {
      "application/javascript": [
       "\n",
       "            setTimeout(function() {\n",
       "                var nbb_cell_id = 14;\n",
       "                var nbb_unformatted_code = \"# 3. How many unique users in the cohort with ID 33?\\nunique_ID = len(set(df[\\\"user_id\\\"].str.strip()))\\nprint(f\\\"There are {unique_ID} unique users\\\")\";\n",
       "                var nbb_formatted_code = \"# 3. How many unique users in the cohort with ID 33?\\nunique_ID = len(set(df[\\\"user_id\\\"].str.strip()))\\nprint(f\\\"There are {unique_ID} unique users\\\")\";\n",
       "                var nbb_cells = Jupyter.notebook.get_cells();\n",
       "                for (var i = 0; i < nbb_cells.length; ++i) {\n",
       "                    if (nbb_cells[i].input_prompt_number == nbb_cell_id) {\n",
       "                        if (nbb_cells[i].get_text() == nbb_unformatted_code) {\n",
       "                             nbb_cells[i].set_text(nbb_formatted_code);\n",
       "                        }\n",
       "                        break;\n",
       "                    }\n",
       "                }\n",
       "            }, 500);\n",
       "            "
      ],
      "text/plain": [
       "<IPython.core.display.Javascript object>"
      ]
     },
     "metadata": {},
     "output_type": "display_data"
    }
   ],
   "source": [
    "# 3. How many unique users in the cohort with ID 33?\n",
    "unique_ID = len(set(df[\"user_id\"].str.strip()))\n",
    "print(f\"There are {unique_ID} unique users\")"
   ]
  },
  {
   "cell_type": "code",
   "execution_count": 15,
   "id": "206a4426",
   "metadata": {
    "scrolled": true
   },
   "outputs": [
    {
     "name": "stdout",
     "output_type": "stream",
     "text": [
      "There are 5102 unique users in the Cohort 33\n"
     ]
    },
    {
     "data": {
      "application/javascript": [
       "\n",
       "            setTimeout(function() {\n",
       "                var nbb_cell_id = 15;\n",
       "                var nbb_unformatted_code = \"a = df[[\\\"user_id\\\", \\\"Event_Cohort\\\"]]\\nunique_users_Cohort_33 = a[a[\\\"Event_Cohort\\\"] == 33].drop_duplicates(subset=[\\\"user_id\\\"])\\nprint(f\\\"There are {unique_users_Cohort_33.shape[0]} unique users in the Cohort 33\\\")\";\n",
       "                var nbb_formatted_code = \"a = df[[\\\"user_id\\\", \\\"Event_Cohort\\\"]]\\nunique_users_Cohort_33 = a[a[\\\"Event_Cohort\\\"] == 33].drop_duplicates(subset=[\\\"user_id\\\"])\\nprint(f\\\"There are {unique_users_Cohort_33.shape[0]} unique users in the Cohort 33\\\")\";\n",
       "                var nbb_cells = Jupyter.notebook.get_cells();\n",
       "                for (var i = 0; i < nbb_cells.length; ++i) {\n",
       "                    if (nbb_cells[i].input_prompt_number == nbb_cell_id) {\n",
       "                        if (nbb_cells[i].get_text() == nbb_unformatted_code) {\n",
       "                             nbb_cells[i].set_text(nbb_formatted_code);\n",
       "                        }\n",
       "                        break;\n",
       "                    }\n",
       "                }\n",
       "            }, 500);\n",
       "            "
      ],
      "text/plain": [
       "<IPython.core.display.Javascript object>"
      ]
     },
     "metadata": {},
     "output_type": "display_data"
    }
   ],
   "source": [
    "a = df[[\"user_id\", \"Event_Cohort\"]]\n",
    "unique_users_Cohort_33 = a[a[\"Event_Cohort\"] == 33].drop_duplicates(subset=[\"user_id\"])\n",
    "print(f\"There are {unique_users_Cohort_33.shape[0]} unique users in the Cohort 33\")"
   ]
  },
  {
   "cell_type": "markdown",
   "id": "1a6661f6",
   "metadata": {},
   "source": [
    "### 4. For each event, highlight the indicator lifetime - the weekly lifetime of the cohort. \n",
    "The lifetime indicator is calculated based on the serial number of the week in which the event\n",
    "is committed, relative to the week of registration. For example, an event committed on\n",
    "August 3 by a user from a cohort of registrants at 31 weeks will be committed on the zero\n",
    "week of lifetime, and an event committed by the same user on August 5 will be committed\n",
    "on the first week of lifetime)."
   ]
  },
  {
   "cell_type": "code",
   "execution_count": 16,
   "id": "62e8c54d",
   "metadata": {
    "scrolled": true
   },
   "outputs": [
    {
     "data": {
      "application/javascript": [
       "\n",
       "            setTimeout(function() {\n",
       "                var nbb_cell_id = 16;\n",
       "                var nbb_unformatted_code = \"reg_cohort = registrations[[\\\"user_id\\\", \\\"Registration_Cohort\\\"]]\";\n",
       "                var nbb_formatted_code = \"reg_cohort = registrations[[\\\"user_id\\\", \\\"Registration_Cohort\\\"]]\";\n",
       "                var nbb_cells = Jupyter.notebook.get_cells();\n",
       "                for (var i = 0; i < nbb_cells.length; ++i) {\n",
       "                    if (nbb_cells[i].input_prompt_number == nbb_cell_id) {\n",
       "                        if (nbb_cells[i].get_text() == nbb_unformatted_code) {\n",
       "                             nbb_cells[i].set_text(nbb_formatted_code);\n",
       "                        }\n",
       "                        break;\n",
       "                    }\n",
       "                }\n",
       "            }, 500);\n",
       "            "
      ],
      "text/plain": [
       "<IPython.core.display.Javascript object>"
      ]
     },
     "metadata": {},
     "output_type": "display_data"
    }
   ],
   "source": [
    "reg_cohort = registrations[[\"user_id\", \"Registration_Cohort\"]]"
   ]
  },
  {
   "cell_type": "code",
   "execution_count": 17,
   "id": "8c52d228",
   "metadata": {},
   "outputs": [
    {
     "name": "stdout",
     "output_type": "stream",
     "text": [
      "Original Data 79742\n",
      "Merged Data 79742\n"
     ]
    },
    {
     "data": {
      "application/javascript": [
       "\n",
       "            setTimeout(function() {\n",
       "                var nbb_cell_id = 17;\n",
       "                var nbb_unformatted_code = \"dataset_merged = pd.merge(\\n    left=df, right=reg_cohort, how=\\\"left\\\", left_on=\\\"user_id\\\", right_on=\\\"user_id\\\",\\n)\\nprint(\\\"Original Data\\\", len(df))\\nprint(\\\"Merged Data\\\", len(dataset_merged))\";\n",
       "                var nbb_formatted_code = \"dataset_merged = pd.merge(\\n    left=df, right=reg_cohort, how=\\\"left\\\", left_on=\\\"user_id\\\", right_on=\\\"user_id\\\",\\n)\\nprint(\\\"Original Data\\\", len(df))\\nprint(\\\"Merged Data\\\", len(dataset_merged))\";\n",
       "                var nbb_cells = Jupyter.notebook.get_cells();\n",
       "                for (var i = 0; i < nbb_cells.length; ++i) {\n",
       "                    if (nbb_cells[i].input_prompt_number == nbb_cell_id) {\n",
       "                        if (nbb_cells[i].get_text() == nbb_unformatted_code) {\n",
       "                             nbb_cells[i].set_text(nbb_formatted_code);\n",
       "                        }\n",
       "                        break;\n",
       "                    }\n",
       "                }\n",
       "            }, 500);\n",
       "            "
      ],
      "text/plain": [
       "<IPython.core.display.Javascript object>"
      ]
     },
     "metadata": {},
     "output_type": "display_data"
    }
   ],
   "source": [
    "dataset_merged = pd.merge(\n",
    "    left=df, right=reg_cohort, how=\"left\", left_on=\"user_id\", right_on=\"user_id\",\n",
    ")\n",
    "print(\"Original Data\", len(df))\n",
    "print(\"Merged Data\", len(dataset_merged))"
   ]
  },
  {
   "cell_type": "code",
   "execution_count": 18,
   "id": "e113c856",
   "metadata": {},
   "outputs": [
    {
     "data": {
      "text/html": [
       "<div>\n",
       "<style scoped>\n",
       "    .dataframe tbody tr th:only-of-type {\n",
       "        vertical-align: middle;\n",
       "    }\n",
       "\n",
       "    .dataframe tbody tr th {\n",
       "        vertical-align: top;\n",
       "    }\n",
       "\n",
       "    .dataframe thead th {\n",
       "        text-align: right;\n",
       "    }\n",
       "</style>\n",
       "<table border=\"1\" class=\"dataframe\">\n",
       "  <thead>\n",
       "    <tr style=\"text-align: right;\">\n",
       "      <th></th>\n",
       "      <th>user_id</th>\n",
       "      <th>event_date</th>\n",
       "      <th>event_type</th>\n",
       "      <th>purchase_amount</th>\n",
       "      <th>Date</th>\n",
       "      <th>Event_Cohort</th>\n",
       "      <th>Registration_Cohort</th>\n",
       "    </tr>\n",
       "  </thead>\n",
       "  <tbody>\n",
       "    <tr>\n",
       "      <th>36955</th>\n",
       "      <td>9a3e03</td>\n",
       "      <td>2019-08-18 23:10:02</td>\n",
       "      <td>simple_event</td>\n",
       "      <td>NaN</td>\n",
       "      <td>2019-08-18 23:10:02</td>\n",
       "      <td>33</td>\n",
       "      <td>32</td>\n",
       "    </tr>\n",
       "    <tr>\n",
       "      <th>70616</th>\n",
       "      <td>0288fb</td>\n",
       "      <td>2019-08-30 03:10:46</td>\n",
       "      <td>simple_event</td>\n",
       "      <td>NaN</td>\n",
       "      <td>2019-08-30 03:10:46</td>\n",
       "      <td>35</td>\n",
       "      <td>35</td>\n",
       "    </tr>\n",
       "    <tr>\n",
       "      <th>5573</th>\n",
       "      <td>1814c7</td>\n",
       "      <td>2019-08-04 20:47:07</td>\n",
       "      <td>simple_event</td>\n",
       "      <td>NaN</td>\n",
       "      <td>2019-08-04 20:47:07</td>\n",
       "      <td>31</td>\n",
       "      <td>31</td>\n",
       "    </tr>\n",
       "    <tr>\n",
       "      <th>15599</th>\n",
       "      <td>52b461</td>\n",
       "      <td>2019-08-10 11:48:30</td>\n",
       "      <td>simple_event</td>\n",
       "      <td>NaN</td>\n",
       "      <td>2019-08-10 11:48:30</td>\n",
       "      <td>32</td>\n",
       "      <td>32</td>\n",
       "    </tr>\n",
       "    <tr>\n",
       "      <th>43314</th>\n",
       "      <td>ca1868</td>\n",
       "      <td>2019-08-21 04:41:56</td>\n",
       "      <td>simple_event</td>\n",
       "      <td>NaN</td>\n",
       "      <td>2019-08-21 04:41:56</td>\n",
       "      <td>34</td>\n",
       "      <td>32</td>\n",
       "    </tr>\n",
       "  </tbody>\n",
       "</table>\n",
       "</div>"
      ],
      "text/plain": [
       "      user_id           event_date    event_type  purchase_amount  \\\n",
       "36955  9a3e03  2019-08-18 23:10:02  simple_event              NaN   \n",
       "70616  0288fb  2019-08-30 03:10:46  simple_event              NaN   \n",
       "5573   1814c7  2019-08-04 20:47:07  simple_event              NaN   \n",
       "15599  52b461  2019-08-10 11:48:30  simple_event              NaN   \n",
       "43314  ca1868  2019-08-21 04:41:56  simple_event              NaN   \n",
       "\n",
       "                     Date  Event_Cohort  Registration_Cohort  \n",
       "36955 2019-08-18 23:10:02            33                   32  \n",
       "70616 2019-08-30 03:10:46            35                   35  \n",
       "5573  2019-08-04 20:47:07            31                   31  \n",
       "15599 2019-08-10 11:48:30            32                   32  \n",
       "43314 2019-08-21 04:41:56            34                   32  "
      ]
     },
     "execution_count": 18,
     "metadata": {},
     "output_type": "execute_result"
    },
    {
     "data": {
      "application/javascript": [
       "\n",
       "            setTimeout(function() {\n",
       "                var nbb_cell_id = 18;\n",
       "                var nbb_unformatted_code = \"dataset_merged.sample(5, random_state=6)\";\n",
       "                var nbb_formatted_code = \"dataset_merged.sample(5, random_state=6)\";\n",
       "                var nbb_cells = Jupyter.notebook.get_cells();\n",
       "                for (var i = 0; i < nbb_cells.length; ++i) {\n",
       "                    if (nbb_cells[i].input_prompt_number == nbb_cell_id) {\n",
       "                        if (nbb_cells[i].get_text() == nbb_unformatted_code) {\n",
       "                             nbb_cells[i].set_text(nbb_formatted_code);\n",
       "                        }\n",
       "                        break;\n",
       "                    }\n",
       "                }\n",
       "            }, 500);\n",
       "            "
      ],
      "text/plain": [
       "<IPython.core.display.Javascript object>"
      ]
     },
     "metadata": {},
     "output_type": "display_data"
    }
   ],
   "source": [
    "dataset_merged.sample(5, random_state=6)"
   ]
  },
  {
   "cell_type": "code",
   "execution_count": 19,
   "id": "535d25a8",
   "metadata": {},
   "outputs": [
    {
     "data": {
      "application/javascript": [
       "\n",
       "            setTimeout(function() {\n",
       "                var nbb_cell_id = 19;\n",
       "                var nbb_unformatted_code = \"dataset_merged[\\\"Weekly_Lifetime_indicator\\\"] = (\\n    dataset_merged[\\\"Event_Cohort\\\"] - dataset_merged[\\\"Registration_Cohort\\\"]\\n)\";\n",
       "                var nbb_formatted_code = \"dataset_merged[\\\"Weekly_Lifetime_indicator\\\"] = (\\n    dataset_merged[\\\"Event_Cohort\\\"] - dataset_merged[\\\"Registration_Cohort\\\"]\\n)\";\n",
       "                var nbb_cells = Jupyter.notebook.get_cells();\n",
       "                for (var i = 0; i < nbb_cells.length; ++i) {\n",
       "                    if (nbb_cells[i].input_prompt_number == nbb_cell_id) {\n",
       "                        if (nbb_cells[i].get_text() == nbb_unformatted_code) {\n",
       "                             nbb_cells[i].set_text(nbb_formatted_code);\n",
       "                        }\n",
       "                        break;\n",
       "                    }\n",
       "                }\n",
       "            }, 500);\n",
       "            "
      ],
      "text/plain": [
       "<IPython.core.display.Javascript object>"
      ]
     },
     "metadata": {},
     "output_type": "display_data"
    }
   ],
   "source": [
    "dataset_merged[\"Weekly_Lifetime_indicator\"] = (\n",
    "    dataset_merged[\"Event_Cohort\"] - dataset_merged[\"Registration_Cohort\"]\n",
    ")"
   ]
  },
  {
   "cell_type": "code",
   "execution_count": 20,
   "id": "de5f8c62",
   "metadata": {
    "scrolled": true
   },
   "outputs": [
    {
     "data": {
      "text/html": [
       "<div>\n",
       "<style scoped>\n",
       "    .dataframe tbody tr th:only-of-type {\n",
       "        vertical-align: middle;\n",
       "    }\n",
       "\n",
       "    .dataframe tbody tr th {\n",
       "        vertical-align: top;\n",
       "    }\n",
       "\n",
       "    .dataframe thead th {\n",
       "        text-align: right;\n",
       "    }\n",
       "</style>\n",
       "<table border=\"1\" class=\"dataframe\">\n",
       "  <thead>\n",
       "    <tr style=\"text-align: right;\">\n",
       "      <th></th>\n",
       "      <th>user_id</th>\n",
       "      <th>event_date</th>\n",
       "      <th>event_type</th>\n",
       "      <th>purchase_amount</th>\n",
       "      <th>Date</th>\n",
       "      <th>Event_Cohort</th>\n",
       "      <th>Registration_Cohort</th>\n",
       "      <th>Weekly_Lifetime_indicator</th>\n",
       "    </tr>\n",
       "  </thead>\n",
       "  <tbody>\n",
       "    <tr>\n",
       "      <th>36955</th>\n",
       "      <td>9a3e03</td>\n",
       "      <td>2019-08-18 23:10:02</td>\n",
       "      <td>simple_event</td>\n",
       "      <td>NaN</td>\n",
       "      <td>2019-08-18 23:10:02</td>\n",
       "      <td>33</td>\n",
       "      <td>32</td>\n",
       "      <td>1</td>\n",
       "    </tr>\n",
       "    <tr>\n",
       "      <th>70616</th>\n",
       "      <td>0288fb</td>\n",
       "      <td>2019-08-30 03:10:46</td>\n",
       "      <td>simple_event</td>\n",
       "      <td>NaN</td>\n",
       "      <td>2019-08-30 03:10:46</td>\n",
       "      <td>35</td>\n",
       "      <td>35</td>\n",
       "      <td>0</td>\n",
       "    </tr>\n",
       "    <tr>\n",
       "      <th>5573</th>\n",
       "      <td>1814c7</td>\n",
       "      <td>2019-08-04 20:47:07</td>\n",
       "      <td>simple_event</td>\n",
       "      <td>NaN</td>\n",
       "      <td>2019-08-04 20:47:07</td>\n",
       "      <td>31</td>\n",
       "      <td>31</td>\n",
       "      <td>0</td>\n",
       "    </tr>\n",
       "    <tr>\n",
       "      <th>15599</th>\n",
       "      <td>52b461</td>\n",
       "      <td>2019-08-10 11:48:30</td>\n",
       "      <td>simple_event</td>\n",
       "      <td>NaN</td>\n",
       "      <td>2019-08-10 11:48:30</td>\n",
       "      <td>32</td>\n",
       "      <td>32</td>\n",
       "      <td>0</td>\n",
       "    </tr>\n",
       "    <tr>\n",
       "      <th>43314</th>\n",
       "      <td>ca1868</td>\n",
       "      <td>2019-08-21 04:41:56</td>\n",
       "      <td>simple_event</td>\n",
       "      <td>NaN</td>\n",
       "      <td>2019-08-21 04:41:56</td>\n",
       "      <td>34</td>\n",
       "      <td>32</td>\n",
       "      <td>2</td>\n",
       "    </tr>\n",
       "    <tr>\n",
       "      <th>72367</th>\n",
       "      <td>dc551a</td>\n",
       "      <td>2019-08-30 16:30:34</td>\n",
       "      <td>simple_event</td>\n",
       "      <td>NaN</td>\n",
       "      <td>2019-08-30 16:30:34</td>\n",
       "      <td>35</td>\n",
       "      <td>35</td>\n",
       "      <td>0</td>\n",
       "    </tr>\n",
       "    <tr>\n",
       "      <th>12826</th>\n",
       "      <td>4a0550</td>\n",
       "      <td>2019-08-09 03:40:04</td>\n",
       "      <td>simple_event</td>\n",
       "      <td>NaN</td>\n",
       "      <td>2019-08-09 03:40:04</td>\n",
       "      <td>32</td>\n",
       "      <td>31</td>\n",
       "      <td>1</td>\n",
       "    </tr>\n",
       "    <tr>\n",
       "      <th>30557</th>\n",
       "      <td>51aeed</td>\n",
       "      <td>2019-08-16 15:36:28</td>\n",
       "      <td>simple_event</td>\n",
       "      <td>NaN</td>\n",
       "      <td>2019-08-16 15:36:28</td>\n",
       "      <td>33</td>\n",
       "      <td>32</td>\n",
       "      <td>1</td>\n",
       "    </tr>\n",
       "    <tr>\n",
       "      <th>66787</th>\n",
       "      <td>f5b962</td>\n",
       "      <td>2019-08-28 21:30:42</td>\n",
       "      <td>simple_event</td>\n",
       "      <td>NaN</td>\n",
       "      <td>2019-08-28 21:30:42</td>\n",
       "      <td>35</td>\n",
       "      <td>33</td>\n",
       "      <td>2</td>\n",
       "    </tr>\n",
       "    <tr>\n",
       "      <th>20616</th>\n",
       "      <td>9909e6</td>\n",
       "      <td>2019-08-12 17:42:36</td>\n",
       "      <td>simple_event</td>\n",
       "      <td>NaN</td>\n",
       "      <td>2019-08-12 17:42:36</td>\n",
       "      <td>33</td>\n",
       "      <td>31</td>\n",
       "      <td>2</td>\n",
       "    </tr>\n",
       "  </tbody>\n",
       "</table>\n",
       "</div>"
      ],
      "text/plain": [
       "      user_id           event_date    event_type  purchase_amount  \\\n",
       "36955  9a3e03  2019-08-18 23:10:02  simple_event              NaN   \n",
       "70616  0288fb  2019-08-30 03:10:46  simple_event              NaN   \n",
       "5573   1814c7  2019-08-04 20:47:07  simple_event              NaN   \n",
       "15599  52b461  2019-08-10 11:48:30  simple_event              NaN   \n",
       "43314  ca1868  2019-08-21 04:41:56  simple_event              NaN   \n",
       "72367  dc551a  2019-08-30 16:30:34  simple_event              NaN   \n",
       "12826  4a0550  2019-08-09 03:40:04  simple_event              NaN   \n",
       "30557  51aeed  2019-08-16 15:36:28  simple_event              NaN   \n",
       "66787  f5b962  2019-08-28 21:30:42  simple_event              NaN   \n",
       "20616  9909e6  2019-08-12 17:42:36  simple_event              NaN   \n",
       "\n",
       "                     Date  Event_Cohort  Registration_Cohort  \\\n",
       "36955 2019-08-18 23:10:02            33                   32   \n",
       "70616 2019-08-30 03:10:46            35                   35   \n",
       "5573  2019-08-04 20:47:07            31                   31   \n",
       "15599 2019-08-10 11:48:30            32                   32   \n",
       "43314 2019-08-21 04:41:56            34                   32   \n",
       "72367 2019-08-30 16:30:34            35                   35   \n",
       "12826 2019-08-09 03:40:04            32                   31   \n",
       "30557 2019-08-16 15:36:28            33                   32   \n",
       "66787 2019-08-28 21:30:42            35                   33   \n",
       "20616 2019-08-12 17:42:36            33                   31   \n",
       "\n",
       "       Weekly_Lifetime_indicator  \n",
       "36955                          1  \n",
       "70616                          0  \n",
       "5573                           0  \n",
       "15599                          0  \n",
       "43314                          2  \n",
       "72367                          0  \n",
       "12826                          1  \n",
       "30557                          1  \n",
       "66787                          2  \n",
       "20616                          2  "
      ]
     },
     "execution_count": 20,
     "metadata": {},
     "output_type": "execute_result"
    },
    {
     "data": {
      "application/javascript": [
       "\n",
       "            setTimeout(function() {\n",
       "                var nbb_cell_id = 20;\n",
       "                var nbb_unformatted_code = \"dataset_merged.sample(10, random_state=6)\";\n",
       "                var nbb_formatted_code = \"dataset_merged.sample(10, random_state=6)\";\n",
       "                var nbb_cells = Jupyter.notebook.get_cells();\n",
       "                for (var i = 0; i < nbb_cells.length; ++i) {\n",
       "                    if (nbb_cells[i].input_prompt_number == nbb_cell_id) {\n",
       "                        if (nbb_cells[i].get_text() == nbb_unformatted_code) {\n",
       "                             nbb_cells[i].set_text(nbb_formatted_code);\n",
       "                        }\n",
       "                        break;\n",
       "                    }\n",
       "                }\n",
       "            }, 500);\n",
       "            "
      ],
      "text/plain": [
       "<IPython.core.display.Javascript object>"
      ]
     },
     "metadata": {},
     "output_type": "display_data"
    }
   ],
   "source": [
    "dataset_merged.sample(10, random_state=6)"
   ]
  },
  {
   "cell_type": "markdown",
   "id": "c0303b86",
   "metadata": {},
   "source": [
    "Obervatios:\n",
    "* The column \"Weekly_Lifetime_indicator\" has the information of each event lifetime based on when that user registered"
   ]
  },
  {
   "cell_type": "markdown",
   "id": "dd0e0604",
   "metadata": {},
   "source": [
    "### 5. Build a summary table of changes in the Retention Rate for cohorts depending on lifetime."
   ]
  },
  {
   "cell_type": "code",
   "execution_count": 21,
   "id": "05e750cf",
   "metadata": {},
   "outputs": [
    {
     "data": {
      "text/html": [
       "<div>\n",
       "<style scoped>\n",
       "    .dataframe tbody tr th:only-of-type {\n",
       "        vertical-align: middle;\n",
       "    }\n",
       "\n",
       "    .dataframe tbody tr th {\n",
       "        vertical-align: top;\n",
       "    }\n",
       "\n",
       "    .dataframe thead th {\n",
       "        text-align: right;\n",
       "    }\n",
       "</style>\n",
       "<table border=\"1\" class=\"dataframe\">\n",
       "  <thead>\n",
       "    <tr style=\"text-align: right;\">\n",
       "      <th></th>\n",
       "      <th>Registration_Cohort</th>\n",
       "      <th>Weekly_Lifetime_indicator</th>\n",
       "      <th>user_id</th>\n",
       "    </tr>\n",
       "  </thead>\n",
       "  <tbody>\n",
       "    <tr>\n",
       "      <th>0</th>\n",
       "      <td>31</td>\n",
       "      <td>0</td>\n",
       "      <td>1975</td>\n",
       "    </tr>\n",
       "    <tr>\n",
       "      <th>1</th>\n",
       "      <td>31</td>\n",
       "      <td>1</td>\n",
       "      <td>1832</td>\n",
       "    </tr>\n",
       "    <tr>\n",
       "      <th>2</th>\n",
       "      <td>31</td>\n",
       "      <td>2</td>\n",
       "      <td>1243</td>\n",
       "    </tr>\n",
       "    <tr>\n",
       "      <th>3</th>\n",
       "      <td>31</td>\n",
       "      <td>3</td>\n",
       "      <td>705</td>\n",
       "    </tr>\n",
       "    <tr>\n",
       "      <th>4</th>\n",
       "      <td>31</td>\n",
       "      <td>4</td>\n",
       "      <td>297</td>\n",
       "    </tr>\n",
       "  </tbody>\n",
       "</table>\n",
       "</div>"
      ],
      "text/plain": [
       "   Registration_Cohort  Weekly_Lifetime_indicator  user_id\n",
       "0                   31                          0     1975\n",
       "1                   31                          1     1832\n",
       "2                   31                          2     1243\n",
       "3                   31                          3      705\n",
       "4                   31                          4      297"
      ]
     },
     "execution_count": 21,
     "metadata": {},
     "output_type": "execute_result"
    },
    {
     "data": {
      "application/javascript": [
       "\n",
       "            setTimeout(function() {\n",
       "                var nbb_cell_id = 21;\n",
       "                var nbb_unformatted_code = \"# Counting daily active user from each chort\\ngrouping = dataset_merged.groupby([\\\"Registration_Cohort\\\", \\\"Weekly_Lifetime_indicator\\\"])\\n\\n\\n# Counting number of unique customer Id's falling in each group of CohortMonth and CohortIndex\\ncohort_data = grouping[\\\"user_id\\\"].apply(pd.Series.nunique)\\ncohort_data = cohort_data.reset_index()\\n\\n\\n# Assigning column names to the dataframe created above\\ncohort_counts = cohort_data.pivot(\\n    index=\\\"Registration_Cohort\\\", columns=\\\"Weekly_Lifetime_indicator\\\", values=\\\"user_id\\\"\\n)\\n\\n# Printing top 5 rows of Dataframe\\ncohort_data.head()\";\n",
       "                var nbb_formatted_code = \"# Counting daily active user from each chort\\ngrouping = dataset_merged.groupby([\\\"Registration_Cohort\\\", \\\"Weekly_Lifetime_indicator\\\"])\\n\\n\\n# Counting number of unique customer Id's falling in each group of CohortMonth and CohortIndex\\ncohort_data = grouping[\\\"user_id\\\"].apply(pd.Series.nunique)\\ncohort_data = cohort_data.reset_index()\\n\\n\\n# Assigning column names to the dataframe created above\\ncohort_counts = cohort_data.pivot(\\n    index=\\\"Registration_Cohort\\\", columns=\\\"Weekly_Lifetime_indicator\\\", values=\\\"user_id\\\"\\n)\\n\\n# Printing top 5 rows of Dataframe\\ncohort_data.head()\";\n",
       "                var nbb_cells = Jupyter.notebook.get_cells();\n",
       "                for (var i = 0; i < nbb_cells.length; ++i) {\n",
       "                    if (nbb_cells[i].input_prompt_number == nbb_cell_id) {\n",
       "                        if (nbb_cells[i].get_text() == nbb_unformatted_code) {\n",
       "                             nbb_cells[i].set_text(nbb_formatted_code);\n",
       "                        }\n",
       "                        break;\n",
       "                    }\n",
       "                }\n",
       "            }, 500);\n",
       "            "
      ],
      "text/plain": [
       "<IPython.core.display.Javascript object>"
      ]
     },
     "metadata": {},
     "output_type": "display_data"
    }
   ],
   "source": [
    "# Counting daily active user from each chort\n",
    "grouping = dataset_merged.groupby([\"Registration_Cohort\", \"Weekly_Lifetime_indicator\"])\n",
    "\n",
    "\n",
    "# Counting number of unique customer Id's falling in each group of CohortMonth and CohortIndex\n",
    "cohort_data = grouping[\"user_id\"].apply(pd.Series.nunique)\n",
    "cohort_data = cohort_data.reset_index()\n",
    "\n",
    "\n",
    "# Assigning column names to the dataframe created above\n",
    "cohort_counts = cohort_data.pivot(\n",
    "    index=\"Registration_Cohort\", columns=\"Weekly_Lifetime_indicator\", values=\"user_id\"\n",
    ")\n",
    "\n",
    "# Printing top 5 rows of Dataframe\n",
    "cohort_data.head()"
   ]
  },
  {
   "cell_type": "code",
   "execution_count": 22,
   "id": "473c7880",
   "metadata": {
    "scrolled": true
   },
   "outputs": [
    {
     "name": "stdout",
     "output_type": "stream",
     "text": [
      "Weekly_Lifetime_indicator       0       1       2      3      4\n",
      "Registration_Cohort                                            \n",
      "31                         1975.0  1832.0  1243.0  705.0  297.0\n",
      "32                         1952.0  1814.0  1265.0  705.0    NaN\n",
      "33                         2045.0  1890.0  1352.0    NaN    NaN\n",
      "34                         1974.0  1834.0     NaN    NaN    NaN\n",
      "35                         2050.0     NaN     NaN    NaN    NaN\n"
     ]
    },
    {
     "data": {
      "application/javascript": [
       "\n",
       "            setTimeout(function() {\n",
       "                var nbb_cell_id = 22;\n",
       "                var nbb_unformatted_code = \"print(cohort_counts.round(1))\";\n",
       "                var nbb_formatted_code = \"print(cohort_counts.round(1))\";\n",
       "                var nbb_cells = Jupyter.notebook.get_cells();\n",
       "                for (var i = 0; i < nbb_cells.length; ++i) {\n",
       "                    if (nbb_cells[i].input_prompt_number == nbb_cell_id) {\n",
       "                        if (nbb_cells[i].get_text() == nbb_unformatted_code) {\n",
       "                             nbb_cells[i].set_text(nbb_formatted_code);\n",
       "                        }\n",
       "                        break;\n",
       "                    }\n",
       "                }\n",
       "            }, 500);\n",
       "            "
      ],
      "text/plain": [
       "<IPython.core.display.Javascript object>"
      ]
     },
     "metadata": {},
     "output_type": "display_data"
    }
   ],
   "source": [
    "print(cohort_counts.round(1))"
   ]
  },
  {
   "cell_type": "markdown",
   "id": "bbdcd687",
   "metadata": {},
   "source": [
    "Calculate business metrics: Retention rate\n",
    "* The percentage of active customers compared to the total number of customers after a specific time interval is called retention rate.\n",
    "\n",
    "In the this section, we will calculate retention count for each cohort Month paired with cohort Index\n",
    "\n",
    "Now that we have count of retained customer for each cohortMonth and cohortIndex. We will calculate retention rate for each Cohort.\n",
    "\n",
    "We will create a pivot table for this purpose."
   ]
  },
  {
   "cell_type": "code",
   "execution_count": 23,
   "id": "7e71192f",
   "metadata": {},
   "outputs": [
    {
     "data": {
      "application/javascript": [
       "\n",
       "            setTimeout(function() {\n",
       "                var nbb_cell_id = 23;\n",
       "                var nbb_unformatted_code = \"\\\"\\\"\\\"\\nSelect the first column and store it to cohort_sizes as size of cohort === no. active customer in first day\\nWe will store the 1st column as Cohort size i.e total Number of Customers in that Cohort\\n\\\"\\\"\\\"\\n\\ncohort_sizes = cohort_counts.iloc[:, 0]\\n\\n\\\"\\\"\\\"\\nWe will divide the values in other columns with Cohort Size in order to calculate the retention rate i.e Number of Customers in Each Cohort Index\\n\\\"\\\"\\\"\\n\\nretention = cohort_counts.divide(cohort_sizes, axis=0)\";\n",
       "                var nbb_formatted_code = \"\\\"\\\"\\\"\\nSelect the first column and store it to cohort_sizes as size of cohort === no. active customer in first day\\nWe will store the 1st column as Cohort size i.e total Number of Customers in that Cohort\\n\\\"\\\"\\\"\\n\\ncohort_sizes = cohort_counts.iloc[:, 0]\\n\\n\\\"\\\"\\\"\\nWe will divide the values in other columns with Cohort Size in order to calculate the retention rate i.e Number of Customers in Each Cohort Index\\n\\\"\\\"\\\"\\n\\nretention = cohort_counts.divide(cohort_sizes, axis=0)\";\n",
       "                var nbb_cells = Jupyter.notebook.get_cells();\n",
       "                for (var i = 0; i < nbb_cells.length; ++i) {\n",
       "                    if (nbb_cells[i].input_prompt_number == nbb_cell_id) {\n",
       "                        if (nbb_cells[i].get_text() == nbb_unformatted_code) {\n",
       "                             nbb_cells[i].set_text(nbb_formatted_code);\n",
       "                        }\n",
       "                        break;\n",
       "                    }\n",
       "                }\n",
       "            }, 500);\n",
       "            "
      ],
      "text/plain": [
       "<IPython.core.display.Javascript object>"
      ]
     },
     "metadata": {},
     "output_type": "display_data"
    }
   ],
   "source": [
    "\"\"\"\n",
    "Select the first column and store it to cohort_sizes as size of cohort === no. active customer in first day\n",
    "We will store the 1st column as Cohort size i.e total Number of Customers in that Cohort\n",
    "\"\"\"\n",
    "\n",
    "cohort_sizes = cohort_counts.iloc[:, 0]\n",
    "\n",
    "\"\"\"\n",
    "We will divide the values in other columns with Cohort Size in order to calculate the retention rate i.e Number of Customers in Each Cohort Index\n",
    "\"\"\"\n",
    "\n",
    "retention = cohort_counts.divide(cohort_sizes, axis=0)"
   ]
  },
  {
   "cell_type": "code",
   "execution_count": 24,
   "id": "a0b3dd86",
   "metadata": {
    "scrolled": false
   },
   "outputs": [
    {
     "data": {
      "text/html": [
       "<div>\n",
       "<style scoped>\n",
       "    .dataframe tbody tr th:only-of-type {\n",
       "        vertical-align: middle;\n",
       "    }\n",
       "\n",
       "    .dataframe tbody tr th {\n",
       "        vertical-align: top;\n",
       "    }\n",
       "\n",
       "    .dataframe thead th {\n",
       "        text-align: right;\n",
       "    }\n",
       "</style>\n",
       "<table border=\"1\" class=\"dataframe\">\n",
       "  <thead>\n",
       "    <tr style=\"text-align: right;\">\n",
       "      <th>Weekly_Lifetime_indicator</th>\n",
       "      <th>0</th>\n",
       "      <th>1</th>\n",
       "      <th>2</th>\n",
       "      <th>3</th>\n",
       "      <th>4</th>\n",
       "    </tr>\n",
       "    <tr>\n",
       "      <th>Registration_Cohort</th>\n",
       "      <th></th>\n",
       "      <th></th>\n",
       "      <th></th>\n",
       "      <th></th>\n",
       "      <th></th>\n",
       "    </tr>\n",
       "  </thead>\n",
       "  <tbody>\n",
       "    <tr>\n",
       "      <th>31</th>\n",
       "      <td>100.0</td>\n",
       "      <td>92.76</td>\n",
       "      <td>62.94</td>\n",
       "      <td>35.70</td>\n",
       "      <td>15.04</td>\n",
       "    </tr>\n",
       "    <tr>\n",
       "      <th>32</th>\n",
       "      <td>100.0</td>\n",
       "      <td>92.93</td>\n",
       "      <td>64.81</td>\n",
       "      <td>36.12</td>\n",
       "      <td>NaN</td>\n",
       "    </tr>\n",
       "    <tr>\n",
       "      <th>33</th>\n",
       "      <td>100.0</td>\n",
       "      <td>92.42</td>\n",
       "      <td>66.11</td>\n",
       "      <td>NaN</td>\n",
       "      <td>NaN</td>\n",
       "    </tr>\n",
       "    <tr>\n",
       "      <th>34</th>\n",
       "      <td>100.0</td>\n",
       "      <td>92.91</td>\n",
       "      <td>NaN</td>\n",
       "      <td>NaN</td>\n",
       "      <td>NaN</td>\n",
       "    </tr>\n",
       "    <tr>\n",
       "      <th>35</th>\n",
       "      <td>100.0</td>\n",
       "      <td>NaN</td>\n",
       "      <td>NaN</td>\n",
       "      <td>NaN</td>\n",
       "      <td>NaN</td>\n",
       "    </tr>\n",
       "  </tbody>\n",
       "</table>\n",
       "</div>"
      ],
      "text/plain": [
       "Weekly_Lifetime_indicator      0      1      2      3      4\n",
       "Registration_Cohort                                         \n",
       "31                         100.0  92.76  62.94  35.70  15.04\n",
       "32                         100.0  92.93  64.81  36.12    NaN\n",
       "33                         100.0  92.42  66.11    NaN    NaN\n",
       "34                         100.0  92.91    NaN    NaN    NaN\n",
       "35                         100.0    NaN    NaN    NaN    NaN"
      ]
     },
     "execution_count": 24,
     "metadata": {},
     "output_type": "execute_result"
    },
    {
     "data": {
      "application/javascript": [
       "\n",
       "            setTimeout(function() {\n",
       "                var nbb_cell_id = 24;\n",
       "                var nbb_unformatted_code = \"\\\"\\\"\\\"\\nthis matrix has 2 axes: \\nx - cohort date (week number); y - cohort maturity (in weeks)\\nevery cell is a unique count of customer for the x and y\\n\\nif a customer's last order was in period 2,\\nthey were active in period 0, 1 as well\\nsame for other periods\\n\\n\\\"\\\"\\\"\\n\\n# Coverting the retention rate into percentage and Rounding off.\\nretention.round(4) * 100\";\n",
       "                var nbb_formatted_code = \"\\\"\\\"\\\"\\nthis matrix has 2 axes: \\nx - cohort date (week number); y - cohort maturity (in weeks)\\nevery cell is a unique count of customer for the x and y\\n\\nif a customer's last order was in period 2,\\nthey were active in period 0, 1 as well\\nsame for other periods\\n\\n\\\"\\\"\\\"\\n\\n# Coverting the retention rate into percentage and Rounding off.\\nretention.round(4) * 100\";\n",
       "                var nbb_cells = Jupyter.notebook.get_cells();\n",
       "                for (var i = 0; i < nbb_cells.length; ++i) {\n",
       "                    if (nbb_cells[i].input_prompt_number == nbb_cell_id) {\n",
       "                        if (nbb_cells[i].get_text() == nbb_unformatted_code) {\n",
       "                             nbb_cells[i].set_text(nbb_formatted_code);\n",
       "                        }\n",
       "                        break;\n",
       "                    }\n",
       "                }\n",
       "            }, 500);\n",
       "            "
      ],
      "text/plain": [
       "<IPython.core.display.Javascript object>"
      ]
     },
     "metadata": {},
     "output_type": "display_data"
    }
   ],
   "source": [
    "\"\"\"\n",
    "this matrix has 2 axes: \n",
    "x - cohort date (week number); y - cohort maturity (in weeks)\n",
    "every cell is a unique count of customer for the x and y\n",
    "\n",
    "if a customer's last order was in period 2,\n",
    "they were active in period 0, 1 as well\n",
    "same for other periods\n",
    "\n",
    "\"\"\"\n",
    "\n",
    "# Coverting the retention rate into percentage and Rounding off.\n",
    "retention.round(4) * 100"
   ]
  },
  {
   "cell_type": "code",
   "execution_count": 25,
   "id": "7d03ff9e",
   "metadata": {
    "scrolled": false
   },
   "outputs": [
    {
     "data": {
      "image/png": "[encoded data removed]",
      "text/plain": [
       "<Figure size 720x360 with 2 Axes>"
      ]
     },
     "metadata": {},
     "output_type": "display_data"
    },
    {
     "data": {
      "application/javascript": [
       "\n",
       "            setTimeout(function() {\n",
       "                var nbb_cell_id = 25;\n",
       "                var nbb_unformatted_code = \"# Initialize the figure\\nplt.figure(figsize=(10, 5))\\n\\n# Adding a title\\nplt.title(\\\"Retention Rate in percentage:- Monthly Cohorts\\\", fontsize=14)\\n\\n# Creating the seaborn based heatmap\\nsns.heatmap(retention, annot=True, fmt=\\\".2%\\\", cmap=\\\"mako\\\", vmin=0.0, vmax=1)\\nplt.ylabel(\\\"Registration_Cohort\\\")\\nplt.xlabel(\\\"Weekly_Lifetime_indicator\\\")\\nplt.yticks(rotation=\\\"360\\\")\\nplt.show()\";\n",
       "                var nbb_formatted_code = \"# Initialize the figure\\nplt.figure(figsize=(10, 5))\\n\\n# Adding a title\\nplt.title(\\\"Retention Rate in percentage:- Monthly Cohorts\\\", fontsize=14)\\n\\n# Creating the seaborn based heatmap\\nsns.heatmap(retention, annot=True, fmt=\\\".2%\\\", cmap=\\\"mako\\\", vmin=0.0, vmax=1)\\nplt.ylabel(\\\"Registration_Cohort\\\")\\nplt.xlabel(\\\"Weekly_Lifetime_indicator\\\")\\nplt.yticks(rotation=\\\"360\\\")\\nplt.show()\";\n",
       "                var nbb_cells = Jupyter.notebook.get_cells();\n",
       "                for (var i = 0; i < nbb_cells.length; ++i) {\n",
       "                    if (nbb_cells[i].input_prompt_number == nbb_cell_id) {\n",
       "                        if (nbb_cells[i].get_text() == nbb_unformatted_code) {\n",
       "                             nbb_cells[i].set_text(nbb_formatted_code);\n",
       "                        }\n",
       "                        break;\n",
       "                    }\n",
       "                }\n",
       "            }, 500);\n",
       "            "
      ],
      "text/plain": [
       "<IPython.core.display.Javascript object>"
      ]
     },
     "metadata": {},
     "output_type": "display_data"
    }
   ],
   "source": [
    "# Initialize the figure\n",
    "plt.figure(figsize=(10, 5))\n",
    "\n",
    "# Adding a title\n",
    "plt.title(\"Retention Rate in percentage:- Monthly Cohorts\", fontsize=14)\n",
    "\n",
    "# Creating the seaborn based heatmap\n",
    "sns.heatmap(retention, annot=True, fmt=\".2%\", cmap=\"mako\", vmin=0.0, vmax=1)\n",
    "plt.ylabel(\"Registration_Cohort\")\n",
    "plt.xlabel(\"Weekly_Lifetime_indicator\")\n",
    "plt.yticks(rotation=\"360\")\n",
    "plt.show()"
   ]
  },
  {
   "cell_type": "code",
   "execution_count": 26,
   "id": "8ca162e2",
   "metadata": {},
   "outputs": [
    {
     "data": {
      "text/plain": [
       "Registration_Cohort\n",
       "32    0.361168\n",
       "Name: 3, dtype: float64"
      ]
     },
     "execution_count": 26,
     "metadata": {},
     "output_type": "execute_result"
    },
    {
     "data": {
      "application/javascript": [
       "\n",
       "            setTimeout(function() {\n",
       "                var nbb_cell_id = 26;\n",
       "                var nbb_unformatted_code = \"retention[3][1:2]\";\n",
       "                var nbb_formatted_code = \"retention[3][1:2]\";\n",
       "                var nbb_cells = Jupyter.notebook.get_cells();\n",
       "                for (var i = 0; i < nbb_cells.length; ++i) {\n",
       "                    if (nbb_cells[i].input_prompt_number == nbb_cell_id) {\n",
       "                        if (nbb_cells[i].get_text() == nbb_unformatted_code) {\n",
       "                             nbb_cells[i].set_text(nbb_formatted_code);\n",
       "                        }\n",
       "                        break;\n",
       "                    }\n",
       "                }\n",
       "            }, 500);\n",
       "            "
      ],
      "text/plain": [
       "<IPython.core.display.Javascript object>"
      ]
     },
     "metadata": {},
     "output_type": "display_data"
    }
   ],
   "source": [
    "retention[3][1:2]"
   ]
  },
  {
   "cell_type": "markdown",
   "id": "3fd7cbac",
   "metadata": {},
   "source": [
    "## 6. What is the 3 week retention rate for a cohort with ID 32? \n",
    "Give the answer in percent, rounded to 2 decimal places, inclusive."
   ]
  },
  {
   "cell_type": "code",
   "execution_count": 27,
   "id": "e4a5a71c",
   "metadata": {
    "scrolled": false
   },
   "outputs": [
    {
     "name": "stdout",
     "output_type": "stream",
     "text": [
      "The 3 week retention rate for a cohort with ID 32 is: 36.12%\n"
     ]
    },
    {
     "data": {
      "application/javascript": [
       "\n",
       "            setTimeout(function() {\n",
       "                var nbb_cell_id = 27;\n",
       "                var nbb_unformatted_code = \"print(\\n    f\\\"The 3 week retention rate for a cohort with ID 32 is: {np.round(float(retention[3][1:2]*100), 2)}%\\\"\\n)\";\n",
       "                var nbb_formatted_code = \"print(\\n    f\\\"The 3 week retention rate for a cohort with ID 32 is: {np.round(float(retention[3][1:2]*100), 2)}%\\\"\\n)\";\n",
       "                var nbb_cells = Jupyter.notebook.get_cells();\n",
       "                for (var i = 0; i < nbb_cells.length; ++i) {\n",
       "                    if (nbb_cells[i].input_prompt_number == nbb_cell_id) {\n",
       "                        if (nbb_cells[i].get_text() == nbb_unformatted_code) {\n",
       "                             nbb_cells[i].set_text(nbb_formatted_code);\n",
       "                        }\n",
       "                        break;\n",
       "                    }\n",
       "                }\n",
       "            }, 500);\n",
       "            "
      ],
      "text/plain": [
       "<IPython.core.display.Javascript object>"
      ]
     },
     "metadata": {},
     "output_type": "display_data"
    }
   ],
   "source": [
    "print(\n",
    "    f\"The 3 week retention rate for a cohort with ID 32 is: {np.round(float(retention[3][1:2]*100), 2)}%\"\n",
    ")"
   ]
  },
  {
   "cell_type": "markdown",
   "id": "d069f4bb",
   "metadata": {},
   "source": [
    "## 7. Build a summary table of changes in the indicator ARPPU \n",
    "(Average Revenue Per Paying User) for cohorts depending on lifetime."
   ]
  },
  {
   "cell_type": "code",
   "execution_count": 28,
   "id": "d94ea044",
   "metadata": {},
   "outputs": [
    {
     "data": {
      "application/javascript": [
       "\n",
       "            setTimeout(function() {\n",
       "                var nbb_cell_id = 28;\n",
       "                var nbb_unformatted_code = \"# Create a groupby object and pass the monthly cohort and cohort index as a list\\ngrouping = dataset_merged.groupby([\\\"Registration_Cohort\\\", \\\"Weekly_Lifetime_indicator\\\"])\\n\\n# Calculate the standard  average cost of the standard_cost column\\ncohort_data = grouping[\\\"purchase_amount\\\"].mean()\\n\\n# Reset the index of cohort_data before pivot\\ncohort_data = cohort_data.reset_index()\\n\\n# Create a pivot\\naverage_order = cohort_data.pivot(\\n    index=\\\"Registration_Cohort\\\",\\n    columns=\\\"Weekly_Lifetime_indicator\\\",\\n    values=\\\"purchase_amount\\\",\\n)\\n\\naverage_revenue = average_order.round(1)\";\n",
       "                var nbb_formatted_code = \"# Create a groupby object and pass the monthly cohort and cohort index as a list\\ngrouping = dataset_merged.groupby([\\\"Registration_Cohort\\\", \\\"Weekly_Lifetime_indicator\\\"])\\n\\n# Calculate the standard  average cost of the standard_cost column\\ncohort_data = grouping[\\\"purchase_amount\\\"].mean()\\n\\n# Reset the index of cohort_data before pivot\\ncohort_data = cohort_data.reset_index()\\n\\n# Create a pivot\\naverage_order = cohort_data.pivot(\\n    index=\\\"Registration_Cohort\\\",\\n    columns=\\\"Weekly_Lifetime_indicator\\\",\\n    values=\\\"purchase_amount\\\",\\n)\\n\\naverage_revenue = average_order.round(1)\";\n",
       "                var nbb_cells = Jupyter.notebook.get_cells();\n",
       "                for (var i = 0; i < nbb_cells.length; ++i) {\n",
       "                    if (nbb_cells[i].input_prompt_number == nbb_cell_id) {\n",
       "                        if (nbb_cells[i].get_text() == nbb_unformatted_code) {\n",
       "                             nbb_cells[i].set_text(nbb_formatted_code);\n",
       "                        }\n",
       "                        break;\n",
       "                    }\n",
       "                }\n",
       "            }, 500);\n",
       "            "
      ],
      "text/plain": [
       "<IPython.core.display.Javascript object>"
      ]
     },
     "metadata": {},
     "output_type": "display_data"
    }
   ],
   "source": [
    "# Create a groupby object and pass the monthly cohort and cohort index as a list\n",
    "grouping = dataset_merged.groupby([\"Registration_Cohort\", \"Weekly_Lifetime_indicator\"])\n",
    "\n",
    "# Calculate the standard  average cost of the standard_cost column\n",
    "cohort_data = grouping[\"purchase_amount\"].mean()\n",
    "\n",
    "# Reset the index of cohort_data before pivot\n",
    "cohort_data = cohort_data.reset_index()\n",
    "\n",
    "# Create a pivot\n",
    "average_order = cohort_data.pivot(\n",
    "    index=\"Registration_Cohort\",\n",
    "    columns=\"Weekly_Lifetime_indicator\",\n",
    "    values=\"purchase_amount\",\n",
    ")\n",
    "\n",
    "average_revenue = average_order.round(1)"
   ]
  },
  {
   "cell_type": "code",
   "execution_count": 29,
   "id": "1be41bd8",
   "metadata": {},
   "outputs": [
    {
     "data": {
      "text/html": [
       "<div>\n",
       "<style scoped>\n",
       "    .dataframe tbody tr th:only-of-type {\n",
       "        vertical-align: middle;\n",
       "    }\n",
       "\n",
       "    .dataframe tbody tr th {\n",
       "        vertical-align: top;\n",
       "    }\n",
       "\n",
       "    .dataframe thead th {\n",
       "        text-align: right;\n",
       "    }\n",
       "</style>\n",
       "<table border=\"1\" class=\"dataframe\">\n",
       "  <thead>\n",
       "    <tr style=\"text-align: right;\">\n",
       "      <th>Weekly_Lifetime_indicator</th>\n",
       "      <th>0</th>\n",
       "      <th>1</th>\n",
       "      <th>2</th>\n",
       "      <th>3</th>\n",
       "      <th>4</th>\n",
       "    </tr>\n",
       "    <tr>\n",
       "      <th>Registration_Cohort</th>\n",
       "      <th></th>\n",
       "      <th></th>\n",
       "      <th></th>\n",
       "      <th></th>\n",
       "      <th></th>\n",
       "    </tr>\n",
       "  </thead>\n",
       "  <tbody>\n",
       "    <tr>\n",
       "      <th>31</th>\n",
       "      <td>28.1</td>\n",
       "      <td>29.5</td>\n",
       "      <td>30.5</td>\n",
       "      <td>29.1</td>\n",
       "      <td>30.5</td>\n",
       "    </tr>\n",
       "    <tr>\n",
       "      <th>32</th>\n",
       "      <td>30.2</td>\n",
       "      <td>29.8</td>\n",
       "      <td>29.9</td>\n",
       "      <td>29.5</td>\n",
       "      <td>NaN</td>\n",
       "    </tr>\n",
       "    <tr>\n",
       "      <th>33</th>\n",
       "      <td>30.7</td>\n",
       "      <td>30.5</td>\n",
       "      <td>29.2</td>\n",
       "      <td>NaN</td>\n",
       "      <td>NaN</td>\n",
       "    </tr>\n",
       "    <tr>\n",
       "      <th>34</th>\n",
       "      <td>30.8</td>\n",
       "      <td>30.9</td>\n",
       "      <td>NaN</td>\n",
       "      <td>NaN</td>\n",
       "      <td>NaN</td>\n",
       "    </tr>\n",
       "    <tr>\n",
       "      <th>35</th>\n",
       "      <td>30.7</td>\n",
       "      <td>NaN</td>\n",
       "      <td>NaN</td>\n",
       "      <td>NaN</td>\n",
       "      <td>NaN</td>\n",
       "    </tr>\n",
       "  </tbody>\n",
       "</table>\n",
       "</div>"
      ],
      "text/plain": [
       "Weekly_Lifetime_indicator     0     1     2     3     4\n",
       "Registration_Cohort                                    \n",
       "31                         28.1  29.5  30.5  29.1  30.5\n",
       "32                         30.2  29.8  29.9  29.5   NaN\n",
       "33                         30.7  30.5  29.2   NaN   NaN\n",
       "34                         30.8  30.9   NaN   NaN   NaN\n",
       "35                         30.7   NaN   NaN   NaN   NaN"
      ]
     },
     "execution_count": 29,
     "metadata": {},
     "output_type": "execute_result"
    },
    {
     "data": {
      "application/javascript": [
       "\n",
       "            setTimeout(function() {\n",
       "                var nbb_cell_id = 29;\n",
       "                var nbb_unformatted_code = \"average_revenue.head()\";\n",
       "                var nbb_formatted_code = \"average_revenue.head()\";\n",
       "                var nbb_cells = Jupyter.notebook.get_cells();\n",
       "                for (var i = 0; i < nbb_cells.length; ++i) {\n",
       "                    if (nbb_cells[i].input_prompt_number == nbb_cell_id) {\n",
       "                        if (nbb_cells[i].get_text() == nbb_unformatted_code) {\n",
       "                             nbb_cells[i].set_text(nbb_formatted_code);\n",
       "                        }\n",
       "                        break;\n",
       "                    }\n",
       "                }\n",
       "            }, 500);\n",
       "            "
      ],
      "text/plain": [
       "<IPython.core.display.Javascript object>"
      ]
     },
     "metadata": {},
     "output_type": "display_data"
    }
   ],
   "source": [
    "average_revenue.head()"
   ]
  },
  {
   "cell_type": "code",
   "execution_count": 30,
   "id": "c9be3880",
   "metadata": {
    "scrolled": false
   },
   "outputs": [
    {
     "data": {
      "image/png": "[encoded data removed]",
      "text/plain": [
       "<Figure size 720x360 with 2 Axes>"
      ]
     },
     "metadata": {},
     "output_type": "display_data"
    },
    {
     "data": {
      "application/javascript": [
       "\n",
       "            setTimeout(function() {\n",
       "                var nbb_cell_id = 30;\n",
       "                var nbb_unformatted_code = \"# Initialize the figure\\nplt.figure(figsize=(10, 5))\\n\\n# Adding a title\\nplt.title(\\\"Average Revenue Per Paying User:- Monthly Cohorts\\\", fontsize=14)\\n\\n# Creating the seaborn based heatmap\\nsns.heatmap(average_revenue, annot=True, fmt=\\\".2f\\\", cmap=\\\"mako\\\")\\nplt.ylabel(\\\"Registration_Cohort\\\")\\nplt.xlabel(\\\"Weekly_Lifetime_indicator\\\")\\nplt.yticks(rotation=\\\"360\\\")\\nplt.show()\";\n",
       "                var nbb_formatted_code = \"# Initialize the figure\\nplt.figure(figsize=(10, 5))\\n\\n# Adding a title\\nplt.title(\\\"Average Revenue Per Paying User:- Monthly Cohorts\\\", fontsize=14)\\n\\n# Creating the seaborn based heatmap\\nsns.heatmap(average_revenue, annot=True, fmt=\\\".2f\\\", cmap=\\\"mako\\\")\\nplt.ylabel(\\\"Registration_Cohort\\\")\\nplt.xlabel(\\\"Weekly_Lifetime_indicator\\\")\\nplt.yticks(rotation=\\\"360\\\")\\nplt.show()\";\n",
       "                var nbb_cells = Jupyter.notebook.get_cells();\n",
       "                for (var i = 0; i < nbb_cells.length; ++i) {\n",
       "                    if (nbb_cells[i].input_prompt_number == nbb_cell_id) {\n",
       "                        if (nbb_cells[i].get_text() == nbb_unformatted_code) {\n",
       "                             nbb_cells[i].set_text(nbb_formatted_code);\n",
       "                        }\n",
       "                        break;\n",
       "                    }\n",
       "                }\n",
       "            }, 500);\n",
       "            "
      ],
      "text/plain": [
       "<IPython.core.display.Javascript object>"
      ]
     },
     "metadata": {},
     "output_type": "display_data"
    }
   ],
   "source": [
    "# Initialize the figure\n",
    "plt.figure(figsize=(10, 5))\n",
    "\n",
    "# Adding a title\n",
    "plt.title(\"Average Revenue Per Paying User:- Monthly Cohorts\", fontsize=14)\n",
    "\n",
    "# Creating the seaborn based heatmap\n",
    "sns.heatmap(average_revenue, annot=True, fmt=\".2f\", cmap=\"mako\")\n",
    "plt.ylabel(\"Registration_Cohort\")\n",
    "plt.xlabel(\"Weekly_Lifetime_indicator\")\n",
    "plt.yticks(rotation=\"360\")\n",
    "plt.show()"
   ]
  },
  {
   "cell_type": "code",
   "execution_count": 31,
   "id": "8094da37",
   "metadata": {},
   "outputs": [
    {
     "data": {
      "text/plain": [
       "Registration_Cohort\n",
       "31    29.1\n",
       "Name: 3, dtype: float64"
      ]
     },
     "execution_count": 31,
     "metadata": {},
     "output_type": "execute_result"
    },
    {
     "data": {
      "application/javascript": [
       "\n",
       "            setTimeout(function() {\n",
       "                var nbb_cell_id = 31;\n",
       "                var nbb_unformatted_code = \"average_revenue[3][0:1]\";\n",
       "                var nbb_formatted_code = \"average_revenue[3][0:1]\";\n",
       "                var nbb_cells = Jupyter.notebook.get_cells();\n",
       "                for (var i = 0; i < nbb_cells.length; ++i) {\n",
       "                    if (nbb_cells[i].input_prompt_number == nbb_cell_id) {\n",
       "                        if (nbb_cells[i].get_text() == nbb_unformatted_code) {\n",
       "                             nbb_cells[i].set_text(nbb_formatted_code);\n",
       "                        }\n",
       "                        break;\n",
       "                    }\n",
       "                }\n",
       "            }, 500);\n",
       "            "
      ],
      "text/plain": [
       "<IPython.core.display.Javascript object>"
      ]
     },
     "metadata": {},
     "output_type": "display_data"
    }
   ],
   "source": [
    "average_revenue[3][0:1]"
   ]
  },
  {
   "cell_type": "code",
   "execution_count": 32,
   "id": "36b3ad06",
   "metadata": {},
   "outputs": [
    {
     "data": {
      "text/html": [
       "<div>\n",
       "<style scoped>\n",
       "    .dataframe tbody tr th:only-of-type {\n",
       "        vertical-align: middle;\n",
       "    }\n",
       "\n",
       "    .dataframe tbody tr th {\n",
       "        vertical-align: top;\n",
       "    }\n",
       "\n",
       "    .dataframe thead th {\n",
       "        text-align: right;\n",
       "    }\n",
       "</style>\n",
       "<table border=\"1\" class=\"dataframe\">\n",
       "  <thead>\n",
       "    <tr style=\"text-align: right;\">\n",
       "      <th>Weekly_Lifetime_indicator</th>\n",
       "      <th>0</th>\n",
       "      <th>1</th>\n",
       "      <th>2</th>\n",
       "      <th>3</th>\n",
       "      <th>4</th>\n",
       "    </tr>\n",
       "    <tr>\n",
       "      <th>Registration_Cohort</th>\n",
       "      <th></th>\n",
       "      <th></th>\n",
       "      <th></th>\n",
       "      <th></th>\n",
       "      <th></th>\n",
       "    </tr>\n",
       "  </thead>\n",
       "  <tbody>\n",
       "    <tr>\n",
       "      <th>31</th>\n",
       "      <td>28.1</td>\n",
       "      <td>29.5</td>\n",
       "      <td>30.5</td>\n",
       "      <td>29.1</td>\n",
       "      <td>30.5</td>\n",
       "    </tr>\n",
       "    <tr>\n",
       "      <th>32</th>\n",
       "      <td>30.2</td>\n",
       "      <td>29.8</td>\n",
       "      <td>29.9</td>\n",
       "      <td>29.5</td>\n",
       "      <td>NaN</td>\n",
       "    </tr>\n",
       "    <tr>\n",
       "      <th>33</th>\n",
       "      <td>30.7</td>\n",
       "      <td>30.5</td>\n",
       "      <td>29.2</td>\n",
       "      <td>NaN</td>\n",
       "      <td>NaN</td>\n",
       "    </tr>\n",
       "    <tr>\n",
       "      <th>34</th>\n",
       "      <td>30.8</td>\n",
       "      <td>30.9</td>\n",
       "      <td>NaN</td>\n",
       "      <td>NaN</td>\n",
       "      <td>NaN</td>\n",
       "    </tr>\n",
       "    <tr>\n",
       "      <th>35</th>\n",
       "      <td>30.7</td>\n",
       "      <td>NaN</td>\n",
       "      <td>NaN</td>\n",
       "      <td>NaN</td>\n",
       "      <td>NaN</td>\n",
       "    </tr>\n",
       "  </tbody>\n",
       "</table>\n",
       "</div>"
      ],
      "text/plain": [
       "Weekly_Lifetime_indicator     0     1     2     3     4\n",
       "Registration_Cohort                                    \n",
       "31                         28.1  29.5  30.5  29.1  30.5\n",
       "32                         30.2  29.8  29.9  29.5   NaN\n",
       "33                         30.7  30.5  29.2   NaN   NaN\n",
       "34                         30.8  30.9   NaN   NaN   NaN\n",
       "35                         30.7   NaN   NaN   NaN   NaN"
      ]
     },
     "execution_count": 32,
     "metadata": {},
     "output_type": "execute_result"
    },
    {
     "data": {
      "application/javascript": [
       "\n",
       "            setTimeout(function() {\n",
       "                var nbb_cell_id = 32;\n",
       "                var nbb_unformatted_code = \"average_revenue\";\n",
       "                var nbb_formatted_code = \"average_revenue\";\n",
       "                var nbb_cells = Jupyter.notebook.get_cells();\n",
       "                for (var i = 0; i < nbb_cells.length; ++i) {\n",
       "                    if (nbb_cells[i].input_prompt_number == nbb_cell_id) {\n",
       "                        if (nbb_cells[i].get_text() == nbb_unformatted_code) {\n",
       "                             nbb_cells[i].set_text(nbb_formatted_code);\n",
       "                        }\n",
       "                        break;\n",
       "                    }\n",
       "                }\n",
       "            }, 500);\n",
       "            "
      ],
      "text/plain": [
       "<IPython.core.display.Javascript object>"
      ]
     },
     "metadata": {},
     "output_type": "display_data"
    }
   ],
   "source": [
    "average_revenue"
   ]
  },
  {
   "cell_type": "markdown",
   "id": "52892a9d",
   "metadata": {},
   "source": [
    "### 8. What is the 3-week ARPPU of a cohort with ID 31? \n",
    "Give the answer with a floating point number, rounded to 2 decimal places, inclusive.\n"
   ]
  },
  {
   "cell_type": "code",
   "execution_count": 33,
   "id": "e3f29f22",
   "metadata": {},
   "outputs": [
    {
     "name": "stdout",
     "output_type": "stream",
     "text": [
      "The 3-week ARPPU of a cohort with ID 31 is 29.1\n"
     ]
    },
    {
     "data": {
      "application/javascript": [
       "\n",
       "            setTimeout(function() {\n",
       "                var nbb_cell_id = 33;\n",
       "                var nbb_unformatted_code = \"print(\\n    f\\\"The 3-week ARPPU of a cohort with ID 31 is {np.round(float(average_revenue[3][0:1]), 2)}\\\"\\n)\";\n",
       "                var nbb_formatted_code = \"print(\\n    f\\\"The 3-week ARPPU of a cohort with ID 31 is {np.round(float(average_revenue[3][0:1]), 2)}\\\"\\n)\";\n",
       "                var nbb_cells = Jupyter.notebook.get_cells();\n",
       "                for (var i = 0; i < nbb_cells.length; ++i) {\n",
       "                    if (nbb_cells[i].input_prompt_number == nbb_cell_id) {\n",
       "                        if (nbb_cells[i].get_text() == nbb_unformatted_code) {\n",
       "                             nbb_cells[i].set_text(nbb_formatted_code);\n",
       "                        }\n",
       "                        break;\n",
       "                    }\n",
       "                }\n",
       "            }, 500);\n",
       "            "
      ],
      "text/plain": [
       "<IPython.core.display.Javascript object>"
      ]
     },
     "metadata": {},
     "output_type": "display_data"
    }
   ],
   "source": [
    "print(\n",
    "    f\"The 3-week ARPPU of a cohort with ID 31 is {np.round(float(average_revenue[3][0:1]), 2)}\"\n",
    ")"
   ]
  },
  {
   "cell_type": "markdown",
   "id": "65e88f5c",
   "metadata": {},
   "source": [
    "### 9. What is the median time between user registration and first purchase? \n",
    "\n",
    "Give the answer \n",
    "in seconds (!) As an integer."
   ]
  },
  {
   "cell_type": "code",
   "execution_count": 34,
   "id": "0f032586",
   "metadata": {},
   "outputs": [
    {
     "data": {
      "text/plain": [
       "6207"
      ]
     },
     "execution_count": 34,
     "metadata": {},
     "output_type": "execute_result"
    },
    {
     "data": {
      "application/javascript": [
       "\n",
       "            setTimeout(function() {\n",
       "                var nbb_cell_id = 34;\n",
       "                var nbb_unformatted_code = \"all_purchases = dataset_merged[dataset_merged[\\\"event_type\\\"] == \\\"purchase\\\"]\\nall_purchases.shape[0]\";\n",
       "                var nbb_formatted_code = \"all_purchases = dataset_merged[dataset_merged[\\\"event_type\\\"] == \\\"purchase\\\"]\\nall_purchases.shape[0]\";\n",
       "                var nbb_cells = Jupyter.notebook.get_cells();\n",
       "                for (var i = 0; i < nbb_cells.length; ++i) {\n",
       "                    if (nbb_cells[i].input_prompt_number == nbb_cell_id) {\n",
       "                        if (nbb_cells[i].get_text() == nbb_unformatted_code) {\n",
       "                             nbb_cells[i].set_text(nbb_formatted_code);\n",
       "                        }\n",
       "                        break;\n",
       "                    }\n",
       "                }\n",
       "            }, 500);\n",
       "            "
      ],
      "text/plain": [
       "<IPython.core.display.Javascript object>"
      ]
     },
     "metadata": {},
     "output_type": "display_data"
    }
   ],
   "source": [
    "all_purchases = dataset_merged[dataset_merged[\"event_type\"] == \"purchase\"]\n",
    "all_purchases.shape[0]"
   ]
  },
  {
   "cell_type": "code",
   "execution_count": 35,
   "id": "e9518485",
   "metadata": {},
   "outputs": [
    {
     "data": {
      "text/plain": [
       "1924"
      ]
     },
     "execution_count": 35,
     "metadata": {},
     "output_type": "execute_result"
    },
    {
     "data": {
      "application/javascript": [
       "\n",
       "            setTimeout(function() {\n",
       "                var nbb_cell_id = 35;\n",
       "                var nbb_unformatted_code = \"all_purchases[\\\"user_id\\\"].duplicated().sum()\";\n",
       "                var nbb_formatted_code = \"all_purchases[\\\"user_id\\\"].duplicated().sum()\";\n",
       "                var nbb_cells = Jupyter.notebook.get_cells();\n",
       "                for (var i = 0; i < nbb_cells.length; ++i) {\n",
       "                    if (nbb_cells[i].input_prompt_number == nbb_cell_id) {\n",
       "                        if (nbb_cells[i].get_text() == nbb_unformatted_code) {\n",
       "                             nbb_cells[i].set_text(nbb_formatted_code);\n",
       "                        }\n",
       "                        break;\n",
       "                    }\n",
       "                }\n",
       "            }, 500);\n",
       "            "
      ],
      "text/plain": [
       "<IPython.core.display.Javascript object>"
      ]
     },
     "metadata": {},
     "output_type": "display_data"
    }
   ],
   "source": [
    "all_purchases[\"user_id\"].duplicated().sum()"
   ]
  },
  {
   "cell_type": "code",
   "execution_count": 36,
   "id": "86241299",
   "metadata": {},
   "outputs": [
    {
     "data": {
      "text/plain": [
       "4283"
      ]
     },
     "execution_count": 36,
     "metadata": {},
     "output_type": "execute_result"
    },
    {
     "data": {
      "application/javascript": [
       "\n",
       "            setTimeout(function() {\n",
       "                var nbb_cell_id = 36;\n",
       "                var nbb_unformatted_code = \"unique_purchases = all_purchases.drop_duplicates(subset=\\\"user_id\\\")\\nunique_purchases.shape[0]\";\n",
       "                var nbb_formatted_code = \"unique_purchases = all_purchases.drop_duplicates(subset=\\\"user_id\\\")\\nunique_purchases.shape[0]\";\n",
       "                var nbb_cells = Jupyter.notebook.get_cells();\n",
       "                for (var i = 0; i < nbb_cells.length; ++i) {\n",
       "                    if (nbb_cells[i].input_prompt_number == nbb_cell_id) {\n",
       "                        if (nbb_cells[i].get_text() == nbb_unformatted_code) {\n",
       "                             nbb_cells[i].set_text(nbb_formatted_code);\n",
       "                        }\n",
       "                        break;\n",
       "                    }\n",
       "                }\n",
       "            }, 500);\n",
       "            "
      ],
      "text/plain": [
       "<IPython.core.display.Javascript object>"
      ]
     },
     "metadata": {},
     "output_type": "display_data"
    }
   ],
   "source": [
    "unique_purchases = all_purchases.drop_duplicates(subset=\"user_id\")\n",
    "unique_purchases.shape[0]"
   ]
  },
  {
   "cell_type": "code",
   "execution_count": 37,
   "id": "522775f4",
   "metadata": {
    "scrolled": true
   },
   "outputs": [
    {
     "data": {
      "application/javascript": [
       "\n",
       "            setTimeout(function() {\n",
       "                var nbb_cell_id = 37;\n",
       "                var nbb_unformatted_code = \"unique_purchases[\\\"time_before_first_purchase\\\"] = (\\n    unique_purchases[\\\"Event_Cohort\\\"] - unique_purchases[\\\"Registration_Cohort\\\"]\\n)\";\n",
       "                var nbb_formatted_code = \"unique_purchases[\\\"time_before_first_purchase\\\"] = (\\n    unique_purchases[\\\"Event_Cohort\\\"] - unique_purchases[\\\"Registration_Cohort\\\"]\\n)\";\n",
       "                var nbb_cells = Jupyter.notebook.get_cells();\n",
       "                for (var i = 0; i < nbb_cells.length; ++i) {\n",
       "                    if (nbb_cells[i].input_prompt_number == nbb_cell_id) {\n",
       "                        if (nbb_cells[i].get_text() == nbb_unformatted_code) {\n",
       "                             nbb_cells[i].set_text(nbb_formatted_code);\n",
       "                        }\n",
       "                        break;\n",
       "                    }\n",
       "                }\n",
       "            }, 500);\n",
       "            "
      ],
      "text/plain": [
       "<IPython.core.display.Javascript object>"
      ]
     },
     "metadata": {},
     "output_type": "display_data"
    }
   ],
   "source": [
    "unique_purchases[\"time_before_first_purchase\"] = (\n",
    "    unique_purchases[\"Event_Cohort\"] - unique_purchases[\"Registration_Cohort\"]\n",
    ")"
   ]
  },
  {
   "cell_type": "code",
   "execution_count": 38,
   "id": "53ee6f43",
   "metadata": {},
   "outputs": [
    {
     "name": "stdout",
     "output_type": "stream",
     "text": [
      "The median time between user registration and first purchase is 604800 seconds\n"
     ]
    },
    {
     "data": {
      "application/javascript": [
       "\n",
       "            setTimeout(function() {\n",
       "                var nbb_cell_id = 38;\n",
       "                var nbb_unformatted_code = \"time_in_seconds = int(unique_purchases[\\\"time_before_first_purchase\\\"].median() * 604800)\\nprint(\\n    f\\\"The median time between user registration and first purchase is {time_in_seconds} seconds\\\"\\n)\";\n",
       "                var nbb_formatted_code = \"time_in_seconds = int(unique_purchases[\\\"time_before_first_purchase\\\"].median() * 604800)\\nprint(\\n    f\\\"The median time between user registration and first purchase is {time_in_seconds} seconds\\\"\\n)\";\n",
       "                var nbb_cells = Jupyter.notebook.get_cells();\n",
       "                for (var i = 0; i < nbb_cells.length; ++i) {\n",
       "                    if (nbb_cells[i].input_prompt_number == nbb_cell_id) {\n",
       "                        if (nbb_cells[i].get_text() == nbb_unformatted_code) {\n",
       "                             nbb_cells[i].set_text(nbb_formatted_code);\n",
       "                        }\n",
       "                        break;\n",
       "                    }\n",
       "                }\n",
       "            }, 500);\n",
       "            "
      ],
      "text/plain": [
       "<IPython.core.display.Javascript object>"
      ]
     },
     "metadata": {},
     "output_type": "display_data"
    }
   ],
   "source": [
    "time_in_seconds = int(unique_purchases[\"time_before_first_purchase\"].median() * 604800)\n",
    "print(\n",
    "    f\"The median time between user registration and first purchase is {time_in_seconds} seconds\"\n",
    ")"
   ]
  },
  {
   "cell_type": "code",
   "execution_count": 39,
   "id": "9cb4339f",
   "metadata": {
    "scrolled": true
   },
   "outputs": [
    {
     "data": {
      "text/plain": [
       "<AxesSubplot:xlabel='time_before_first_purchase', ylabel='Density'>"
      ]
     },
     "execution_count": 39,
     "metadata": {},
     "output_type": "execute_result"
    },
    {
     "data": {
      "image/png": "[encoded data removed]",
      "text/plain": [
       "<Figure size 432x288 with 1 Axes>"
      ]
     },
     "metadata": {},
     "output_type": "display_data"
    },
    {
     "data": {
      "application/javascript": [
       "\n",
       "            setTimeout(function() {\n",
       "                var nbb_cell_id = 39;\n",
       "                var nbb_unformatted_code = \"sns.distplot(unique_purchases[\\\"time_before_first_purchase\\\"])\";\n",
       "                var nbb_formatted_code = \"sns.distplot(unique_purchases[\\\"time_before_first_purchase\\\"])\";\n",
       "                var nbb_cells = Jupyter.notebook.get_cells();\n",
       "                for (var i = 0; i < nbb_cells.length; ++i) {\n",
       "                    if (nbb_cells[i].input_prompt_number == nbb_cell_id) {\n",
       "                        if (nbb_cells[i].get_text() == nbb_unformatted_code) {\n",
       "                             nbb_cells[i].set_text(nbb_formatted_code);\n",
       "                        }\n",
       "                        break;\n",
       "                    }\n",
       "                }\n",
       "            }, 500);\n",
       "            "
      ],
      "text/plain": [
       "<IPython.core.display.Javascript object>"
      ]
     },
     "metadata": {},
     "output_type": "display_data"
    }
   ],
   "source": [
    "sns.distplot(unique_purchases[\"time_before_first_purchase\"])"
   ]
  },
  {
   "cell_type": "markdown",
   "id": "ee84db4e",
   "metadata": {},
   "source": [
    "### **Task 3. Answering student questions**\n",
    "    \n",
    "How would you answer the student's question below? Your task is to get your message across in such a way that a beginner can understand your explanation. You can do this any way you want (pictures, GIFs, metaphors, anything) so long as it makes your explanation clear.\n",
    "\n",
    "Answer the question: \"What is the difference between DataFrame and Series?\"\n",
    "Indicate how much time you spent completing this task."
   ]
  },
  {
   "cell_type": "markdown",
   "id": "91c01aa4",
   "metadata": {},
   "source": [
    "* Series is a **type** of list in pandas which can take **integer values, string values, double values and more. ...** \n",
    "\n",
    "* Series can only contain single list with index\n",
    "\n",
    "* Dataframe can be made of more than one series or **we can say that a dataframe is a collection of series that can be used to analyse the data.**\n",
    "\n",
    "Useful Resources:\n",
    "\n",
    "Visual Representation: https://www.datasciencemadesimple.com/create-series-in-python-pandas/\n",
    "\n",
    "Time to complete task: 10 min"
   ]
  },
  {
   "attachments": {},
   "cell_type": "markdown",
   "id": "bd7e196f",
   "metadata": {},
   "source": [
    "### Task 4\n",
    "\n",
    "You are given two random variables X and Y.\n",
    "\n",
    "* E(X) = 0.5, Var(X) = 2 \n",
    "\n",
    "* E(Y) = 7, Var(Y) = 3.5 \n",
    "\n",
    "* cov (X, Y) = -0.8 \n",
    "\n",
    "Find the variance of the random variable Z = 2X - 3Y\n",
    "\n",
    "**Time to complete task: 10 min**"
   ]
  },
  {
   "cell_type": "code",
   "execution_count": 40,
   "id": "f1dedca4",
   "metadata": {},
   "outputs": [
    {
     "name": "stdout",
     "output_type": "stream",
     "text": [
      "The variance of z = Var(2X-3Y) is: 49.1\n"
     ]
    },
    {
     "data": {
      "application/javascript": [
       "\n",
       "            setTimeout(function() {\n",
       "                var nbb_cell_id = 40;\n",
       "                var nbb_unformatted_code = \"Var_z = 4 * (2) + 2 * (2) * (-3) * (-0.8) + 9 * (3.5)\\nprint(f\\\"The variance of z = Var(2X-3Y) is: {Var_z}\\\")\";\n",
       "                var nbb_formatted_code = \"Var_z = 4 * (2) + 2 * (2) * (-3) * (-0.8) + 9 * (3.5)\\nprint(f\\\"The variance of z = Var(2X-3Y) is: {Var_z}\\\")\";\n",
       "                var nbb_cells = Jupyter.notebook.get_cells();\n",
       "                for (var i = 0; i < nbb_cells.length; ++i) {\n",
       "                    if (nbb_cells[i].input_prompt_number == nbb_cell_id) {\n",
       "                        if (nbb_cells[i].get_text() == nbb_unformatted_code) {\n",
       "                             nbb_cells[i].set_text(nbb_formatted_code);\n",
       "                        }\n",
       "                        break;\n",
       "                    }\n",
       "                }\n",
       "            }, 500);\n",
       "            "
      ],
      "text/plain": [
       "<IPython.core.display.Javascript object>"
      ]
     },
     "metadata": {},
     "output_type": "display_data"
    }
   ],
   "source": [
    "Var_z = 4 * (2) + 2 * (2) * (-3) * (-0.8) + 9 * (3.5)\n",
    "print(f\"The variance of z = Var(2X-3Y) is: {Var_z}\")"
   ]
  },
  {
   "cell_type": "markdown",
   "id": "8e0aeb6b",
   "metadata": {},
   "source": [
    "### **Task 5.**\n",
    "    \n",
    "Omer trained a linear regression model and tested its performance on a test sample of 500\n",
    "objects. On 400 of those, the model returned a prediction higher than expected by 0.5, and on\n",
    "the remaining 100, the model returned a prediction lower than expected by 0.7.\n",
    "\n",
    "* What is the MSE for his model?\n",
    "    \n",
    "* Limor claims that the linear regression model wasn't trained correctly, and we can do improve it by changing all the answers by a constant value. \n",
    "\n",
    "* What will be her MSE?\n",
    "\n",
    "You can assume that Limor found the smallest error under her constraints.\n",
    "Return two values - Omer's and Limor's MSE.\n",
    "\n",
    "**time for task 5: 30 mins**"
   ]
  },
  {
   "cell_type": "code",
   "execution_count": 41,
   "id": "72a3d257",
   "metadata": {
    "scrolled": true
   },
   "outputs": [
    {
     "name": "stdout",
     "output_type": "stream",
     "text": [
      "The mean squared error for Omer's model is: 0.298\n"
     ]
    },
    {
     "data": {
      "application/javascript": [
       "\n",
       "            setTimeout(function() {\n",
       "                var nbb_cell_id = 41;\n",
       "                var nbb_unformatted_code = \"# What is the MSE for his model?\\nomer_mse = (np.square(-400 * 0.5) / 400 + np.square(100 * 0.7) / 100) / 500\\nprint(f\\\"The mean squared error for Omer's model is: {omer_mse}\\\")\";\n",
       "                var nbb_formatted_code = \"# What is the MSE for his model?\\nomer_mse = (np.square(-400 * 0.5) / 400 + np.square(100 * 0.7) / 100) / 500\\nprint(f\\\"The mean squared error for Omer's model is: {omer_mse}\\\")\";\n",
       "                var nbb_cells = Jupyter.notebook.get_cells();\n",
       "                for (var i = 0; i < nbb_cells.length; ++i) {\n",
       "                    if (nbb_cells[i].input_prompt_number == nbb_cell_id) {\n",
       "                        if (nbb_cells[i].get_text() == nbb_unformatted_code) {\n",
       "                             nbb_cells[i].set_text(nbb_formatted_code);\n",
       "                        }\n",
       "                        break;\n",
       "                    }\n",
       "                }\n",
       "            }, 500);\n",
       "            "
      ],
      "text/plain": [
       "<IPython.core.display.Javascript object>"
      ]
     },
     "metadata": {},
     "output_type": "display_data"
    }
   ],
   "source": [
    "# What is the MSE for his model?\n",
    "omer_mse = (np.square(-400 * 0.5) / 400 + np.square(100 * 0.7) / 100) / 500\n",
    "print(f\"The mean squared error for Omer's model is: {omer_mse}\")"
   ]
  },
  {
   "cell_type": "markdown",
   "id": "e8186c2f",
   "metadata": {},
   "source": [
    "If Limor changes all predicted values of the model by a constant \"c\",\n",
    "We know that Residuals = Actual - Predicted\n",
    "\n",
    "* Limor's Residuals will be Residuals = Actual - (Predicted + c)\n",
    "\n",
    "* Residuals = (Actual - Predicted) - c\n",
    "    * For the first 400 points: Residuals = -0.5 - c\n",
    "    * For the las 100 points: Residuals = 0.7 - c\n",
    " \n",
    "Limor's mse will change by : **c^2 - 0.52 c + 0.298**\n",
    "\n",
    "**Limor's model will not improve Omar's model**\n",
    "\n",
    "Resources : https://www.wolframalpha.com/input?i=%28%28400*%28-0.5%2Ba%29%29%5E2%2F400+%2B+%28100*%280.7%2Ba%29%29%5E2%2F100%29+%2F+500"
   ]
  },
  {
   "cell_type": "markdown",
   "id": "76c9dc51",
   "metadata": {},
   "source": [
    "## Verifying mse after changing predicted values by a constant c"
   ]
  },
  {
   "cell_type": "code",
   "execution_count": 42,
   "id": "e2f8ffd9",
   "metadata": {},
   "outputs": [
    {
     "data": {
      "application/javascript": [
       "\n",
       "            setTimeout(function() {\n",
       "                var nbb_cell_id = 42;\n",
       "                var nbb_unformatted_code = \"# Let c be the constant that Limor uses to correct predicted values\\nc = 5  # you can choose the c you want!!!\\n## if you set c = 0 you will get Omer's MSE\";\n",
       "                var nbb_formatted_code = \"# Let c be the constant that Limor uses to correct predicted values\\nc = 5  # you can choose the c you want!!!\\n## if you set c = 0 you will get Omer's MSE\";\n",
       "                var nbb_cells = Jupyter.notebook.get_cells();\n",
       "                for (var i = 0; i < nbb_cells.length; ++i) {\n",
       "                    if (nbb_cells[i].input_prompt_number == nbb_cell_id) {\n",
       "                        if (nbb_cells[i].get_text() == nbb_unformatted_code) {\n",
       "                             nbb_cells[i].set_text(nbb_formatted_code);\n",
       "                        }\n",
       "                        break;\n",
       "                    }\n",
       "                }\n",
       "            }, 500);\n",
       "            "
      ],
      "text/plain": [
       "<IPython.core.display.Javascript object>"
      ]
     },
     "metadata": {},
     "output_type": "display_data"
    }
   ],
   "source": [
    "# Let c be the constant that Limor uses to correct predicted values\n",
    "c = 5  # you can choose the c you want!!!\n",
    "## if you set c = 0 you will get Omer's MSE"
   ]
  },
  {
   "cell_type": "code",
   "execution_count": 43,
   "id": "71c0fd0d",
   "metadata": {
    "scrolled": true
   },
   "outputs": [
    {
     "data": {
      "text/plain": [
       "4.5    400\n",
       "5.7    100\n",
       "Name: Residuals, dtype: int64"
      ]
     },
     "execution_count": 43,
     "metadata": {},
     "output_type": "execute_result"
    },
    {
     "data": {
      "application/javascript": [
       "\n",
       "            setTimeout(function() {\n",
       "                var nbb_cell_id = 43;\n",
       "                var nbb_unformatted_code = \"## Omer's Model:\\na = [5] * 500\\ndf_pred = pd.DataFrame()\\ndf_pred[\\\"Actual values\\\"] = a\\ndf_pred[\\\"Fitted values\\\"] = a\\n\\nfor i in df_pred[\\\"Actual values\\\"].index:\\n    if i < 400:\\n        df_pred[\\\"Fitted values\\\"].loc[i] = df_pred[\\\"Actual values\\\"].loc[i] + 0.5 - c\\n    else:\\n        df_pred[\\\"Fitted values\\\"].loc[i] = df_pred[\\\"Actual values\\\"].loc[i] - 0.7 - c\\n\\ndf_pred[\\\"Residuals\\\"] = df_pred[\\\"Actual values\\\"] - df_pred[\\\"Fitted values\\\"]\\ndf_pred[\\\"Residuals\\\"].value_counts()\";\n",
       "                var nbb_formatted_code = \"## Omer's Model:\\na = [5] * 500\\ndf_pred = pd.DataFrame()\\ndf_pred[\\\"Actual values\\\"] = a\\ndf_pred[\\\"Fitted values\\\"] = a\\n\\nfor i in df_pred[\\\"Actual values\\\"].index:\\n    if i < 400:\\n        df_pred[\\\"Fitted values\\\"].loc[i] = df_pred[\\\"Actual values\\\"].loc[i] + 0.5 - c\\n    else:\\n        df_pred[\\\"Fitted values\\\"].loc[i] = df_pred[\\\"Actual values\\\"].loc[i] - 0.7 - c\\n\\ndf_pred[\\\"Residuals\\\"] = df_pred[\\\"Actual values\\\"] - df_pred[\\\"Fitted values\\\"]\\ndf_pred[\\\"Residuals\\\"].value_counts()\";\n",
       "                var nbb_cells = Jupyter.notebook.get_cells();\n",
       "                for (var i = 0; i < nbb_cells.length; ++i) {\n",
       "                    if (nbb_cells[i].input_prompt_number == nbb_cell_id) {\n",
       "                        if (nbb_cells[i].get_text() == nbb_unformatted_code) {\n",
       "                             nbb_cells[i].set_text(nbb_formatted_code);\n",
       "                        }\n",
       "                        break;\n",
       "                    }\n",
       "                }\n",
       "            }, 500);\n",
       "            "
      ],
      "text/plain": [
       "<IPython.core.display.Javascript object>"
      ]
     },
     "metadata": {},
     "output_type": "display_data"
    }
   ],
   "source": [
    "## Omer's Model:\n",
    "a = [5] * 500\n",
    "df_pred = pd.DataFrame()\n",
    "df_pred[\"Actual values\"] = a\n",
    "df_pred[\"Fitted values\"] = a\n",
    "\n",
    "for i in df_pred[\"Actual values\"].index:\n",
    "    if i < 400:\n",
    "        df_pred[\"Fitted values\"].loc[i] = df_pred[\"Actual values\"].loc[i] + 0.5 - c\n",
    "    else:\n",
    "        df_pred[\"Fitted values\"].loc[i] = df_pred[\"Actual values\"].loc[i] - 0.7 - c\n",
    "\n",
    "df_pred[\"Residuals\"] = df_pred[\"Actual values\"] - df_pred[\"Fitted values\"]\n",
    "df_pred[\"Residuals\"].value_counts()"
   ]
  },
  {
   "cell_type": "code",
   "execution_count": 44,
   "id": "80459cba",
   "metadata": {},
   "outputs": [
    {
     "data": {
      "text/plain": [
       "22.698"
      ]
     },
     "execution_count": 44,
     "metadata": {},
     "output_type": "execute_result"
    },
    {
     "data": {
      "application/javascript": [
       "\n",
       "            setTimeout(function() {\n",
       "                var nbb_cell_id = 44;\n",
       "                var nbb_unformatted_code = \"# To check model performance\\nfrom sklearn.metrics import mean_absolute_error, mean_squared_error\\n\\n# let's check the MSE on the train data\\nmse1 = mean_squared_error(df_pred[\\\"Actual values\\\"], df_pred[\\\"Fitted values\\\"])\\nmse1\";\n",
       "                var nbb_formatted_code = \"# To check model performance\\nfrom sklearn.metrics import mean_absolute_error, mean_squared_error\\n\\n# let's check the MSE on the train data\\nmse1 = mean_squared_error(df_pred[\\\"Actual values\\\"], df_pred[\\\"Fitted values\\\"])\\nmse1\";\n",
       "                var nbb_cells = Jupyter.notebook.get_cells();\n",
       "                for (var i = 0; i < nbb_cells.length; ++i) {\n",
       "                    if (nbb_cells[i].input_prompt_number == nbb_cell_id) {\n",
       "                        if (nbb_cells[i].get_text() == nbb_unformatted_code) {\n",
       "                             nbb_cells[i].set_text(nbb_formatted_code);\n",
       "                        }\n",
       "                        break;\n",
       "                    }\n",
       "                }\n",
       "            }, 500);\n",
       "            "
      ],
      "text/plain": [
       "<IPython.core.display.Javascript object>"
      ]
     },
     "metadata": {},
     "output_type": "display_data"
    }
   ],
   "source": [
    "# To check model performance\n",
    "from sklearn.metrics import mean_absolute_error, mean_squared_error\n",
    "\n",
    "# let's check the MSE on the train data\n",
    "mse1 = mean_squared_error(df_pred[\"Actual values\"], df_pred[\"Fitted values\"])\n",
    "mse1"
   ]
  },
  {
   "cell_type": "code",
   "execution_count": 45,
   "id": "6212e396",
   "metadata": {},
   "outputs": [
    {
     "data": {
      "text/plain": [
       "22.697999999999997"
      ]
     },
     "execution_count": 45,
     "metadata": {},
     "output_type": "execute_result"
    },
    {
     "data": {
      "application/javascript": [
       "\n",
       "            setTimeout(function() {\n",
       "                var nbb_cell_id = 45;\n",
       "                var nbb_unformatted_code = \"c ** 2 - 0.52 * c + 0.298\";\n",
       "                var nbb_formatted_code = \"c ** 2 - 0.52 * c + 0.298\";\n",
       "                var nbb_cells = Jupyter.notebook.get_cells();\n",
       "                for (var i = 0; i < nbb_cells.length; ++i) {\n",
       "                    if (nbb_cells[i].input_prompt_number == nbb_cell_id) {\n",
       "                        if (nbb_cells[i].get_text() == nbb_unformatted_code) {\n",
       "                             nbb_cells[i].set_text(nbb_formatted_code);\n",
       "                        }\n",
       "                        break;\n",
       "                    }\n",
       "                }\n",
       "            }, 500);\n",
       "            "
      ],
      "text/plain": [
       "<IPython.core.display.Javascript object>"
      ]
     },
     "metadata": {},
     "output_type": "display_data"
    }
   ],
   "source": [
    "c ** 2 - 0.52 * c + 0.298"
   ]
  },
  {
   "cell_type": "markdown",
   "id": "0125657d",
   "metadata": {},
   "source": [
    "### We can see that Limor's MSE changes by : c^2 - 0.52c +0.298\n",
    "### When c = 0 we get Omar's MSE of 0.298, try it out! \n",
    "### just set the value of c = 0\n",
    "\n",
    "##### Keep Learning !!!"
   ]
  }
 ],
 "metadata": {
  "kernelspec": {
   "display_name": "Python (myenv)",
   "language": "python",
   "name": "myenv"
  },
  "language_info": {
   "codemirror_mode": {
    "name": "ipython",
    "version": 3
   },
   "file_extension": ".py",
   "mimetype": "text/x-python",
   "name": "python",
   "nbconvert_exporter": "python",
   "pygments_lexer": "ipython3",
   "version": "3.8.8"
  }
 },
 "nbformat": 4,
 "nbformat_minor": 5
}
