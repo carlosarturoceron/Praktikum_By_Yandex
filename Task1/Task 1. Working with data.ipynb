{
 "cells": [
  {
   "cell_type": "markdown",
   "id": "2954d555",
   "metadata": {},
   "source": [
    "## Import the necessary libraries"
   ]
  },
  {
   "cell_type": "code",
   "execution_count": 1,
   "id": "bf849303",
   "metadata": {},
   "outputs": [
    {
     "data": {
      "application/javascript": [
       "\n",
       "            setTimeout(function() {\n",
       "                var nbb_cell_id = 1;\n",
       "                var nbb_unformatted_code = \"# this will help in making the Python code more structured automatically (good coding practice)\\n%load_ext nb_black\\n\\n# Libraries to help with reading and manipulating data\\nimport numpy as np\\nimport pandas as pd\\n\\n# Libraries to help with data visualization\\nimport matplotlib.pyplot as plt\\nimport seaborn as sns\\n\\nsns.set()\\n\\n# Removes the limit from the number of displayed columns and rows.\\n# This is so I can see the entire dataframe when I print it\\npd.set_option(\\\"display.max_columns\\\", None)\\n# pd.set_option('display.max_rows', None)\\npd.set_option(\\\"display.max_rows\\\", 200)\\n\\nimport warnings\\n\\nwarnings.filterwarnings(\\\"ignore\\\")\";\n",
       "                var nbb_formatted_code = \"# this will help in making the Python code more structured automatically (good coding practice)\\n%load_ext nb_black\\n\\n# Libraries to help with reading and manipulating data\\nimport numpy as np\\nimport pandas as pd\\n\\n# Libraries to help with data visualization\\nimport matplotlib.pyplot as plt\\nimport seaborn as sns\\n\\nsns.set()\\n\\n# Removes the limit from the number of displayed columns and rows.\\n# This is so I can see the entire dataframe when I print it\\npd.set_option(\\\"display.max_columns\\\", None)\\n# pd.set_option('display.max_rows', None)\\npd.set_option(\\\"display.max_rows\\\", 200)\\n\\nimport warnings\\n\\nwarnings.filterwarnings(\\\"ignore\\\")\";\n",
       "                var nbb_cells = Jupyter.notebook.get_cells();\n",
       "                for (var i = 0; i < nbb_cells.length; ++i) {\n",
       "                    if (nbb_cells[i].input_prompt_number == nbb_cell_id) {\n",
       "                        if (nbb_cells[i].get_text() == nbb_unformatted_code) {\n",
       "                             nbb_cells[i].set_text(nbb_formatted_code);\n",
       "                        }\n",
       "                        break;\n",
       "                    }\n",
       "                }\n",
       "            }, 500);\n",
       "            "
      ],
      "text/plain": [
       "<IPython.core.display.Javascript object>"
      ]
     },
     "metadata": {},
     "output_type": "display_data"
    }
   ],
   "source": [
    "# this will help in making the Python code more structured automatically (good coding practice)\n",
    "%load_ext nb_black\n",
    "\n",
    "# Libraries to help with reading and manipulating data\n",
    "import numpy as np\n",
    "import pandas as pd\n",
    "\n",
    "# Libraries to help with data visualization\n",
    "import matplotlib.pyplot as plt\n",
    "import seaborn as sns\n",
    "\n",
    "sns.set()\n",
    "\n",
    "# Removes the limit from the number of displayed columns and rows.\n",
    "# This is so I can see the entire dataframe when I print it\n",
    "pd.set_option(\"display.max_columns\", None)\n",
    "# pd.set_option('display.max_rows', None)\n",
    "pd.set_option(\"display.max_rows\", 200)\n",
    "\n",
    "import warnings\n",
    "\n",
    "warnings.filterwarnings(\"ignore\")"
   ]
  },
  {
   "cell_type": "markdown",
   "id": "a72ad377",
   "metadata": {},
   "source": [
    "## Load and explore the Data"
   ]
  },
  {
   "cell_type": "code",
   "execution_count": 2,
   "id": "8ad0a2ad",
   "metadata": {},
   "outputs": [
    {
     "data": {
      "application/javascript": [
       "\n",
       "            setTimeout(function() {\n",
       "                var nbb_cell_id = 2;\n",
       "                var nbb_unformatted_code = \"rawdata = pd.read_csv(\\\"movie_metadata.csv\\\")\";\n",
       "                var nbb_formatted_code = \"rawdata = pd.read_csv(\\\"movie_metadata.csv\\\")\";\n",
       "                var nbb_cells = Jupyter.notebook.get_cells();\n",
       "                for (var i = 0; i < nbb_cells.length; ++i) {\n",
       "                    if (nbb_cells[i].input_prompt_number == nbb_cell_id) {\n",
       "                        if (nbb_cells[i].get_text() == nbb_unformatted_code) {\n",
       "                             nbb_cells[i].set_text(nbb_formatted_code);\n",
       "                        }\n",
       "                        break;\n",
       "                    }\n",
       "                }\n",
       "            }, 500);\n",
       "            "
      ],
      "text/plain": [
       "<IPython.core.display.Javascript object>"
      ]
     },
     "metadata": {},
     "output_type": "display_data"
    }
   ],
   "source": [
    "rawdata = pd.read_csv(\"movie_metadata.csv\")"
   ]
  },
  {
   "cell_type": "code",
   "execution_count": 3,
   "id": "2d305a3a",
   "metadata": {
    "scrolled": true
   },
   "outputs": [
    {
     "data": {
      "text/html": [
       "<div>\n",
       "<style scoped>\n",
       "    .dataframe tbody tr th:only-of-type {\n",
       "        vertical-align: middle;\n",
       "    }\n",
       "\n",
       "    .dataframe tbody tr th {\n",
       "        vertical-align: top;\n",
       "    }\n",
       "\n",
       "    .dataframe thead th {\n",
       "        text-align: right;\n",
       "    }\n",
       "</style>\n",
       "<table border=\"1\" class=\"dataframe\">\n",
       "  <thead>\n",
       "    <tr style=\"text-align: right;\">\n",
       "      <th></th>\n",
       "      <th>color</th>\n",
       "      <th>director_name</th>\n",
       "      <th>num_critic_for_reviews</th>\n",
       "      <th>duration</th>\n",
       "      <th>director_facebook_likes</th>\n",
       "      <th>actor_3_facebook_likes</th>\n",
       "      <th>actor_2_name</th>\n",
       "      <th>actor_1_facebook_likes</th>\n",
       "      <th>gross</th>\n",
       "      <th>genres</th>\n",
       "      <th>actor_1_name</th>\n",
       "      <th>movie_title</th>\n",
       "      <th>num_voted_users</th>\n",
       "      <th>cast_total_facebook_likes</th>\n",
       "      <th>actor_3_name</th>\n",
       "      <th>facenumber_in_poster</th>\n",
       "      <th>plot_keywords</th>\n",
       "      <th>movie_imdb_link</th>\n",
       "      <th>num_user_for_reviews</th>\n",
       "      <th>language</th>\n",
       "      <th>country</th>\n",
       "      <th>content_rating</th>\n",
       "      <th>budget</th>\n",
       "      <th>title_year</th>\n",
       "      <th>actor_2_facebook_likes</th>\n",
       "      <th>imdb_score</th>\n",
       "      <th>aspect_ratio</th>\n",
       "      <th>movie_facebook_likes</th>\n",
       "    </tr>\n",
       "  </thead>\n",
       "  <tbody>\n",
       "    <tr>\n",
       "      <th>0</th>\n",
       "      <td>Color</td>\n",
       "      <td>James Cameron</td>\n",
       "      <td>723.0</td>\n",
       "      <td>178.0</td>\n",
       "      <td>0.0</td>\n",
       "      <td>855.0</td>\n",
       "      <td>Joel David Moore</td>\n",
       "      <td>1000.0</td>\n",
       "      <td>760505847.0</td>\n",
       "      <td>Action|Adventure|Fantasy|Sci-Fi</td>\n",
       "      <td>CCH Pounder</td>\n",
       "      <td>Avatar</td>\n",
       "      <td>886204</td>\n",
       "      <td>4834</td>\n",
       "      <td>Wes Studi</td>\n",
       "      <td>0.0</td>\n",
       "      <td>avatar|future|marine|native|paraplegic</td>\n",
       "      <td>http://www.imdb.com/title/tt0499549/?ref_=fn_t...</td>\n",
       "      <td>3054.0</td>\n",
       "      <td>English</td>\n",
       "      <td>USA</td>\n",
       "      <td>PG-13</td>\n",
       "      <td>237000000.0$</td>\n",
       "      <td>2009.0</td>\n",
       "      <td>936.0</td>\n",
       "      <td>7.9</td>\n",
       "      <td>1.78</td>\n",
       "      <td>33000</td>\n",
       "    </tr>\n",
       "    <tr>\n",
       "      <th>1</th>\n",
       "      <td>Color</td>\n",
       "      <td>Gore Verbinski</td>\n",
       "      <td>302.0</td>\n",
       "      <td>169.0</td>\n",
       "      <td>563.0</td>\n",
       "      <td>1000.0</td>\n",
       "      <td>Orlando Bloom</td>\n",
       "      <td>40000.0</td>\n",
       "      <td>309404152.0</td>\n",
       "      <td>Action|Adventure|Fantasy</td>\n",
       "      <td>Johnny Depp</td>\n",
       "      <td>Pirates of the Caribbean: At World's End</td>\n",
       "      <td>471220</td>\n",
       "      <td>48350</td>\n",
       "      <td>Jack Davenport</td>\n",
       "      <td>0.0</td>\n",
       "      <td>goddess|marriage ceremony|marriage proposal|pi...</td>\n",
       "      <td>http://www.imdb.com/title/tt0449088/?ref_=fn_t...</td>\n",
       "      <td>1238.0</td>\n",
       "      <td>English</td>\n",
       "      <td>USA</td>\n",
       "      <td>PG-13</td>\n",
       "      <td>300000000.0$</td>\n",
       "      <td>2007.0</td>\n",
       "      <td>5000.0</td>\n",
       "      <td>7.1</td>\n",
       "      <td>2.35</td>\n",
       "      <td>0</td>\n",
       "    </tr>\n",
       "    <tr>\n",
       "      <th>2</th>\n",
       "      <td>Color</td>\n",
       "      <td>Sam Mendes</td>\n",
       "      <td>602.0</td>\n",
       "      <td>148.0</td>\n",
       "      <td>0.0</td>\n",
       "      <td>161.0</td>\n",
       "      <td>Rory Kinnear</td>\n",
       "      <td>11000.0</td>\n",
       "      <td>200074175.0</td>\n",
       "      <td>Action|Adventure|Thriller</td>\n",
       "      <td>Christoph Waltz</td>\n",
       "      <td>Spectre</td>\n",
       "      <td>275868</td>\n",
       "      <td>11700</td>\n",
       "      <td>Stephanie Sigman</td>\n",
       "      <td>1.0</td>\n",
       "      <td>bomb|espionage|sequel|spy|terrorist</td>\n",
       "      <td>http://www.imdb.com/title/tt2379713/?ref_=fn_t...</td>\n",
       "      <td>994.0</td>\n",
       "      <td>English</td>\n",
       "      <td>UK</td>\n",
       "      <td>PG-13</td>\n",
       "      <td>245000000.0$</td>\n",
       "      <td>2015.0</td>\n",
       "      <td>393.0</td>\n",
       "      <td>6.8</td>\n",
       "      <td>2.35</td>\n",
       "      <td>85000</td>\n",
       "    </tr>\n",
       "    <tr>\n",
       "      <th>3</th>\n",
       "      <td>Color</td>\n",
       "      <td>Christopher Nolan</td>\n",
       "      <td>813.0</td>\n",
       "      <td>164.0</td>\n",
       "      <td>22000.0</td>\n",
       "      <td>23000.0</td>\n",
       "      <td>Christian Bale</td>\n",
       "      <td>27000.0</td>\n",
       "      <td>448130642.0</td>\n",
       "      <td>Action|Thriller</td>\n",
       "      <td>Tom Hardy</td>\n",
       "      <td>The Dark Knight Rises</td>\n",
       "      <td>1144337</td>\n",
       "      <td>106759</td>\n",
       "      <td>Joseph Gordon-Levitt</td>\n",
       "      <td>0.0</td>\n",
       "      <td>deception|imprisonment|lawlessness|police offi...</td>\n",
       "      <td>http://www.imdb.com/title/tt1345836/?ref_=fn_t...</td>\n",
       "      <td>2701.0</td>\n",
       "      <td>English</td>\n",
       "      <td>USA</td>\n",
       "      <td>PG-13</td>\n",
       "      <td>250000000.0$</td>\n",
       "      <td>2012.0</td>\n",
       "      <td>23000.0</td>\n",
       "      <td>8.5</td>\n",
       "      <td>2.35</td>\n",
       "      <td>164000</td>\n",
       "    </tr>\n",
       "    <tr>\n",
       "      <th>4</th>\n",
       "      <td>NaN</td>\n",
       "      <td>Doug Walker</td>\n",
       "      <td>NaN</td>\n",
       "      <td>NaN</td>\n",
       "      <td>131.0</td>\n",
       "      <td>NaN</td>\n",
       "      <td>Rob Walker</td>\n",
       "      <td>131.0</td>\n",
       "      <td>NaN</td>\n",
       "      <td>Documentary</td>\n",
       "      <td>Doug Walker</td>\n",
       "      <td>Star Wars: Episode VII - The Force Awakens    ...</td>\n",
       "      <td>8</td>\n",
       "      <td>143</td>\n",
       "      <td>NaN</td>\n",
       "      <td>0.0</td>\n",
       "      <td>NaN</td>\n",
       "      <td>http://www.imdb.com/title/tt5289954/?ref_=fn_t...</td>\n",
       "      <td>NaN</td>\n",
       "      <td>NaN</td>\n",
       "      <td>NaN</td>\n",
       "      <td>NaN</td>\n",
       "      <td>0.0$</td>\n",
       "      <td>NaN</td>\n",
       "      <td>12.0</td>\n",
       "      <td>7.1</td>\n",
       "      <td>NaN</td>\n",
       "      <td>0</td>\n",
       "    </tr>\n",
       "    <tr>\n",
       "      <th>...</th>\n",
       "      <td>...</td>\n",
       "      <td>...</td>\n",
       "      <td>...</td>\n",
       "      <td>...</td>\n",
       "      <td>...</td>\n",
       "      <td>...</td>\n",
       "      <td>...</td>\n",
       "      <td>...</td>\n",
       "      <td>...</td>\n",
       "      <td>...</td>\n",
       "      <td>...</td>\n",
       "      <td>...</td>\n",
       "      <td>...</td>\n",
       "      <td>...</td>\n",
       "      <td>...</td>\n",
       "      <td>...</td>\n",
       "      <td>...</td>\n",
       "      <td>...</td>\n",
       "      <td>...</td>\n",
       "      <td>...</td>\n",
       "      <td>...</td>\n",
       "      <td>...</td>\n",
       "      <td>...</td>\n",
       "      <td>...</td>\n",
       "      <td>...</td>\n",
       "      <td>...</td>\n",
       "      <td>...</td>\n",
       "      <td>...</td>\n",
       "    </tr>\n",
       "    <tr>\n",
       "      <th>5038</th>\n",
       "      <td>Color</td>\n",
       "      <td>Scott Smith</td>\n",
       "      <td>1.0</td>\n",
       "      <td>87.0</td>\n",
       "      <td>2.0</td>\n",
       "      <td>318.0</td>\n",
       "      <td>Daphne Zuniga</td>\n",
       "      <td>637.0</td>\n",
       "      <td>NaN</td>\n",
       "      <td>Comedy|Drama</td>\n",
       "      <td>Eric Mabius</td>\n",
       "      <td>Signed Sealed Delivered</td>\n",
       "      <td>629</td>\n",
       "      <td>2283</td>\n",
       "      <td>Crystal Lowe</td>\n",
       "      <td>2.0</td>\n",
       "      <td>fraud|postal worker|prison|theft|trial</td>\n",
       "      <td>http://www.imdb.com/title/tt3000844/?ref_=fn_t...</td>\n",
       "      <td>6.0</td>\n",
       "      <td>English</td>\n",
       "      <td>Canada</td>\n",
       "      <td>NaN</td>\n",
       "      <td>0.0$</td>\n",
       "      <td>2013.0</td>\n",
       "      <td>470.0</td>\n",
       "      <td>7.7</td>\n",
       "      <td>NaN</td>\n",
       "      <td>84</td>\n",
       "    </tr>\n",
       "    <tr>\n",
       "      <th>5039</th>\n",
       "      <td>Color</td>\n",
       "      <td>NaN</td>\n",
       "      <td>43.0</td>\n",
       "      <td>43.0</td>\n",
       "      <td>NaN</td>\n",
       "      <td>319.0</td>\n",
       "      <td>Valorie Curry</td>\n",
       "      <td>841.0</td>\n",
       "      <td>NaN</td>\n",
       "      <td>Crime|Drama|Mystery|Thriller</td>\n",
       "      <td>Natalie Zea</td>\n",
       "      <td>The Following</td>\n",
       "      <td>73839</td>\n",
       "      <td>1753</td>\n",
       "      <td>Sam Underwood</td>\n",
       "      <td>1.0</td>\n",
       "      <td>cult|fbi|hideout|prison escape|serial killer</td>\n",
       "      <td>http://www.imdb.com/title/tt2071645/?ref_=fn_t...</td>\n",
       "      <td>359.0</td>\n",
       "      <td>English</td>\n",
       "      <td>USA</td>\n",
       "      <td>TV-14</td>\n",
       "      <td>0.0$</td>\n",
       "      <td>NaN</td>\n",
       "      <td>593.0</td>\n",
       "      <td>7.5</td>\n",
       "      <td>16.00</td>\n",
       "      <td>32000</td>\n",
       "    </tr>\n",
       "    <tr>\n",
       "      <th>5040</th>\n",
       "      <td>Color</td>\n",
       "      <td>Benjamin Roberds</td>\n",
       "      <td>13.0</td>\n",
       "      <td>76.0</td>\n",
       "      <td>0.0</td>\n",
       "      <td>0.0</td>\n",
       "      <td>Maxwell Moody</td>\n",
       "      <td>0.0</td>\n",
       "      <td>NaN</td>\n",
       "      <td>Drama|Horror|Thriller</td>\n",
       "      <td>Eva Boehnke</td>\n",
       "      <td>A Plague So Pleasant</td>\n",
       "      <td>38</td>\n",
       "      <td>0</td>\n",
       "      <td>David Chandler</td>\n",
       "      <td>0.0</td>\n",
       "      <td>NaN</td>\n",
       "      <td>http://www.imdb.com/title/tt2107644/?ref_=fn_t...</td>\n",
       "      <td>3.0</td>\n",
       "      <td>English</td>\n",
       "      <td>USA</td>\n",
       "      <td>NaN</td>\n",
       "      <td>1400.0$</td>\n",
       "      <td>2013.0</td>\n",
       "      <td>0.0</td>\n",
       "      <td>6.3</td>\n",
       "      <td>NaN</td>\n",
       "      <td>16</td>\n",
       "    </tr>\n",
       "    <tr>\n",
       "      <th>5041</th>\n",
       "      <td>Color</td>\n",
       "      <td>Daniel Hsia</td>\n",
       "      <td>14.0</td>\n",
       "      <td>100.0</td>\n",
       "      <td>0.0</td>\n",
       "      <td>489.0</td>\n",
       "      <td>Daniel Henney</td>\n",
       "      <td>946.0</td>\n",
       "      <td>10443.0</td>\n",
       "      <td>Comedy|Drama|Romance</td>\n",
       "      <td>Alan Ruck</td>\n",
       "      <td>Shanghai Calling</td>\n",
       "      <td>1255</td>\n",
       "      <td>2386</td>\n",
       "      <td>Eliza Coupe</td>\n",
       "      <td>5.0</td>\n",
       "      <td>NaN</td>\n",
       "      <td>http://www.imdb.com/title/tt2070597/?ref_=fn_t...</td>\n",
       "      <td>9.0</td>\n",
       "      <td>English</td>\n",
       "      <td>USA</td>\n",
       "      <td>PG-13</td>\n",
       "      <td>0.0$</td>\n",
       "      <td>2012.0</td>\n",
       "      <td>719.0</td>\n",
       "      <td>6.3</td>\n",
       "      <td>2.35</td>\n",
       "      <td>660</td>\n",
       "    </tr>\n",
       "    <tr>\n",
       "      <th>5042</th>\n",
       "      <td>Color</td>\n",
       "      <td>Jon Gunn</td>\n",
       "      <td>43.0</td>\n",
       "      <td>90.0</td>\n",
       "      <td>16.0</td>\n",
       "      <td>16.0</td>\n",
       "      <td>Brian Herzlinger</td>\n",
       "      <td>86.0</td>\n",
       "      <td>85222.0</td>\n",
       "      <td>Documentary</td>\n",
       "      <td>John August</td>\n",
       "      <td>My Date with Drew</td>\n",
       "      <td>4285</td>\n",
       "      <td>163</td>\n",
       "      <td>Jon Gunn</td>\n",
       "      <td>0.0</td>\n",
       "      <td>actress name in title|crush|date|four word tit...</td>\n",
       "      <td>http://www.imdb.com/title/tt0378407/?ref_=fn_t...</td>\n",
       "      <td>84.0</td>\n",
       "      <td>English</td>\n",
       "      <td>USA</td>\n",
       "      <td>PG</td>\n",
       "      <td>1100.0$</td>\n",
       "      <td>2004.0</td>\n",
       "      <td>23.0</td>\n",
       "      <td>6.6</td>\n",
       "      <td>1.85</td>\n",
       "      <td>456</td>\n",
       "    </tr>\n",
       "  </tbody>\n",
       "</table>\n",
       "<p>5043 rows × 28 columns</p>\n",
       "</div>"
      ],
      "text/plain": [
       "      color      director_name  num_critic_for_reviews  duration  \\\n",
       "0     Color      James Cameron                   723.0     178.0   \n",
       "1     Color     Gore Verbinski                   302.0     169.0   \n",
       "2     Color         Sam Mendes                   602.0     148.0   \n",
       "3     Color  Christopher Nolan                   813.0     164.0   \n",
       "4       NaN        Doug Walker                     NaN       NaN   \n",
       "...     ...                ...                     ...       ...   \n",
       "5038  Color        Scott Smith                     1.0      87.0   \n",
       "5039  Color                NaN                    43.0      43.0   \n",
       "5040  Color   Benjamin Roberds                    13.0      76.0   \n",
       "5041  Color        Daniel Hsia                    14.0     100.0   \n",
       "5042  Color           Jon Gunn                    43.0      90.0   \n",
       "\n",
       "      director_facebook_likes  actor_3_facebook_likes      actor_2_name  \\\n",
       "0                         0.0                   855.0  Joel David Moore   \n",
       "1                       563.0                  1000.0     Orlando Bloom   \n",
       "2                         0.0                   161.0      Rory Kinnear   \n",
       "3                     22000.0                 23000.0    Christian Bale   \n",
       "4                       131.0                     NaN        Rob Walker   \n",
       "...                       ...                     ...               ...   \n",
       "5038                      2.0                   318.0     Daphne Zuniga   \n",
       "5039                      NaN                   319.0     Valorie Curry   \n",
       "5040                      0.0                     0.0     Maxwell Moody   \n",
       "5041                      0.0                   489.0     Daniel Henney   \n",
       "5042                     16.0                    16.0  Brian Herzlinger   \n",
       "\n",
       "      actor_1_facebook_likes        gross                           genres  \\\n",
       "0                     1000.0  760505847.0  Action|Adventure|Fantasy|Sci-Fi   \n",
       "1                    40000.0  309404152.0         Action|Adventure|Fantasy   \n",
       "2                    11000.0  200074175.0        Action|Adventure|Thriller   \n",
       "3                    27000.0  448130642.0                  Action|Thriller   \n",
       "4                      131.0          NaN                      Documentary   \n",
       "...                      ...          ...                              ...   \n",
       "5038                   637.0          NaN                     Comedy|Drama   \n",
       "5039                   841.0          NaN     Crime|Drama|Mystery|Thriller   \n",
       "5040                     0.0          NaN            Drama|Horror|Thriller   \n",
       "5041                   946.0      10443.0             Comedy|Drama|Romance   \n",
       "5042                    86.0      85222.0                      Documentary   \n",
       "\n",
       "         actor_1_name                                        movie_title  \\\n",
       "0         CCH Pounder                                            Avatar    \n",
       "1         Johnny Depp          Pirates of the Caribbean: At World's End    \n",
       "2     Christoph Waltz                                           Spectre    \n",
       "3           Tom Hardy                             The Dark Knight Rises    \n",
       "4         Doug Walker  Star Wars: Episode VII - The Force Awakens    ...   \n",
       "...               ...                                                ...   \n",
       "5038      Eric Mabius                           Signed Sealed Delivered    \n",
       "5039      Natalie Zea                         The Following                \n",
       "5040      Eva Boehnke                              A Plague So Pleasant    \n",
       "5041        Alan Ruck                                  Shanghai Calling    \n",
       "5042      John August                                 My Date with Drew    \n",
       "\n",
       "      num_voted_users  cast_total_facebook_likes          actor_3_name  \\\n",
       "0              886204                       4834             Wes Studi   \n",
       "1              471220                      48350        Jack Davenport   \n",
       "2              275868                      11700      Stephanie Sigman   \n",
       "3             1144337                     106759  Joseph Gordon-Levitt   \n",
       "4                   8                        143                   NaN   \n",
       "...               ...                        ...                   ...   \n",
       "5038              629                       2283          Crystal Lowe   \n",
       "5039            73839                       1753         Sam Underwood   \n",
       "5040               38                          0        David Chandler   \n",
       "5041             1255                       2386           Eliza Coupe   \n",
       "5042             4285                        163              Jon Gunn   \n",
       "\n",
       "      facenumber_in_poster                                      plot_keywords  \\\n",
       "0                      0.0             avatar|future|marine|native|paraplegic   \n",
       "1                      0.0  goddess|marriage ceremony|marriage proposal|pi...   \n",
       "2                      1.0                bomb|espionage|sequel|spy|terrorist   \n",
       "3                      0.0  deception|imprisonment|lawlessness|police offi...   \n",
       "4                      0.0                                                NaN   \n",
       "...                    ...                                                ...   \n",
       "5038                   2.0             fraud|postal worker|prison|theft|trial   \n",
       "5039                   1.0       cult|fbi|hideout|prison escape|serial killer   \n",
       "5040                   0.0                                                NaN   \n",
       "5041                   5.0                                                NaN   \n",
       "5042                   0.0  actress name in title|crush|date|four word tit...   \n",
       "\n",
       "                                        movie_imdb_link  num_user_for_reviews  \\\n",
       "0     http://www.imdb.com/title/tt0499549/?ref_=fn_t...                3054.0   \n",
       "1     http://www.imdb.com/title/tt0449088/?ref_=fn_t...                1238.0   \n",
       "2     http://www.imdb.com/title/tt2379713/?ref_=fn_t...                 994.0   \n",
       "3     http://www.imdb.com/title/tt1345836/?ref_=fn_t...                2701.0   \n",
       "4     http://www.imdb.com/title/tt5289954/?ref_=fn_t...                   NaN   \n",
       "...                                                 ...                   ...   \n",
       "5038  http://www.imdb.com/title/tt3000844/?ref_=fn_t...                   6.0   \n",
       "5039  http://www.imdb.com/title/tt2071645/?ref_=fn_t...                 359.0   \n",
       "5040  http://www.imdb.com/title/tt2107644/?ref_=fn_t...                   3.0   \n",
       "5041  http://www.imdb.com/title/tt2070597/?ref_=fn_t...                   9.0   \n",
       "5042  http://www.imdb.com/title/tt0378407/?ref_=fn_t...                  84.0   \n",
       "\n",
       "     language country content_rating        budget  title_year  \\\n",
       "0     English     USA          PG-13  237000000.0$      2009.0   \n",
       "1     English     USA          PG-13  300000000.0$      2007.0   \n",
       "2     English      UK          PG-13  245000000.0$      2015.0   \n",
       "3     English     USA          PG-13  250000000.0$      2012.0   \n",
       "4         NaN     NaN            NaN          0.0$         NaN   \n",
       "...       ...     ...            ...           ...         ...   \n",
       "5038  English  Canada            NaN          0.0$      2013.0   \n",
       "5039  English     USA          TV-14          0.0$         NaN   \n",
       "5040  English     USA            NaN       1400.0$      2013.0   \n",
       "5041  English     USA          PG-13          0.0$      2012.0   \n",
       "5042  English     USA             PG       1100.0$      2004.0   \n",
       "\n",
       "      actor_2_facebook_likes  imdb_score  aspect_ratio  movie_facebook_likes  \n",
       "0                      936.0         7.9          1.78                 33000  \n",
       "1                     5000.0         7.1          2.35                     0  \n",
       "2                      393.0         6.8          2.35                 85000  \n",
       "3                    23000.0         8.5          2.35                164000  \n",
       "4                       12.0         7.1           NaN                     0  \n",
       "...                      ...         ...           ...                   ...  \n",
       "5038                   470.0         7.7           NaN                    84  \n",
       "5039                   593.0         7.5         16.00                 32000  \n",
       "5040                     0.0         6.3           NaN                    16  \n",
       "5041                   719.0         6.3          2.35                   660  \n",
       "5042                    23.0         6.6          1.85                   456  \n",
       "\n",
       "[5043 rows x 28 columns]"
      ]
     },
     "execution_count": 3,
     "metadata": {},
     "output_type": "execute_result"
    },
    {
     "data": {
      "application/javascript": [
       "\n",
       "            setTimeout(function() {\n",
       "                var nbb_cell_id = 3;\n",
       "                var nbb_unformatted_code = \"rawdata\";\n",
       "                var nbb_formatted_code = \"rawdata\";\n",
       "                var nbb_cells = Jupyter.notebook.get_cells();\n",
       "                for (var i = 0; i < nbb_cells.length; ++i) {\n",
       "                    if (nbb_cells[i].input_prompt_number == nbb_cell_id) {\n",
       "                        if (nbb_cells[i].get_text() == nbb_unformatted_code) {\n",
       "                             nbb_cells[i].set_text(nbb_formatted_code);\n",
       "                        }\n",
       "                        break;\n",
       "                    }\n",
       "                }\n",
       "            }, 500);\n",
       "            "
      ],
      "text/plain": [
       "<IPython.core.display.Javascript object>"
      ]
     },
     "metadata": {},
     "output_type": "display_data"
    }
   ],
   "source": [
    "rawdata"
   ]
  },
  {
   "cell_type": "markdown",
   "id": "6b88f3b0",
   "metadata": {},
   "source": [
    "Observations:\n",
    "* 5043 observations with 28 attributes"
   ]
  },
  {
   "cell_type": "code",
   "execution_count": 4,
   "id": "3007f80f",
   "metadata": {
    "scrolled": true
   },
   "outputs": [
    {
     "name": "stdout",
     "output_type": "stream",
     "text": [
      "<class 'pandas.core.frame.DataFrame'>\n",
      "RangeIndex: 5043 entries, 0 to 5042\n",
      "Data columns (total 28 columns):\n",
      " #   Column                     Non-Null Count  Dtype  \n",
      "---  ------                     --------------  -----  \n",
      " 0   color                      5024 non-null   object \n",
      " 1   director_name              4939 non-null   object \n",
      " 2   num_critic_for_reviews     4993 non-null   float64\n",
      " 3   duration                   5028 non-null   float64\n",
      " 4   director_facebook_likes    4939 non-null   float64\n",
      " 5   actor_3_facebook_likes     5020 non-null   float64\n",
      " 6   actor_2_name               5030 non-null   object \n",
      " 7   actor_1_facebook_likes     5036 non-null   float64\n",
      " 8   gross                      4159 non-null   float64\n",
      " 9   genres                     5043 non-null   object \n",
      " 10  actor_1_name               5036 non-null   object \n",
      " 11  movie_title                5043 non-null   object \n",
      " 12  num_voted_users            5043 non-null   int64  \n",
      " 13  cast_total_facebook_likes  5043 non-null   int64  \n",
      " 14  actor_3_name               5020 non-null   object \n",
      " 15  facenumber_in_poster       5030 non-null   float64\n",
      " 16  plot_keywords              4890 non-null   object \n",
      " 17  movie_imdb_link            5043 non-null   object \n",
      " 18  num_user_for_reviews       5022 non-null   float64\n",
      " 19  language                   5031 non-null   object \n",
      " 20  country                    5038 non-null   object \n",
      " 21  content_rating             4740 non-null   object \n",
      " 22  budget                     5043 non-null   object \n",
      " 23  title_year                 4935 non-null   float64\n",
      " 24  actor_2_facebook_likes     5030 non-null   float64\n",
      " 25  imdb_score                 5043 non-null   float64\n",
      " 26  aspect_ratio               4714 non-null   float64\n",
      " 27  movie_facebook_likes       5043 non-null   int64  \n",
      "dtypes: float64(12), int64(3), object(13)\n",
      "memory usage: 1.1+ MB\n"
     ]
    },
    {
     "data": {
      "application/javascript": [
       "\n",
       "            setTimeout(function() {\n",
       "                var nbb_cell_id = 4;\n",
       "                var nbb_unformatted_code = \"rawdata.info()\";\n",
       "                var nbb_formatted_code = \"rawdata.info()\";\n",
       "                var nbb_cells = Jupyter.notebook.get_cells();\n",
       "                for (var i = 0; i < nbb_cells.length; ++i) {\n",
       "                    if (nbb_cells[i].input_prompt_number == nbb_cell_id) {\n",
       "                        if (nbb_cells[i].get_text() == nbb_unformatted_code) {\n",
       "                             nbb_cells[i].set_text(nbb_formatted_code);\n",
       "                        }\n",
       "                        break;\n",
       "                    }\n",
       "                }\n",
       "            }, 500);\n",
       "            "
      ],
      "text/plain": [
       "<IPython.core.display.Javascript object>"
      ]
     },
     "metadata": {},
     "output_type": "display_data"
    }
   ],
   "source": [
    "rawdata.info()"
   ]
  },
  {
   "cell_type": "code",
   "execution_count": 5,
   "id": "70cb6fbc",
   "metadata": {},
   "outputs": [
    {
     "data": {
      "application/javascript": [
       "\n",
       "            setTimeout(function() {\n",
       "                var nbb_cell_id = 5;\n",
       "                var nbb_unformatted_code = \"df = rawdata.copy()\";\n",
       "                var nbb_formatted_code = \"df = rawdata.copy()\";\n",
       "                var nbb_cells = Jupyter.notebook.get_cells();\n",
       "                for (var i = 0; i < nbb_cells.length; ++i) {\n",
       "                    if (nbb_cells[i].input_prompt_number == nbb_cell_id) {\n",
       "                        if (nbb_cells[i].get_text() == nbb_unformatted_code) {\n",
       "                             nbb_cells[i].set_text(nbb_formatted_code);\n",
       "                        }\n",
       "                        break;\n",
       "                    }\n",
       "                }\n",
       "            }, 500);\n",
       "            "
      ],
      "text/plain": [
       "<IPython.core.display.Javascript object>"
      ]
     },
     "metadata": {},
     "output_type": "display_data"
    }
   ],
   "source": [
    "df = rawdata.copy()"
   ]
  },
  {
   "cell_type": "markdown",
   "id": "123725b6",
   "metadata": {},
   "source": [
    "### Qestions"
   ]
  },
  {
   "cell_type": "code",
   "execution_count": 6,
   "id": "b1ac1f09",
   "metadata": {
    "scrolled": false
   },
   "outputs": [
    {
     "data": {
      "text/plain": [
       "15"
      ]
     },
     "execution_count": 6,
     "metadata": {},
     "output_type": "execute_result"
    },
    {
     "data": {
      "application/javascript": [
       "\n",
       "            setTimeout(function() {\n",
       "                var nbb_cell_id = 6;\n",
       "                var nbb_unformatted_code = \"# 1.2. The duration column contains data on the film length. How many missing values are there in this column?\\ndf[\\\"duration\\\"].isnull().sum()\";\n",
       "                var nbb_formatted_code = \"# 1.2. The duration column contains data on the film length. How many missing values are there in this column?\\ndf[\\\"duration\\\"].isnull().sum()\";\n",
       "                var nbb_cells = Jupyter.notebook.get_cells();\n",
       "                for (var i = 0; i < nbb_cells.length; ++i) {\n",
       "                    if (nbb_cells[i].input_prompt_number == nbb_cell_id) {\n",
       "                        if (nbb_cells[i].get_text() == nbb_unformatted_code) {\n",
       "                             nbb_cells[i].set_text(nbb_formatted_code);\n",
       "                        }\n",
       "                        break;\n",
       "                    }\n",
       "                }\n",
       "            }, 500);\n",
       "            "
      ],
      "text/plain": [
       "<IPython.core.display.Javascript object>"
      ]
     },
     "metadata": {},
     "output_type": "display_data"
    }
   ],
   "source": [
    "# 1.2. The duration column contains data on the film length. How many missing values are there in this column?\n",
    "df[\"duration\"].isnull().sum()"
   ]
  },
  {
   "cell_type": "code",
   "execution_count": 7,
   "id": "40847ebe",
   "metadata": {},
   "outputs": [
    {
     "data": {
      "application/javascript": [
       "\n",
       "            setTimeout(function() {\n",
       "                var nbb_cell_id = 7;\n",
       "                var nbb_unformatted_code = \"# df[\\\"duration\\\"].value_counts(dropna=False)\\n# this is so I can see the different values, and catch any unvalid value like, negative durations, etc..\\n# this exploration shows the 15 NaN values and all other values in a descending order\";\n",
       "                var nbb_formatted_code = \"# df[\\\"duration\\\"].value_counts(dropna=False)\\n# this is so I can see the different values, and catch any unvalid value like, negative durations, etc..\\n# this exploration shows the 15 NaN values and all other values in a descending order\";\n",
       "                var nbb_cells = Jupyter.notebook.get_cells();\n",
       "                for (var i = 0; i < nbb_cells.length; ++i) {\n",
       "                    if (nbb_cells[i].input_prompt_number == nbb_cell_id) {\n",
       "                        if (nbb_cells[i].get_text() == nbb_unformatted_code) {\n",
       "                             nbb_cells[i].set_text(nbb_formatted_code);\n",
       "                        }\n",
       "                        break;\n",
       "                    }\n",
       "                }\n",
       "            }, 500);\n",
       "            "
      ],
      "text/plain": [
       "<IPython.core.display.Javascript object>"
      ]
     },
     "metadata": {},
     "output_type": "display_data"
    }
   ],
   "source": [
    "# df[\"duration\"].value_counts(dropna=False)\n",
    "# this is so I can see the different values, and catch any unvalid value like, negative durations, etc..\n",
    "# this exploration shows the 15 NaN values and all other values in a descending order"
   ]
  },
  {
   "cell_type": "markdown",
   "id": "d62bddfa",
   "metadata": {},
   "source": [
    "Observations:\n",
    "* There are 15 missing values in the duration column"
   ]
  },
  {
   "cell_type": "code",
   "execution_count": 8,
   "id": "fd9d82c1",
   "metadata": {},
   "outputs": [
    {
     "name": "stdout",
     "output_type": "stream",
     "text": [
      "The number of missing values is now 0\n"
     ]
    },
    {
     "data": {
      "application/javascript": [
       "\n",
       "            setTimeout(function() {\n",
       "                var nbb_cell_id = 8;\n",
       "                var nbb_unformatted_code = \"# 1.3. Replace the missing values in the duration column with the median value for this column.\\ndf[\\\"duration\\\"].fillna(df[\\\"duration\\\"].mean(), inplace=True)\\nprint(f'The number of missing values is now {df[\\\"duration\\\"].isnull().sum()}')\";\n",
       "                var nbb_formatted_code = \"# 1.3. Replace the missing values in the duration column with the median value for this column.\\ndf[\\\"duration\\\"].fillna(df[\\\"duration\\\"].mean(), inplace=True)\\nprint(f'The number of missing values is now {df[\\\"duration\\\"].isnull().sum()}')\";\n",
       "                var nbb_cells = Jupyter.notebook.get_cells();\n",
       "                for (var i = 0; i < nbb_cells.length; ++i) {\n",
       "                    if (nbb_cells[i].input_prompt_number == nbb_cell_id) {\n",
       "                        if (nbb_cells[i].get_text() == nbb_unformatted_code) {\n",
       "                             nbb_cells[i].set_text(nbb_formatted_code);\n",
       "                        }\n",
       "                        break;\n",
       "                    }\n",
       "                }\n",
       "            }, 500);\n",
       "            "
      ],
      "text/plain": [
       "<IPython.core.display.Javascript object>"
      ]
     },
     "metadata": {},
     "output_type": "display_data"
    }
   ],
   "source": [
    "# 1.3. Replace the missing values in the duration column with the median value for this column.\n",
    "df[\"duration\"].fillna(df[\"duration\"].mean(), inplace=True)\n",
    "print(f'The number of missing values is now {df[\"duration\"].isnull().sum()}')"
   ]
  },
  {
   "cell_type": "code",
   "execution_count": 9,
   "id": "07e705a9",
   "metadata": {
    "scrolled": true
   },
   "outputs": [
    {
     "name": "stdout",
     "output_type": "stream",
     "text": [
      "The average film lenght rounded to 2 decimals is 107.2 minutes\n"
     ]
    },
    {
     "data": {
      "application/javascript": [
       "\n",
       "            setTimeout(function() {\n",
       "                var nbb_cell_id = 9;\n",
       "                var nbb_unformatted_code = \"# 1.4. What is the average film length?\\n# Give the answer as a floating-point figure rounded to two decimal places.\\naverage_film_rounded = np.round(df[\\\"duration\\\"].mean(), 2)\\nprint(\\n    f\\\"The average film lenght rounded to 2 decimals is {average_film_rounded} minutes\\\"\\n)\";\n",
       "                var nbb_formatted_code = \"# 1.4. What is the average film length?\\n# Give the answer as a floating-point figure rounded to two decimal places.\\naverage_film_rounded = np.round(df[\\\"duration\\\"].mean(), 2)\\nprint(\\n    f\\\"The average film lenght rounded to 2 decimals is {average_film_rounded} minutes\\\"\\n)\";\n",
       "                var nbb_cells = Jupyter.notebook.get_cells();\n",
       "                for (var i = 0; i < nbb_cells.length; ++i) {\n",
       "                    if (nbb_cells[i].input_prompt_number == nbb_cell_id) {\n",
       "                        if (nbb_cells[i].get_text() == nbb_unformatted_code) {\n",
       "                             nbb_cells[i].set_text(nbb_formatted_code);\n",
       "                        }\n",
       "                        break;\n",
       "                    }\n",
       "                }\n",
       "            }, 500);\n",
       "            "
      ],
      "text/plain": [
       "<IPython.core.display.Javascript object>"
      ]
     },
     "metadata": {},
     "output_type": "display_data"
    }
   ],
   "source": [
    "# 1.4. What is the average film length?\n",
    "# Give the answer as a floating-point figure rounded to two decimal places.\n",
    "average_film_rounded = np.round(df[\"duration\"].mean(), 2)\n",
    "print(\n",
    "    f\"The average film lenght rounded to 2 decimals is {average_film_rounded} minutes\"\n",
    ")"
   ]
  },
  {
   "cell_type": "markdown",
   "id": "46d23705",
   "metadata": {},
   "source": [
    "1.5. Create a movie_duration_category column, which will contain three categories\n",
    "depending on the film length:\n",
    "\n",
    "* Category \"1. <90\" if the film is less than 90 minutes long\n",
    "* Category \"2. 90–120\" if the film is between 90 minutes and two hours long (inclusively)\n",
    "* Category \"3. >120\" if the film is more than two hours long"
   ]
  },
  {
   "cell_type": "code",
   "execution_count": 10,
   "id": "5d9d0e10",
   "metadata": {
    "scrolled": true
   },
   "outputs": [
    {
     "data": {
      "text/plain": [
       "90-120    0.599445\n",
       ">120      0.211580\n",
       "< 90      0.188975\n",
       "Name: duration_bin, dtype: float64"
      ]
     },
     "execution_count": 10,
     "metadata": {},
     "output_type": "execute_result"
    },
    {
     "data": {
      "application/javascript": [
       "\n",
       "            setTimeout(function() {\n",
       "                var nbb_cell_id = 10;\n",
       "                var nbb_unformatted_code = \"# can add custom labels\\ndf[\\\"duration_bin\\\"] = pd.cut(\\n    df[\\\"duration\\\"], [-np.inf, 90, 120, np.inf], labels=[\\\"< 90\\\", \\\"90-120\\\", \\\">120\\\",],\\n)\\n\\ndf[\\\"duration_bin\\\"].value_counts(1, dropna=False)\";\n",
       "                var nbb_formatted_code = \"# can add custom labels\\ndf[\\\"duration_bin\\\"] = pd.cut(\\n    df[\\\"duration\\\"], [-np.inf, 90, 120, np.inf], labels=[\\\"< 90\\\", \\\"90-120\\\", \\\">120\\\",],\\n)\\n\\ndf[\\\"duration_bin\\\"].value_counts(1, dropna=False)\";\n",
       "                var nbb_cells = Jupyter.notebook.get_cells();\n",
       "                for (var i = 0; i < nbb_cells.length; ++i) {\n",
       "                    if (nbb_cells[i].input_prompt_number == nbb_cell_id) {\n",
       "                        if (nbb_cells[i].get_text() == nbb_unformatted_code) {\n",
       "                             nbb_cells[i].set_text(nbb_formatted_code);\n",
       "                        }\n",
       "                        break;\n",
       "                    }\n",
       "                }\n",
       "            }, 500);\n",
       "            "
      ],
      "text/plain": [
       "<IPython.core.display.Javascript object>"
      ]
     },
     "metadata": {},
     "output_type": "display_data"
    }
   ],
   "source": [
    "# can add custom labels\n",
    "df[\"duration_bin\"] = pd.cut(\n",
    "    df[\"duration\"], [-np.inf, 90, 120, np.inf], labels=[\"< 90\", \"90-120\", \">120\",],\n",
    ")\n",
    "\n",
    "df[\"duration_bin\"].value_counts(1, dropna=False)"
   ]
  },
  {
   "cell_type": "markdown",
   "id": "bb0c967d",
   "metadata": {},
   "source": [
    "Obeservations:\n",
    "* Only 18.9% of movies last less 90 minutes\n",
    "* 21.11% of movies last more than 120 minutes\n",
    "* 60% of movies last between 90-120 minutes"
   ]
  },
  {
   "cell_type": "markdown",
   "id": "cd1e7ecf",
   "metadata": {},
   "source": [
    "**1.6. Build a summary table for films released after 2000 (inclusively), to list the numbers of\n",
    "films:**\n",
    "\n",
    "* Table rows: year\n",
    "* Table columns: movie duration category (\"<90\", \"90–120\", \">120\")\n",
    "* The year of release should be displayed in the YYYY format.\n"
   ]
  },
  {
   "cell_type": "code",
   "execution_count": 11,
   "id": "d8c62d9f",
   "metadata": {},
   "outputs": [
    {
     "data": {
      "application/javascript": [
       "\n",
       "            setTimeout(function() {\n",
       "                var nbb_cell_id = 11;\n",
       "                var nbb_unformatted_code = \"a = df[df[\\\"title_year\\\"] >= 2000]\\na = a[[\\\"title_year\\\", \\\"duration_bin\\\"]]\\n\\na.title_year = a.title_year.astype(int)\\n\\n# a[\\\"title_year\\\"] = a[\\\"title_year\\\"].astype(str).apply(lambda x: x.replace(\\\".0\\\", \\\"\\\"))\\n# alternative method to remove .0\\n\\na.set_index(\\\"title_year\\\", inplace=True)\\na.to_excel(\\\"table for films released after 2000 (inclusively).xlsx\\\")\";\n",
       "                var nbb_formatted_code = \"a = df[df[\\\"title_year\\\"] >= 2000]\\na = a[[\\\"title_year\\\", \\\"duration_bin\\\"]]\\n\\na.title_year = a.title_year.astype(int)\\n\\n# a[\\\"title_year\\\"] = a[\\\"title_year\\\"].astype(str).apply(lambda x: x.replace(\\\".0\\\", \\\"\\\"))\\n# alternative method to remove .0\\n\\na.set_index(\\\"title_year\\\", inplace=True)\\na.to_excel(\\\"table for films released after 2000 (inclusively).xlsx\\\")\";\n",
       "                var nbb_cells = Jupyter.notebook.get_cells();\n",
       "                for (var i = 0; i < nbb_cells.length; ++i) {\n",
       "                    if (nbb_cells[i].input_prompt_number == nbb_cell_id) {\n",
       "                        if (nbb_cells[i].get_text() == nbb_unformatted_code) {\n",
       "                             nbb_cells[i].set_text(nbb_formatted_code);\n",
       "                        }\n",
       "                        break;\n",
       "                    }\n",
       "                }\n",
       "            }, 500);\n",
       "            "
      ],
      "text/plain": [
       "<IPython.core.display.Javascript object>"
      ]
     },
     "metadata": {},
     "output_type": "display_data"
    }
   ],
   "source": [
    "a = df[df[\"title_year\"] >= 2000]\n",
    "a = a[[\"title_year\", \"duration_bin\"]]\n",
    "\n",
    "a.title_year = a.title_year.astype(int)\n",
    "\n",
    "# a[\"title_year\"] = a[\"title_year\"].astype(str).apply(lambda x: x.replace(\".0\", \"\"))\n",
    "# alternative method to remove .0\n",
    "\n",
    "a.set_index(\"title_year\", inplace=True)\n",
    "a.to_excel(\"table for films released after 2000 (inclusively).xlsx\")"
   ]
  },
  {
   "cell_type": "code",
   "execution_count": 12,
   "id": "06602579",
   "metadata": {},
   "outputs": [
    {
     "data": {
      "text/html": [
       "<div>\n",
       "<style scoped>\n",
       "    .dataframe tbody tr th:only-of-type {\n",
       "        vertical-align: middle;\n",
       "    }\n",
       "\n",
       "    .dataframe tbody tr th {\n",
       "        vertical-align: top;\n",
       "    }\n",
       "\n",
       "    .dataframe thead th {\n",
       "        text-align: right;\n",
       "    }\n",
       "</style>\n",
       "<table border=\"1\" class=\"dataframe\">\n",
       "  <thead>\n",
       "    <tr style=\"text-align: right;\">\n",
       "      <th></th>\n",
       "      <th>color</th>\n",
       "      <th>director_name</th>\n",
       "      <th>num_critic_for_reviews</th>\n",
       "      <th>duration</th>\n",
       "      <th>director_facebook_likes</th>\n",
       "      <th>actor_3_facebook_likes</th>\n",
       "      <th>actor_2_name</th>\n",
       "      <th>actor_1_facebook_likes</th>\n",
       "      <th>gross</th>\n",
       "      <th>genres</th>\n",
       "      <th>actor_1_name</th>\n",
       "      <th>movie_title</th>\n",
       "      <th>num_voted_users</th>\n",
       "      <th>cast_total_facebook_likes</th>\n",
       "      <th>actor_3_name</th>\n",
       "      <th>facenumber_in_poster</th>\n",
       "      <th>plot_keywords</th>\n",
       "      <th>movie_imdb_link</th>\n",
       "      <th>num_user_for_reviews</th>\n",
       "      <th>language</th>\n",
       "      <th>country</th>\n",
       "      <th>content_rating</th>\n",
       "      <th>budget</th>\n",
       "      <th>title_year</th>\n",
       "      <th>actor_2_facebook_likes</th>\n",
       "      <th>imdb_score</th>\n",
       "      <th>aspect_ratio</th>\n",
       "      <th>movie_facebook_likes</th>\n",
       "      <th>duration_bin</th>\n",
       "    </tr>\n",
       "  </thead>\n",
       "  <tbody>\n",
       "    <tr>\n",
       "      <th>12</th>\n",
       "      <td>Color</td>\n",
       "      <td>Marc Forster</td>\n",
       "      <td>403.0</td>\n",
       "      <td>106.0</td>\n",
       "      <td>395.0</td>\n",
       "      <td>393.0</td>\n",
       "      <td>Mathieu Amalric</td>\n",
       "      <td>451.0</td>\n",
       "      <td>168368427.0</td>\n",
       "      <td>Action|Adventure</td>\n",
       "      <td>Giancarlo Giannini</td>\n",
       "      <td>Quantum of Solace</td>\n",
       "      <td>330784</td>\n",
       "      <td>2023</td>\n",
       "      <td>Rory Kinnear</td>\n",
       "      <td>1.0</td>\n",
       "      <td>action hero|attempted rape|bond girl|official ...</td>\n",
       "      <td>http://www.imdb.com/title/tt0830515/?ref_=fn_t...</td>\n",
       "      <td>1243.0</td>\n",
       "      <td>English</td>\n",
       "      <td>UK</td>\n",
       "      <td>PG-13</td>\n",
       "      <td>200000000.0$</td>\n",
       "      <td>2008.0</td>\n",
       "      <td>412.0</td>\n",
       "      <td>6.7</td>\n",
       "      <td>2.35</td>\n",
       "      <td>0</td>\n",
       "      <td>90-120</td>\n",
       "    </tr>\n",
       "    <tr>\n",
       "      <th>16</th>\n",
       "      <td>Color</td>\n",
       "      <td>Andrew Adamson</td>\n",
       "      <td>258.0</td>\n",
       "      <td>150.0</td>\n",
       "      <td>80.0</td>\n",
       "      <td>201.0</td>\n",
       "      <td>Pierfrancesco Favino</td>\n",
       "      <td>22000.0</td>\n",
       "      <td>141614023.0</td>\n",
       "      <td>Action|Adventure|Family|Fantasy</td>\n",
       "      <td>Peter Dinklage</td>\n",
       "      <td>The Chronicles of Narnia: Prince Caspian</td>\n",
       "      <td>149922</td>\n",
       "      <td>22697</td>\n",
       "      <td>Damián Alcázar</td>\n",
       "      <td>4.0</td>\n",
       "      <td>brother brother relationship|brother sister re...</td>\n",
       "      <td>http://www.imdb.com/title/tt0499448/?ref_=fn_t...</td>\n",
       "      <td>438.0</td>\n",
       "      <td>English</td>\n",
       "      <td>USA</td>\n",
       "      <td>PG</td>\n",
       "      <td>225000000.0$</td>\n",
       "      <td>2008.0</td>\n",
       "      <td>216.0</td>\n",
       "      <td>6.6</td>\n",
       "      <td>2.35</td>\n",
       "      <td>0</td>\n",
       "      <td>&gt;120</td>\n",
       "    </tr>\n",
       "    <tr>\n",
       "      <th>54</th>\n",
       "      <td>Color</td>\n",
       "      <td>Steven Spielberg</td>\n",
       "      <td>470.0</td>\n",
       "      <td>122.0</td>\n",
       "      <td>14000.0</td>\n",
       "      <td>1000.0</td>\n",
       "      <td>Ray Winstone</td>\n",
       "      <td>11000.0</td>\n",
       "      <td>317011114.0</td>\n",
       "      <td>Action|Adventure|Fantasy</td>\n",
       "      <td>Harrison Ford</td>\n",
       "      <td>Indiana Jones and the Kingdom of the Crystal S...</td>\n",
       "      <td>333847</td>\n",
       "      <td>14959</td>\n",
       "      <td>Jim Broadbent</td>\n",
       "      <td>2.0</td>\n",
       "      <td>cult figure|femme fatale|indiana jones|unsubti...</td>\n",
       "      <td>http://www.imdb.com/title/tt0367882/?ref_=fn_t...</td>\n",
       "      <td>2054.0</td>\n",
       "      <td>English</td>\n",
       "      <td>USA</td>\n",
       "      <td>PG-13</td>\n",
       "      <td>185000000.0$</td>\n",
       "      <td>2008.0</td>\n",
       "      <td>1000.0</td>\n",
       "      <td>6.2</td>\n",
       "      <td>2.35</td>\n",
       "      <td>5000</td>\n",
       "      <td>&gt;120</td>\n",
       "    </tr>\n",
       "    <tr>\n",
       "      <th>58</th>\n",
       "      <td>Color</td>\n",
       "      <td>Andrew Stanton</td>\n",
       "      <td>421.0</td>\n",
       "      <td>98.0</td>\n",
       "      <td>475.0</td>\n",
       "      <td>522.0</td>\n",
       "      <td>Fred Willard</td>\n",
       "      <td>1000.0</td>\n",
       "      <td>223806889.0</td>\n",
       "      <td>Adventure|Animation|Family|Sci-Fi</td>\n",
       "      <td>John Ratzenberger</td>\n",
       "      <td>WALL·E</td>\n",
       "      <td>718837</td>\n",
       "      <td>2975</td>\n",
       "      <td>Jeff Garlin</td>\n",
       "      <td>0.0</td>\n",
       "      <td>earth|obesity|plant|robot|soil</td>\n",
       "      <td>http://www.imdb.com/title/tt0910970/?ref_=fn_t...</td>\n",
       "      <td>1043.0</td>\n",
       "      <td>English</td>\n",
       "      <td>USA</td>\n",
       "      <td>G</td>\n",
       "      <td>180000000.0$</td>\n",
       "      <td>2008.0</td>\n",
       "      <td>729.0</td>\n",
       "      <td>8.4</td>\n",
       "      <td>2.35</td>\n",
       "      <td>16000</td>\n",
       "      <td>90-120</td>\n",
       "    </tr>\n",
       "    <tr>\n",
       "      <th>66</th>\n",
       "      <td>Color</td>\n",
       "      <td>Christopher Nolan</td>\n",
       "      <td>645.0</td>\n",
       "      <td>152.0</td>\n",
       "      <td>22000.0</td>\n",
       "      <td>11000.0</td>\n",
       "      <td>Heath Ledger</td>\n",
       "      <td>23000.0</td>\n",
       "      <td>533316061.0</td>\n",
       "      <td>Action|Crime|Drama|Thriller</td>\n",
       "      <td>Christian Bale</td>\n",
       "      <td>The Dark Knight</td>\n",
       "      <td>1676169</td>\n",
       "      <td>57802</td>\n",
       "      <td>Morgan Freeman</td>\n",
       "      <td>0.0</td>\n",
       "      <td>based on comic book|dc comics|psychopath|star ...</td>\n",
       "      <td>http://www.imdb.com/title/tt0468569/?ref_=fn_t...</td>\n",
       "      <td>4667.0</td>\n",
       "      <td>English</td>\n",
       "      <td>USA</td>\n",
       "      <td>PG-13</td>\n",
       "      <td>185000000.0$</td>\n",
       "      <td>2008.0</td>\n",
       "      <td>13000.0</td>\n",
       "      <td>9.0</td>\n",
       "      <td>2.35</td>\n",
       "      <td>37000</td>\n",
       "      <td>&gt;120</td>\n",
       "    </tr>\n",
       "  </tbody>\n",
       "</table>\n",
       "</div>"
      ],
      "text/plain": [
       "    color      director_name  num_critic_for_reviews  duration  \\\n",
       "12  Color       Marc Forster                   403.0     106.0   \n",
       "16  Color     Andrew Adamson                   258.0     150.0   \n",
       "54  Color   Steven Spielberg                   470.0     122.0   \n",
       "58  Color     Andrew Stanton                   421.0      98.0   \n",
       "66  Color  Christopher Nolan                   645.0     152.0   \n",
       "\n",
       "    director_facebook_likes  actor_3_facebook_likes          actor_2_name  \\\n",
       "12                    395.0                   393.0       Mathieu Amalric   \n",
       "16                     80.0                   201.0  Pierfrancesco Favino   \n",
       "54                  14000.0                  1000.0          Ray Winstone   \n",
       "58                    475.0                   522.0          Fred Willard   \n",
       "66                  22000.0                 11000.0          Heath Ledger   \n",
       "\n",
       "    actor_1_facebook_likes        gross                             genres  \\\n",
       "12                   451.0  168368427.0                   Action|Adventure   \n",
       "16                 22000.0  141614023.0    Action|Adventure|Family|Fantasy   \n",
       "54                 11000.0  317011114.0           Action|Adventure|Fantasy   \n",
       "58                  1000.0  223806889.0  Adventure|Animation|Family|Sci-Fi   \n",
       "66                 23000.0  533316061.0        Action|Crime|Drama|Thriller   \n",
       "\n",
       "          actor_1_name                                        movie_title  \\\n",
       "12  Giancarlo Giannini                                 Quantum of Solace    \n",
       "16      Peter Dinklage          The Chronicles of Narnia: Prince Caspian    \n",
       "54       Harrison Ford  Indiana Jones and the Kingdom of the Crystal S...   \n",
       "58   John Ratzenberger                                            WALL·E    \n",
       "66      Christian Bale                                   The Dark Knight    \n",
       "\n",
       "    num_voted_users  cast_total_facebook_likes    actor_3_name  \\\n",
       "12           330784                       2023    Rory Kinnear   \n",
       "16           149922                      22697  Damián Alcázar   \n",
       "54           333847                      14959   Jim Broadbent   \n",
       "58           718837                       2975     Jeff Garlin   \n",
       "66          1676169                      57802  Morgan Freeman   \n",
       "\n",
       "    facenumber_in_poster                                      plot_keywords  \\\n",
       "12                   1.0  action hero|attempted rape|bond girl|official ...   \n",
       "16                   4.0  brother brother relationship|brother sister re...   \n",
       "54                   2.0  cult figure|femme fatale|indiana jones|unsubti...   \n",
       "58                   0.0                     earth|obesity|plant|robot|soil   \n",
       "66                   0.0  based on comic book|dc comics|psychopath|star ...   \n",
       "\n",
       "                                      movie_imdb_link  num_user_for_reviews  \\\n",
       "12  http://www.imdb.com/title/tt0830515/?ref_=fn_t...                1243.0   \n",
       "16  http://www.imdb.com/title/tt0499448/?ref_=fn_t...                 438.0   \n",
       "54  http://www.imdb.com/title/tt0367882/?ref_=fn_t...                2054.0   \n",
       "58  http://www.imdb.com/title/tt0910970/?ref_=fn_t...                1043.0   \n",
       "66  http://www.imdb.com/title/tt0468569/?ref_=fn_t...                4667.0   \n",
       "\n",
       "   language country content_rating        budget  title_year  \\\n",
       "12  English      UK          PG-13  200000000.0$      2008.0   \n",
       "16  English     USA             PG  225000000.0$      2008.0   \n",
       "54  English     USA          PG-13  185000000.0$      2008.0   \n",
       "58  English     USA              G  180000000.0$      2008.0   \n",
       "66  English     USA          PG-13  185000000.0$      2008.0   \n",
       "\n",
       "    actor_2_facebook_likes  imdb_score  aspect_ratio  movie_facebook_likes  \\\n",
       "12                   412.0         6.7          2.35                     0   \n",
       "16                   216.0         6.6          2.35                     0   \n",
       "54                  1000.0         6.2          2.35                  5000   \n",
       "58                   729.0         8.4          2.35                 16000   \n",
       "66                 13000.0         9.0          2.35                 37000   \n",
       "\n",
       "   duration_bin  \n",
       "12       90-120  \n",
       "16         >120  \n",
       "54         >120  \n",
       "58       90-120  \n",
       "66         >120  "
      ]
     },
     "execution_count": 12,
     "metadata": {},
     "output_type": "execute_result"
    },
    {
     "data": {
      "application/javascript": [
       "\n",
       "            setTimeout(function() {\n",
       "                var nbb_cell_id = 12;\n",
       "                var nbb_unformatted_code = \"# 1.7. How many films between 90 minutes and two hours long were released in 2008?\\nfilms_90to120_2008 = df[df[\\\"title_year\\\"] == 2008]\\nfilms_90to120_2008.head()\";\n",
       "                var nbb_formatted_code = \"# 1.7. How many films between 90 minutes and two hours long were released in 2008?\\nfilms_90to120_2008 = df[df[\\\"title_year\\\"] == 2008]\\nfilms_90to120_2008.head()\";\n",
       "                var nbb_cells = Jupyter.notebook.get_cells();\n",
       "                for (var i = 0; i < nbb_cells.length; ++i) {\n",
       "                    if (nbb_cells[i].input_prompt_number == nbb_cell_id) {\n",
       "                        if (nbb_cells[i].get_text() == nbb_unformatted_code) {\n",
       "                             nbb_cells[i].set_text(nbb_formatted_code);\n",
       "                        }\n",
       "                        break;\n",
       "                    }\n",
       "                }\n",
       "            }, 500);\n",
       "            "
      ],
      "text/plain": [
       "<IPython.core.display.Javascript object>"
      ]
     },
     "metadata": {},
     "output_type": "display_data"
    }
   ],
   "source": [
    "# 1.7. How many films between 90 minutes and two hours long were released in 2008?\n",
    "films_90to120_2008 = df[df[\"title_year\"] == 2008]\n",
    "films_90to120_2008.head()"
   ]
  },
  {
   "cell_type": "code",
   "execution_count": 13,
   "id": "0ac12044",
   "metadata": {},
   "outputs": [
    {
     "data": {
      "text/plain": [
       "90-120    147\n",
       "< 90       42\n",
       ">120       36\n",
       "Name: duration_bin, dtype: int64"
      ]
     },
     "execution_count": 13,
     "metadata": {},
     "output_type": "execute_result"
    },
    {
     "data": {
      "application/javascript": [
       "\n",
       "            setTimeout(function() {\n",
       "                var nbb_cell_id = 13;\n",
       "                var nbb_unformatted_code = \"films_90to120_2008[\\\"duration_bin\\\"].value_counts()  # 1 for percentages)\";\n",
       "                var nbb_formatted_code = \"films_90to120_2008[\\\"duration_bin\\\"].value_counts()  # 1 for percentages)\";\n",
       "                var nbb_cells = Jupyter.notebook.get_cells();\n",
       "                for (var i = 0; i < nbb_cells.length; ++i) {\n",
       "                    if (nbb_cells[i].input_prompt_number == nbb_cell_id) {\n",
       "                        if (nbb_cells[i].get_text() == nbb_unformatted_code) {\n",
       "                             nbb_cells[i].set_text(nbb_formatted_code);\n",
       "                        }\n",
       "                        break;\n",
       "                    }\n",
       "                }\n",
       "            }, 500);\n",
       "            "
      ],
      "text/plain": [
       "<IPython.core.display.Javascript object>"
      ]
     },
     "metadata": {},
     "output_type": "display_data"
    }
   ],
   "source": [
    "films_90to120_2008[\"duration_bin\"].value_counts()  # 1 for percentages)"
   ]
  },
  {
   "cell_type": "markdown",
   "id": "326b6f7b",
   "metadata": {},
   "source": [
    "Obeservations:\n",
    "* There where 147 films with duration between 90-120 mins released in 2008, \n",
    "* This represents 65% of the films released in that year"
   ]
  },
  {
   "cell_type": "markdown",
   "id": "de052505",
   "metadata": {},
   "source": [
    "1.8. The plot_keywords column holds keywords characterizing the film's plot. Using the data\n",
    "in this column, create a column called movie_plot_category, to contain four categories\n",
    "depending on the key words in the column:\n",
    "\n",
    "* Category \"love_and_death\" if the keywords include both \"love\" and \"death\"\n",
    "* Category \"love\" if the keywords include the word \"love\"\n",
    "* Category \"death\" if the keywords include the word \"death\"\n",
    "* Category \"other\" if the keywords do not meet the conditions above\n"
   ]
  },
  {
   "cell_type": "code",
   "execution_count": 14,
   "id": "8d2f6b0f",
   "metadata": {},
   "outputs": [
    {
     "data": {
      "application/javascript": [
       "\n",
       "            setTimeout(function() {\n",
       "                var nbb_cell_id = 14;\n",
       "                var nbb_unformatted_code = \"movie_plot_category = []\\nfor i in df.plot_keywords:\\n    if \\\"love\\\" in str(i) and \\\"death\\\" in str(i):\\n        movie_plot_category.append(\\\"love_and_death\\\")\\n    elif \\\"love\\\" in str(i):\\n        movie_plot_category.append(\\\"love\\\")\\n    elif \\\"death\\\" in str(i):\\n        movie_plot_category.append(\\\"death\\\")\\n    else:\\n        movie_plot_category.append(\\\"others\\\")\\ndf[\\\"movie_plot_category\\\"] = movie_plot_category\";\n",
       "                var nbb_formatted_code = \"movie_plot_category = []\\nfor i in df.plot_keywords:\\n    if \\\"love\\\" in str(i) and \\\"death\\\" in str(i):\\n        movie_plot_category.append(\\\"love_and_death\\\")\\n    elif \\\"love\\\" in str(i):\\n        movie_plot_category.append(\\\"love\\\")\\n    elif \\\"death\\\" in str(i):\\n        movie_plot_category.append(\\\"death\\\")\\n    else:\\n        movie_plot_category.append(\\\"others\\\")\\ndf[\\\"movie_plot_category\\\"] = movie_plot_category\";\n",
       "                var nbb_cells = Jupyter.notebook.get_cells();\n",
       "                for (var i = 0; i < nbb_cells.length; ++i) {\n",
       "                    if (nbb_cells[i].input_prompt_number == nbb_cell_id) {\n",
       "                        if (nbb_cells[i].get_text() == nbb_unformatted_code) {\n",
       "                             nbb_cells[i].set_text(nbb_formatted_code);\n",
       "                        }\n",
       "                        break;\n",
       "                    }\n",
       "                }\n",
       "            }, 500);\n",
       "            "
      ],
      "text/plain": [
       "<IPython.core.display.Javascript object>"
      ]
     },
     "metadata": {},
     "output_type": "display_data"
    }
   ],
   "source": [
    "movie_plot_category = []\n",
    "for i in df.plot_keywords:\n",
    "    if \"love\" in str(i) and \"death\" in str(i):\n",
    "        movie_plot_category.append(\"love_and_death\")\n",
    "    elif \"love\" in str(i):\n",
    "        movie_plot_category.append(\"love\")\n",
    "    elif \"death\" in str(i):\n",
    "        movie_plot_category.append(\"death\")\n",
    "    else:\n",
    "        movie_plot_category.append(\"others\")\n",
    "df[\"movie_plot_category\"] = movie_plot_category"
   ]
  },
  {
   "cell_type": "markdown",
   "id": "d98e490b",
   "metadata": {},
   "source": [
    "### 1.9. The imdb_score column shows a viewer rating for the film. \n",
    "* Build a table to reflect the average rating of films depending on which movie_plot_category category they belong to.\n"
   ]
  },
  {
   "cell_type": "code",
   "execution_count": 15,
   "id": "982e0df0",
   "metadata": {
    "scrolled": true
   },
   "outputs": [
    {
     "data": {
      "text/html": [
       "<div>\n",
       "<style scoped>\n",
       "    .dataframe tbody tr th:only-of-type {\n",
       "        vertical-align: middle;\n",
       "    }\n",
       "\n",
       "    .dataframe tbody tr th {\n",
       "        vertical-align: top;\n",
       "    }\n",
       "\n",
       "    .dataframe thead th {\n",
       "        text-align: right;\n",
       "    }\n",
       "</style>\n",
       "<table border=\"1\" class=\"dataframe\">\n",
       "  <thead>\n",
       "    <tr style=\"text-align: right;\">\n",
       "      <th></th>\n",
       "      <th>imdb_score</th>\n",
       "    </tr>\n",
       "    <tr>\n",
       "      <th>movie_plot_category</th>\n",
       "      <th></th>\n",
       "    </tr>\n",
       "  </thead>\n",
       "  <tbody>\n",
       "    <tr>\n",
       "      <th>death</th>\n",
       "      <td>6.535465</td>\n",
       "    </tr>\n",
       "    <tr>\n",
       "      <th>love</th>\n",
       "      <td>6.580769</td>\n",
       "    </tr>\n",
       "    <tr>\n",
       "      <th>love_and_death</th>\n",
       "      <td>6.506250</td>\n",
       "    </tr>\n",
       "    <tr>\n",
       "      <th>others</th>\n",
       "      <td>6.431422</td>\n",
       "    </tr>\n",
       "  </tbody>\n",
       "</table>\n",
       "</div>"
      ],
      "text/plain": [
       "                     imdb_score\n",
       "movie_plot_category            \n",
       "death                  6.535465\n",
       "love                   6.580769\n",
       "love_and_death         6.506250\n",
       "others                 6.431422"
      ]
     },
     "execution_count": 15,
     "metadata": {},
     "output_type": "execute_result"
    },
    {
     "data": {
      "application/javascript": [
       "\n",
       "            setTimeout(function() {\n",
       "                var nbb_cell_id = 15;\n",
       "                var nbb_unformatted_code = \"b = pd.DataFrame(df.groupby(by=\\\"movie_plot_category\\\")[\\\"imdb_score\\\"].mean())\\nb\";\n",
       "                var nbb_formatted_code = \"b = pd.DataFrame(df.groupby(by=\\\"movie_plot_category\\\")[\\\"imdb_score\\\"].mean())\\nb\";\n",
       "                var nbb_cells = Jupyter.notebook.get_cells();\n",
       "                for (var i = 0; i < nbb_cells.length; ++i) {\n",
       "                    if (nbb_cells[i].input_prompt_number == nbb_cell_id) {\n",
       "                        if (nbb_cells[i].get_text() == nbb_unformatted_code) {\n",
       "                             nbb_cells[i].set_text(nbb_formatted_code);\n",
       "                        }\n",
       "                        break;\n",
       "                    }\n",
       "                }\n",
       "            }, 500);\n",
       "            "
      ],
      "text/plain": [
       "<IPython.core.display.Javascript object>"
      ]
     },
     "metadata": {},
     "output_type": "display_data"
    }
   ],
   "source": [
    "b = pd.DataFrame(df.groupby(by=\"movie_plot_category\")[\"imdb_score\"].mean())\n",
    "b"
   ]
  },
  {
   "cell_type": "markdown",
   "id": "54b315f4",
   "metadata": {},
   "source": [
    "### 1.10. What is the average rating of films in the \"love\" category? \n",
    "*Give the answer as a floatingpoint figure rounded to two decimal places."
   ]
  },
  {
   "cell_type": "code",
   "execution_count": 16,
   "id": "a0441b4f",
   "metadata": {},
   "outputs": [
    {
     "name": "stdout",
     "output_type": "stream",
     "text": [
      "The average rating of films in the love category is 6.58\n"
     ]
    },
    {
     "data": {
      "application/javascript": [
       "\n",
       "            setTimeout(function() {\n",
       "                var nbb_cell_id = 16;\n",
       "                var nbb_unformatted_code = \"love_avg = np.round(float(b[b.index == \\\"love\\\"][\\\"imdb_score\\\"]), 2)\\nprint(f\\\"The average rating of films in the love category is {love_avg}\\\")\";\n",
       "                var nbb_formatted_code = \"love_avg = np.round(float(b[b.index == \\\"love\\\"][\\\"imdb_score\\\"]), 2)\\nprint(f\\\"The average rating of films in the love category is {love_avg}\\\")\";\n",
       "                var nbb_cells = Jupyter.notebook.get_cells();\n",
       "                for (var i = 0; i < nbb_cells.length; ++i) {\n",
       "                    if (nbb_cells[i].input_prompt_number == nbb_cell_id) {\n",
       "                        if (nbb_cells[i].get_text() == nbb_unformatted_code) {\n",
       "                             nbb_cells[i].set_text(nbb_formatted_code);\n",
       "                        }\n",
       "                        break;\n",
       "                    }\n",
       "                }\n",
       "            }, 500);\n",
       "            "
      ],
      "text/plain": [
       "<IPython.core.display.Javascript object>"
      ]
     },
     "metadata": {},
     "output_type": "display_data"
    }
   ],
   "source": [
    "love_avg = np.round(float(b[b.index == \"love\"][\"imdb_score\"]), 2)\n",
    "print(f\"The average rating of films in the love category is {love_avg}\")"
   ]
  },
  {
   "cell_type": "code",
   "execution_count": 17,
   "id": "06d7befb",
   "metadata": {},
   "outputs": [
    {
     "data": {
      "text/plain": [
       "0       237000000.0$\n",
       "1       300000000.0$\n",
       "2       245000000.0$\n",
       "3       250000000.0$\n",
       "4               0.0$\n",
       "            ...     \n",
       "5038            0.0$\n",
       "5039            0.0$\n",
       "5040         1400.0$\n",
       "5041            0.0$\n",
       "5042         1100.0$\n",
       "Name: budget, Length: 5043, dtype: object"
      ]
     },
     "execution_count": 17,
     "metadata": {},
     "output_type": "execute_result"
    },
    {
     "data": {
      "application/javascript": [
       "\n",
       "            setTimeout(function() {\n",
       "                var nbb_cell_id = 17;\n",
       "                var nbb_unformatted_code = \"# 1.11. The budget column contains the film's budget. What is the median budget for all the films listed?\\n# Give the answer as an integer.\\ndf[\\\"budget\\\"]\";\n",
       "                var nbb_formatted_code = \"# 1.11. The budget column contains the film's budget. What is the median budget for all the films listed?\\n# Give the answer as an integer.\\ndf[\\\"budget\\\"]\";\n",
       "                var nbb_cells = Jupyter.notebook.get_cells();\n",
       "                for (var i = 0; i < nbb_cells.length; ++i) {\n",
       "                    if (nbb_cells[i].input_prompt_number == nbb_cell_id) {\n",
       "                        if (nbb_cells[i].get_text() == nbb_unformatted_code) {\n",
       "                             nbb_cells[i].set_text(nbb_formatted_code);\n",
       "                        }\n",
       "                        break;\n",
       "                    }\n",
       "                }\n",
       "            }, 500);\n",
       "            "
      ],
      "text/plain": [
       "<IPython.core.display.Javascript object>"
      ]
     },
     "metadata": {},
     "output_type": "display_data"
    }
   ],
   "source": [
    "# 1.11. The budget column contains the film's budget. What is the median budget for all the films listed?\n",
    "# Give the answer as an integer.\n",
    "df[\"budget\"]"
   ]
  },
  {
   "cell_type": "code",
   "execution_count": 18,
   "id": "93bdeaef",
   "metadata": {},
   "outputs": [
    {
     "name": "stdout",
     "output_type": "stream",
     "text": [
      "The median budget for all the films listed is: $ 15000000\n"
     ]
    },
    {
     "data": {
      "application/javascript": [
       "\n",
       "            setTimeout(function() {\n",
       "                var nbb_cell_id = 18;\n",
       "                var nbb_unformatted_code = \"def budget_to_num(budget_val):\\n    \\\"\\\"\\\"This function takes in a string representing a budget and converts it to a number.\\n    If the input is already numeric, which probably means it's NaN,\\n    this function just returns np.nan.\\\"\\\"\\\"\\n\\n    if isinstance(budget_val, str):  # checks if `income_val` is a string\\n        if budget_val.endswith(\\\".0$\\\"):\\n            return int(budget_val.replace(\\\".0$\\\", \\\"\\\"))\\n    else:  # this happens when the current income is np.nan\\n        return np.nan\\n\\n\\ndf[\\\"budget_value\\\"] = df[\\\"budget\\\"].apply(budget_to_num)\\nmedian = int(df[\\\"budget_value\\\"].median())\\nprint(f\\\"The median budget for all the films listed is: $ {median}\\\")\";\n",
       "                var nbb_formatted_code = \"def budget_to_num(budget_val):\\n    \\\"\\\"\\\"This function takes in a string representing a budget and converts it to a number.\\n    If the input is already numeric, which probably means it's NaN,\\n    this function just returns np.nan.\\\"\\\"\\\"\\n\\n    if isinstance(budget_val, str):  # checks if `income_val` is a string\\n        if budget_val.endswith(\\\".0$\\\"):\\n            return int(budget_val.replace(\\\".0$\\\", \\\"\\\"))\\n    else:  # this happens when the current income is np.nan\\n        return np.nan\\n\\n\\ndf[\\\"budget_value\\\"] = df[\\\"budget\\\"].apply(budget_to_num)\\nmedian = int(df[\\\"budget_value\\\"].median())\\nprint(f\\\"The median budget for all the films listed is: $ {median}\\\")\";\n",
       "                var nbb_cells = Jupyter.notebook.get_cells();\n",
       "                for (var i = 0; i < nbb_cells.length; ++i) {\n",
       "                    if (nbb_cells[i].input_prompt_number == nbb_cell_id) {\n",
       "                        if (nbb_cells[i].get_text() == nbb_unformatted_code) {\n",
       "                             nbb_cells[i].set_text(nbb_formatted_code);\n",
       "                        }\n",
       "                        break;\n",
       "                    }\n",
       "                }\n",
       "            }, 500);\n",
       "            "
      ],
      "text/plain": [
       "<IPython.core.display.Javascript object>"
      ]
     },
     "metadata": {},
     "output_type": "display_data"
    }
   ],
   "source": [
    "def budget_to_num(budget_val):\n",
    "    \"\"\"This function takes in a string representing a budget and converts it to a number.\n",
    "    If the input is already numeric, which probably means it's NaN,\n",
    "    this function just returns np.nan.\"\"\"\n",
    "\n",
    "    if isinstance(budget_val, str):  # checks if `income_val` is a string\n",
    "        if budget_val.endswith(\".0$\"):\n",
    "            return int(budget_val.replace(\".0$\", \"\"))\n",
    "    else:  # this happens when the current income is np.nan\n",
    "        return np.nan\n",
    "\n",
    "\n",
    "df[\"budget_value\"] = df[\"budget\"].apply(budget_to_num)\n",
    "median = int(df[\"budget_value\"].median())\n",
    "print(f\"The median budget for all the films listed is: $ {median}\")"
   ]
  },
  {
   "cell_type": "markdown",
   "id": "0caa0440",
   "metadata": {},
   "source": [
    "**time for task 1: 30min**"
   ]
  }
 ],
 "metadata": {
  "kernelspec": {
   "display_name": "Python (myenv)",
   "language": "python",
   "name": "myenv"
  },
  "language_info": {
   "codemirror_mode": {
    "name": "ipython",
    "version": 3
   },
   "file_extension": ".py",
   "mimetype": "text/x-python",
   "name": "python",
   "nbconvert_exporter": "python",
   "pygments_lexer": "ipython3",
   "version": "3.8.8"
  }
 },
 "nbformat": 4,
 "nbformat_minor": 5
}
